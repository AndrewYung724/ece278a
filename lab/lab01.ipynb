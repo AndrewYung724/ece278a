{
 "cells": [
  {
   "cell_type": "markdown",
   "id": "80501d5e",
   "metadata": {},
   "source": [
    "## This notebook is being developed. Please check back early on Monday (09/27).\n",
    "\n",
    "### - TAs"
   ]
  }
 ],
 "metadata": {
  "kernelspec": {
   "display_name": "Python 3",
   "language": "python",
   "name": "python3"
  },
  "language_info": {
   "codemirror_mode": {
    "name": "ipython",
    "version": 3
   },
   "file_extension": ".py",
   "mimetype": "text/x-python",
   "name": "python",
   "nbconvert_exporter": "python",
   "pygments_lexer": "ipython3",
   "version": "3.9.5"
  }
 },
 "nbformat": 4,
 "nbformat_minor": 5
}
