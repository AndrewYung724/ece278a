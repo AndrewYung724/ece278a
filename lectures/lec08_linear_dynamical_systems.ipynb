{
 "cells": [
  {
   "cell_type": "markdown",
   "id": "91af183d",
   "metadata": {
    "slideshow": {
     "slide_type": "slide"
    }
   },
   "source": [
    "# 08 Linear Dynamical Systems"
   ]
  },
  {
   "cell_type": "markdown",
   "id": "d6063c7a",
   "metadata": {},
   "source": [
    "<center>Modeling an epidemic</center>\n",
    "<center><img src=\"figs/08_sir.png\" alt=\"default\" width=550px/></center>"
   ]
  },
  {
   "cell_type": "markdown",
   "id": "19248408",
   "metadata": {
    "slideshow": {
     "slide_type": "slide"
    }
   },
   "source": [
    "#### Unit 1: Vectors, Book ILA Ch. 1-5\n",
    "\n",
    "#### Unit 2: Matrices, Book ILA Ch. 6-11 + Book IMC Ch. 2\n",
    "- **_06 Matrices_**\n",
    "- **_07 Linear Equations_**\n",
    "- 08 Linear Dynamical Systems\n",
    "- 09 Matrix Multiplication\n",
    "- 10 Matrix Inverse\n",
    "\n",
    "#### Unit 3: Least Squares, Book ILA Ch. 12-14 + Book IMC Ch. 8\n",
    "#### Unit 4: Eigen-decomposition, Book IMC Ch. 10, 12, 19"
   ]
  },
  {
   "cell_type": "markdown",
   "id": "5d4e8492",
   "metadata": {
    "slideshow": {
     "slide_type": "slide"
    }
   },
   "source": [
    "# Exercises\n",
    "\n",
    "$\\color{#047C91}{\\text{Exercise}}$: Let $0_n$ be the $n \\times n$ zeroes matrix and $x$ an $n$-vector. Compute $0_nx$.\n",
    "\n",
    "\n",
    "$\\color{#047C91}{\\text{Exercise}}$: Consider a function $f:\\mathbb{R}^n \\rightarrow \\mathbb{R}^m$, that is affine. What is the matrix $A$ and the vector $b$ such that: $f(x) = Ax + b$?"
   ]
  },
  {
   "cell_type": "markdown",
   "id": "d897967c",
   "metadata": {
    "slideshow": {
     "slide_type": "slide"
    }
   },
   "source": [
    "#### Unit 1: Vectors, Book ILA Ch. 1-5\n",
    "\n",
    "#### Unit 2: Matrices, Book ILA Ch. 6-11 + Book IMC Ch. 2\n",
    "- 06 Matrices\n",
    "- 07 Linear Equations\n",
    "- **_08 Linear Dynamical Systems_**\n",
    "- 09 Matrix Multiplication\n",
    "- 10 Matrix Inverse\n",
    "\n",
    "#### Unit 3: Least Squares, Book ILA Ch. 12-14 + Book IMC Ch. 8\n",
    "#### Unit 4: Eigen-decomposition, Book IMC Ch. 10, 12, 19"
   ]
  },
  {
   "cell_type": "markdown",
   "id": "13a91811",
   "metadata": {
    "slideshow": {
     "slide_type": "slide"
    }
   },
   "source": [
    "# Outline: 08 Linear Dynamical Systems\n",
    "\n",
    "- **[Linear dynamical systems](#sec-matrices)**\n",
    "- [Epidemic dynamics](#examples)"
   ]
  },
  {
   "cell_type": "markdown",
   "id": "a23c47ac",
   "metadata": {
    "slideshow": {
     "slide_type": "slide"
    }
   },
   "source": [
    "# State sequence\n",
    "\n",
    "$\\color{#EF5645}{\\text{Definition}}$: Consider a sequence of $n$-vectors $x_1, x_2, ..., x_t, ...$ where $t$ denotes the time or period. Then:\n",
    "- $x_t$ is called a state at time $t$, or a time-point\n",
    "- the sequence $x_1, x_2, ..., x_t, ...$ is called a state trajectory or a time-series. \n",
    "\n",
    "Assuming $t$ is the current time:\n",
    "- $x_t$ is the current state,\n",
    "- $x_{t-1}$ is the previous state,\n",
    "- $x_{t+1}$ is the next state."
   ]
  },
  {
   "cell_type": "markdown",
   "id": "86382dd9",
   "metadata": {
    "slideshow": {
     "slide_type": "slide"
    }
   },
   "source": [
    "# Covid-19 in Santa Barbara"
   ]
  },
  {
   "cell_type": "code",
   "execution_count": 2,
   "id": "aeb66ac3",
   "metadata": {
    "slideshow": {
     "slide_type": "-"
    }
   },
   "outputs": [
    {
     "data": {
      "text/html": [
       "<div>\n",
       "<style scoped>\n",
       "    .dataframe tbody tr th:only-of-type {\n",
       "        vertical-align: middle;\n",
       "    }\n",
       "\n",
       "    .dataframe tbody tr th {\n",
       "        vertical-align: top;\n",
       "    }\n",
       "\n",
       "    .dataframe thead th {\n",
       "        text-align: right;\n",
       "    }\n",
       "</style>\n",
       "<table border=\"1\" class=\"dataframe\">\n",
       "  <thead>\n",
       "    <tr style=\"text-align: right;\">\n",
       "      <th></th>\n",
       "      <th>UID</th>\n",
       "      <th>iso2</th>\n",
       "      <th>iso3</th>\n",
       "      <th>code3</th>\n",
       "      <th>FIPS</th>\n",
       "      <th>Admin2</th>\n",
       "      <th>Province_State</th>\n",
       "      <th>Country_Region</th>\n",
       "      <th>Lat</th>\n",
       "      <th>Long_</th>\n",
       "      <th>...</th>\n",
       "      <th>10/22/21</th>\n",
       "      <th>10/23/21</th>\n",
       "      <th>10/24/21</th>\n",
       "      <th>10/25/21</th>\n",
       "      <th>10/26/21</th>\n",
       "      <th>10/27/21</th>\n",
       "      <th>10/28/21</th>\n",
       "      <th>10/29/21</th>\n",
       "      <th>10/30/21</th>\n",
       "      <th>10/31/21</th>\n",
       "    </tr>\n",
       "  </thead>\n",
       "  <tbody>\n",
       "    <tr>\n",
       "      <th>239</th>\n",
       "      <td>84006083</td>\n",
       "      <td>US</td>\n",
       "      <td>USA</td>\n",
       "      <td>840</td>\n",
       "      <td>6083.0</td>\n",
       "      <td>Santa Barbara</td>\n",
       "      <td>California</td>\n",
       "      <td>US</td>\n",
       "      <td>34.653295</td>\n",
       "      <td>-120.018849</td>\n",
       "      <td>...</td>\n",
       "      <td>45223</td>\n",
       "      <td>45223</td>\n",
       "      <td>45223</td>\n",
       "      <td>45223</td>\n",
       "      <td>45446</td>\n",
       "      <td>45506</td>\n",
       "      <td>45579</td>\n",
       "      <td>45650</td>\n",
       "      <td>45650</td>\n",
       "      <td>45650</td>\n",
       "    </tr>\n",
       "  </tbody>\n",
       "</table>\n",
       "<p>1 rows × 660 columns</p>\n",
       "</div>"
      ],
      "text/plain": [
       "          UID iso2 iso3  code3    FIPS         Admin2 Province_State  \\\n",
       "239  84006083   US  USA    840  6083.0  Santa Barbara     California   \n",
       "\n",
       "    Country_Region        Lat       Long_  ... 10/22/21  10/23/21  10/24/21  \\\n",
       "239             US  34.653295 -120.018849  ...    45223     45223     45223   \n",
       "\n",
       "     10/25/21  10/26/21  10/27/21  10/28/21  10/29/21  10/30/21  10/31/21  \n",
       "239     45223     45446     45506     45579     45650     45650     45650  \n",
       "\n",
       "[1 rows x 660 columns]"
      ]
     },
     "execution_count": 2,
     "metadata": {},
     "output_type": "execute_result"
    }
   ],
   "source": [
    "import pandas as pd\n",
    "\n",
    "filename = 'https://raw.githubusercontent.com/CSSEGISandData/COVID-19/master/csse_covid_19_data/csse_covid_19_time_series/time_series_covid19_confirmed_US.csv'\n",
    "df_covid = pd.read_csv(filename)\n",
    "df_sb = df_covid[df_covid[\"Admin2\"] == \"Santa Barbara\"]\n",
    "df_sb.head()"
   ]
  },
  {
   "cell_type": "code",
   "execution_count": 71,
   "id": "e6ac4b8e",
   "metadata": {
    "slideshow": {
     "slide_type": "slide"
    }
   },
   "outputs": [
    {
     "data": {
      "image/png": "[encoded data removed]",
      "text/plain": [
       "<Figure size 432x288 with 1 Axes>"
      ]
     },
     "metadata": {
      "needs_background": "light"
     },
     "output_type": "display_data"
    }
   ],
   "source": [
    "df_timeseries = df_sb.drop(\n",
    "    columns=[\n",
    "        \"Combined_Key\", \"UID\", \"iso2\", \"iso3\", \"code3\", \n",
    "        \"FIPS\", \"Admin2\", \"Province_State\", \"Country_Region\", \n",
    "        \"Lat\", \"Long_\"])\n",
    "df_timeseries.transpose().plot(\n",
    "    title=\"Santa Barbara's Covid-19 Cases\");"
   ]
  },
  {
   "cell_type": "markdown",
   "id": "834a1ff3",
   "metadata": {
    "slideshow": {
     "slide_type": "slide"
    }
   },
   "source": [
    "# Other Examples\n",
    "\n",
    "- epidemiology: susceptible, infected, recovered and deaths at $t$\n",
    "- mechanics: position and velocity of plane through time $t$\n",
    "- finance: return of $n$ assets at time $t$\n",
    "  \n",
    " \n",
    " $\\color{#047C91}{\\text{Exercise}}$: In these examples, what is the state $x_t$?"
   ]
  },
  {
   "cell_type": "markdown",
   "id": "e2cbac44",
   "metadata": {
    "slideshow": {
     "slide_type": "slide"
    }
   },
   "source": [
    "# Linear Dynamical System\n",
    "\n",
    "$\\color{#EF5645}{\\text{Definition}}$: A linear dynamical system is a linear equation describing the evolution of a state over time, and written as:\n",
    "$$ x_{t+1} = A_t x_t \\quad t = 1, 2, ...$$\n",
    "where:\n",
    "- $A_t$ are $n \\times n$ dynamics matrices,\n",
    "- $(A_t)_{ij} (x_t)_j$ is contribution to $(x_{t+1})_i$ from $(x_t)_j$.\n",
    "\n",
    "The system is called time-invariant if $A_t = A$ does not depend on time."
   ]
  },
  {
   "cell_type": "markdown",
   "id": "d14a0df3",
   "metadata": {
    "slideshow": {
     "slide_type": "slide"
    }
   },
   "source": [
    "$\\color{#003660}{\\text{In Python}}$: We can simulate evolution of $x_t$ using for loops to compute:\n",
    "$$x_{t+1} = A_t x_t$$\n",
    "recursively (see later slide on the epidemics model)."
   ]
  },
  {
   "cell_type": "markdown",
   "id": "e038899d",
   "metadata": {
    "slideshow": {
     "slide_type": "slide"
    }
   },
   "source": [
    "# Variations: Linear Dynamical System with Input\n",
    "\n",
    "$\\color{#EF5645}{\\text{Definition}}$: The following system is called a linear dynamical system with input:\n",
    "$$ x_{t+1} = A_t x_t + B_t u_t + c_t\\quad t = 1, 2, ...$$\n",
    "- $u_t$ is an input $m$-vector\n",
    "- $B_t$ is $n \\times m$ input matrix\n",
    "- $c_t$ is offset."
   ]
  },
  {
   "cell_type": "markdown",
   "id": "7cf29efc",
   "metadata": {
    "slideshow": {
     "slide_type": "slide"
    }
   },
   "source": [
    "# Outline: 08 Linear Dynamical Systems\n",
    "\n",
    "- [Linear dynamical systems](#sec-matrices)\n",
    "- **[Epidemic dynamics](#examples)**"
   ]
  },
  {
   "cell_type": "markdown",
   "id": "165b404b",
   "metadata": {
    "slideshow": {
     "slide_type": "slide"
    }
   },
   "source": [
    "# SIR Model\n",
    "\n",
    "$\\color{#EF5645}{\\text{Definition}}$: The Susceptible-Infected-Recovered (SIR) model of an epidemic is a linear dynamical system defined on a $4$-vector state $x_t$, that gives the proportion of the population in $4$ infection states:\n",
    "- Susceptible: can acquire the disease the next day \n",
    "- Infected: have the disease \n",
    "- Recovered: had the disease, recovered, now immune \n",
    "- Deceased: had the disease, and unfortunately died \n",
    "\n",
    "$\\color{#047C91}{\\text{Example of state}}$: $x_t = (0.75, 0.10, 0.10, 0.05)$\n"
   ]
  },
  {
   "cell_type": "markdown",
   "id": "77cc6822",
   "metadata": {
    "slideshow": {
     "slide_type": "slide"
    }
   },
   "source": [
    "$\\color{#047C91}{\\text{Exercise}}$ Write the linear dynamical system associated to this epidemic.\n",
    "- among susceptible population\n",
    "  - 5% acquires the disease \n",
    "  - 95% remain susceptible\n",
    "- among infected population\n",
    "  - 1% dies\n",
    "  - 10% recovers with immunit\n",
    "  - 4% recover without immunity (i.e., become susceptible) \n",
    "  - 85% remain infected\n",
    "- 100% of immune and dead people remain in their state\n",
    "\n",
    "\n"
   ]
  },
  {
   "cell_type": "markdown",
   "id": "00ce2547",
   "metadata": {
    "slideshow": {
     "slide_type": "slide"
    }
   },
   "source": [
    "# Simulation from $x_0 = (1, 0, 0, 0)$"
   ]
  },
  {
   "cell_type": "code",
   "execution_count": 6,
   "id": "9d680a5f",
   "metadata": {},
   "outputs": [
    {
     "data": {
      "text/plain": [
       "<matplotlib.legend.Legend at 0x126728d60>"
      ]
     },
     "execution_count": 6,
     "metadata": {},
     "output_type": "execute_result"
    },
    {
     "data": {
      "image/png": "[encoded data removed]",
      "text/plain": [
       "<Figure size 432x288 with 1 Axes>"
      ]
     },
     "metadata": {
      "needs_background": "light"
     },
     "output_type": "display_data"
    }
   ],
   "source": [
    "import matplotlib.pyplot as plt\n",
    "import numpy as np\n",
    "x0 = np.array([1, 0, 0, 0])\n",
    "A = np.array([[0.95, 0.04, 0, 0],[0.05, 0.85, 0, 0],[0, 0.1, 1, 0],[0, 0.01, 0, 1]    ])\n",
    "n_times = 50\n",
    "times = np.arange(0, n_times, 1); #print(times)\n",
    "x_current = x0 ; states = []\n",
    "for time in times:\n",
    "    x_next = A @ x_current\n",
    "    states.append(x_current)\n",
    "    x_current = x_next\n",
    "    \n",
    "plt.plot(times, [x[0] for x in states], label=\"susceptible\")\n",
    "plt.plot(times, [x[1] for x in states], label=\"infected\")\n",
    "plt.plot(times, [x[2] for x in states], label=\"recovered\")\n",
    "plt.plot(times, [x[3] for x in states], label=\"deaths\")\n",
    "\n",
    "plt.legend()"
   ]
  },
  {
   "cell_type": "markdown",
   "id": "a455e378",
   "metadata": {
    "slideshow": {
     "slide_type": "slide"
    }
   },
   "source": [
    "# Outline: 08 Linear Dynamical Systems\n",
    "\n",
    "- [Linear dynamical systems](#sec-matrices)\n",
    "- **[Epidemic dynamics](#examples)**\n",
    "\n",
    "Resources: Book ILA Ch. 09"
   ]
  }
 ],
 "metadata": {
  "celltoolbar": "Slideshow",
  "kernelspec": {
   "display_name": "Python 3 (ipykernel)",
   "language": "python",
   "name": "python3"
  },
  "language_info": {
   "codemirror_mode": {
    "name": "ipython",
    "version": 3
   },
   "file_extension": ".py",
   "mimetype": "text/x-python",
   "name": "python",
   "nbconvert_exporter": "python",
   "pygments_lexer": "ipython3",
   "version": "3.9.7"
  }
 },
 "nbformat": 4,
 "nbformat_minor": 5
}
