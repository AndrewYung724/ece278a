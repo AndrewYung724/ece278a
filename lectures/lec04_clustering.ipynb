{
 "cells": [
  {
   "cell_type": "markdown",
   "id": "eb30ebf8",
   "metadata": {
    "id": "eb30ebf8",
    "slideshow": {
     "slide_type": "slide"
    }
   },
   "source": [
    "# 04 Clustering"
   ]
  },
  {
   "cell_type": "markdown",
   "id": "2f73eead",
   "metadata": {
    "cell_style": "split",
    "id": "2fcc5e35"
   },
   "source": [
    "<center><img src=\"figs/04_clustering.jpg\" alt=\"default\" width=550px/></center>\n"
   ]
  },
  {
   "cell_type": "markdown",
   "id": "ef91249e",
   "metadata": {
    "cell_style": "split"
   },
   "source": [
    "<center><img src=\"figs/04_mnist.png\" alt=\"default\" width=450px/></center>\n"
   ]
  },
  {
   "cell_type": "markdown",
   "id": "9abf7f98",
   "metadata": {
    "id": "9abf7f98",
    "slideshow": {
     "slide_type": "slide"
    }
   },
   "source": [
    "#### Unit 1: Vectors, Book ILA Ch. 1-5\n",
    "- 01 Vectors\n",
    "- 02 Linear Functions\n",
    "- 03 Norms and Distances\n",
    "- **_04 Clustering_**\n",
    "- 05 Linear Independence\n",
    "\n",
    "#### Unit 2: Matrices, Book ILA Ch. 6-11 + Book IMC Ch. 2\n",
    "#### Unit 3: Least Squares, Book ILA Ch. 12-14 + Book IMC Ch. 8\n",
    "#### Unit 4: Eigen-decomposition, Book IMC Ch. 10, 12, 19"
   ]
  },
  {
   "cell_type": "markdown",
   "id": "c8e17d04",
   "metadata": {
    "id": "0156bdcf",
    "slideshow": {
     "slide_type": "slide"
    }
   },
   "source": [
    "# Outline: 04 Clustering\n",
    "\n",
    "- [Clustering](#Clustering)\n",
    "- [Algorithm](#Algorithm)\n",
    "- [Examples](#Examples)\n",
    "- [Applications](#Applications)"
   ]
  },
  {
   "cell_type": "markdown",
   "id": "f46caded",
   "metadata": {
    "slideshow": {
     "slide_type": "slide"
    }
   },
   "source": [
    "# Outline: 04 Clustering\n",
    "\n",
    "- **[Clustering](#Clustering)**\n",
    "- [Algorithm](#Algorithm)\n",
    "- [Examples](#Examples)\n",
    "- [Applications](#Applications)"
   ]
  },
  {
   "cell_type": "markdown",
   "id": "d29b82dd",
   "metadata": {
    "slideshow": {
     "slide_type": "slide"
    }
   },
   "source": [
    "# Clustering in Machine Learning\n"
   ]
  },
  {
   "cell_type": "markdown",
   "id": "d333ccb6",
   "metadata": {},
   "source": [
    "<center>  </center>\n",
    "<center><img src=\"figs/04_ai.png\" alt=\"default\" width=1500px/></center>"
   ]
  },
  {
   "cell_type": "markdown",
   "id": "9039b627",
   "metadata": {
    "slideshow": {
     "slide_type": "slide"
    }
   },
   "source": [
    "# Clustering: Goal (Intuition)"
   ]
  },
  {
   "cell_type": "markdown",
   "id": "59d47f0a",
   "metadata": {},
   "source": [
    "- Given: (i) dataset of $N$ $n$-vectors $x_1, . . . , x_N$, (ii) integer $k$,\n",
    "- $\\color{#EF5645}{\\text{Goal (Intuition)}}$:\n",
    "  - Partition/Group/Cluster $N$ vectors into $k$ groups/clusters...\n",
    "  - ... such that: vectors in the same group are \"close\".\n",
    "\n",
    "<center><img src=\"figs/04_clustering.jpg\" alt=\"default\" width=380px/></center>\n",
    "\n",
    "$\\color{#047C91}{\\text{Exercise}}$: What is $k$ in the figure above? What is $n$? What is $N$?\n",
    "\n"
   ]
  },
  {
   "cell_type": "markdown",
   "id": "f683ba37",
   "metadata": {
    "slideshow": {
     "slide_type": "slide"
    }
   },
   "source": [
    "# Clustering in ECE\n",
    "\n",
    "- topic discovery and document clustering \n",
    "  - $x_i$ is word count vector for document $i$\n",
    "- patient clustering \n",
    "  - $x_i$ are patient attributes, test results, symptoms for patient $i$\n",
    "- customer market \"segmentation\"\n",
    "  - $x_i$ is purchase history and other attributes of customer $i$ \n",
    "- financial sectors \n",
    "  - $x_i$ are $n$-vectors of financial attributes of company $i$\n"
   ]
  },
  {
   "cell_type": "markdown",
   "id": "9f066ce9",
   "metadata": {
    "cell_style": "center",
    "slideshow": {
     "slide_type": "slide"
    }
   },
   "source": [
    "# Clustering: Goal (Math)\n",
    "\n",
    "- $\\color{#EF5645}{\\text{Notations}}$:\n",
    "  - Group $G_j$ for $j=1, ..., k$: Set of indices in $1, ..., N$ representing which vectors belong to the group.\n",
    "  - Assignment $c_i$ for $i=1,...,k$: Group that $x_i$ is in: $i \\in G_{c_i}$\n",
    "  - Group representative $z_j$ for $j=1, ..., k$: $n$-vector that represents a typical element of the group $G_j$.\n",
    "\n",
    "- $\\color{#EF5645}{\\text{Goal (Math)}}$: Find $c_i$ and $z_j$ to minimize $J^{clust} = \\frac{1}{N}\\sum_{i=1}^N ||x_i - z_{c_i}||^2$\n",
    ", i.e. the mean square distance from vectors to their representatives.\n"
   ]
  },
  {
   "cell_type": "markdown",
   "id": "e72aea0d",
   "metadata": {
    "slideshow": {
     "slide_type": "slide"
    }
   },
   "source": [
    "# Outline: 04 Clustering\n",
    "\n",
    "- [Clustering](#sec-lustering)\n",
    "- **[Algorithm](#Algorithm)**\n",
    "- [Examples](#Examples)\n",
    "- [Applications](#Applications)"
   ]
  },
  {
   "cell_type": "markdown",
   "id": "129b580e",
   "metadata": {
    "slideshow": {
     "slide_type": "slide"
    }
   },
   "source": [
    "# K-means algorithm\n",
    "\n",
    "\n",
    "- Alternate between:\n",
    "  - (i) update the groups, i.e the group assignments $c_1, ..., c_N$, \n",
    "  - (ii) update the representatives $z_1, ..., z_k$.\n",
    "  \n",
    "- Such that the objective $J^{clust}$ decreases at each step."
   ]
  },
  {
   "cell_type": "markdown",
   "id": "6b3596a2",
   "metadata": {
    "slideshow": {
     "slide_type": "slide"
    }
   },
   "source": [
    "# (i) Update the groups\n",
    "\n",
    "- Given: representatives $z_1, ..., z_k$\n",
    "- $\\color{#EF5645}{\\text{Goal for (i)}}$: Assign vectors to groups, i.e. choose $c_1, ..., c_N$\n",
    "  - We assign each vector to its nearest representative. Justification:\n",
    "    - Observe: $c_i$ only appears in term $||x_i - z_{c_i}||^2$ in $J^{clust}$\n",
    "    - Conclude: to minimize over $c_i$, choose $c_i$ so $‖x_i − z_{c_i} ‖^2 = min_{j \\in \\{1, ..., k\\}} ‖x_i − z_j ‖^2$.\n"
   ]
  },
  {
   "cell_type": "markdown",
   "id": "54df2da4",
   "metadata": {
    "slideshow": {
     "slide_type": "slide"
    }
   },
   "source": [
    "# (ii) Update the representatives\n",
    "\n",
    "- Given the partition $G_1, . . . , G_k$\n",
    "- $\\color{#EF5645}{\\text{Goal for (ii)}}$: Choose representatives $z_1, . . . , z_k$\n",
    "  - Choose $z_j$ = mean of the points in group $j$. Justification:\n",
    "    - Observe: $J^{clust}$ splits into a sum of $k$ sums: \n",
    "$$J^{clust} = J_1 + · · · + J_k, \\quad J_j = \\frac{1}{N} \\sum_{i \\in G_j} ‖x_i − z_j ‖^2.$$\n",
    "    - Conclude: Choose $z_j$ to minimize its $J_j$: $z_j = \\frac{1}{|G_j|} \\sum_{i \\in G_j} x_i$ = mean/center/centroid.\n",
    "\n"
   ]
  },
  {
   "cell_type": "markdown",
   "id": "2374fec2",
   "metadata": {
    "slideshow": {
     "slide_type": "slide"
    }
   },
   "source": [
    "# Pseudo-code"
   ]
  },
  {
   "cell_type": "markdown",
   "id": "6ef64ff3",
   "metadata": {},
   "source": [
    "\n",
    "\n",
    "<center><img src=\"figs/04_kmeans.jpg\" alt=\"default\"/></center>\n"
   ]
  },
  {
   "cell_type": "markdown",
   "id": "d4f8aecb",
   "metadata": {
    "slideshow": {
     "slide_type": "slide"
    }
   },
   "source": [
    "# Convergence of K-means\n",
    "\n",
    "- How many times do we iterate these steps?\n",
    "  - Until the $z_j$’s stop changing: \"convergence\" of the algorithm.\n",
    "- $\\color{#EF5645}{\\text{Remarks}}$:\n",
    "  - $J^{clust}$ decreases at each step, \n",
    "  - but in general we don't find partition that minimizes $J^{clust}$,\n",
    "  - the final partition depends on initial representatives.\n",
    "\n",
    "- $\\color{#EF5645}{\\text{Recommendation}}$:\n",
    "  - Run $k$-means 10 times, with different initial representatives\n",
    "  - Take as final partition the one with smallest $J^{clust}$"
   ]
  },
  {
   "cell_type": "markdown",
   "id": "88ca0055",
   "metadata": {
    "slideshow": {
     "slide_type": "slide"
    }
   },
   "source": [
    "# Outline: 04 Clustering\n",
    "\n",
    "- [Clustering](#sec-lustering)\n",
    "- [Algorithm](#Algorithm)\n",
    "- **[Example](#Example)**\n",
    "- [Applications](#Applications)"
   ]
  },
  {
   "cell_type": "markdown",
   "id": "e736ccd2",
   "metadata": {
    "slideshow": {
     "slide_type": "slide"
    }
   },
   "source": [
    "<center><img src=\"figs/04_it0.png\" alt=\"default\"/></center>"
   ]
  },
  {
   "cell_type": "markdown",
   "id": "70aeac22",
   "metadata": {
    "slideshow": {
     "slide_type": "slide"
    }
   },
   "source": [
    "<center><img src=\"figs/04_it1.png\" alt=\"default\"/></center>"
   ]
  },
  {
   "cell_type": "markdown",
   "id": "e3c75eaa",
   "metadata": {
    "slideshow": {
     "slide_type": "slide"
    }
   },
   "source": [
    "<center><img src=\"figs/04_it2.png\" alt=\"default\"/></center>"
   ]
  },
  {
   "cell_type": "markdown",
   "id": "8fbbf420",
   "metadata": {
    "slideshow": {
     "slide_type": "slide"
    }
   },
   "source": [
    "<center><img src=\"figs/04_it3.png\" alt=\"default\"/></center>"
   ]
  },
  {
   "cell_type": "markdown",
   "id": "7cc00b68",
   "metadata": {
    "slideshow": {
     "slide_type": "slide"
    }
   },
   "source": [
    "<center><img src=\"figs/04_it4.png\" alt=\"default\"/></center>"
   ]
  },
  {
   "cell_type": "markdown",
   "id": "3309ac0b",
   "metadata": {
    "slideshow": {
     "slide_type": "slide"
    }
   },
   "source": [
    "<center><img src=\"figs/04_it5.png\" alt=\"default\"/></center>"
   ]
  },
  {
   "cell_type": "markdown",
   "id": "75ce0d3d",
   "metadata": {
    "slideshow": {
     "slide_type": "slide"
    }
   },
   "source": [
    "<center><img src=\"figs/04_conv.png\" alt=\"default\"/></center>"
   ]
  },
  {
   "cell_type": "markdown",
   "id": "30a287b8",
   "metadata": {
    "slideshow": {
     "slide_type": "slide"
    }
   },
   "source": [
    "# Outline: 04 Clustering\n",
    "\n",
    "- [Clustering](#sec-lustering)\n",
    "- [Algorithm](#Algorithm)\n",
    "- [Examples](#Examples)\n",
    "- **[Applications](#Applications)**"
   ]
  },
  {
   "cell_type": "markdown",
   "id": "2c029e55",
   "metadata": {
    "slideshow": {
     "slide_type": "slide"
    }
   },
   "source": [
    "# MNIST Dataset: Find Digits\n",
    "\n",
    "- MNIST images of handwritten digits (via Yann Lecun) \n",
    "- $60, 000$ images of size 28 × 28, represented as 784-vectors $x_i$\n",
    "\n",
    "<center><img src=\"figs/04_mnist.png\" alt=\"default\" width=350px/></center>\n",
    "\n",
    "- $\\color{#EF5645}{\\text{Goal}}$: Group these images into groups of same digit.\n",
    "- $\\color{#047C91}{\\text{Exercice}}$: What are $k, N, n$?\n",
    "- Implement it practice? Will be in your next homework!"
   ]
  },
  {
   "cell_type": "markdown",
   "id": "cd9ddce8",
   "metadata": {
    "slideshow": {
     "slide_type": "slide"
    }
   },
   "source": [
    "# Questions?\n",
    "\n",
    "- [Clustering](#sec-lustering)\n",
    "- [Algorithm](#Algorithm)\n",
    "- [Examples](#Examples)\n",
    "- [Applications](#Applications)\n",
    "\n",
    "Resources: Book ILA, Ch. 4"
   ]
  }
 ],
 "metadata": {
  "celltoolbar": "Slideshow",
  "colab": {
   "name": "lec04_clustering.ipynb",
   "provenance": []
  },
  "kernelspec": {
   "display_name": "Python 3 (ipykernel)",
   "language": "python",
   "name": "python3"
  },
  "language_info": {
   "codemirror_mode": {
    "name": "ipython",
    "version": 3
   },
   "file_extension": ".py",
   "mimetype": "text/x-python",
   "name": "python",
   "nbconvert_exporter": "python",
   "pygments_lexer": "ipython3",
   "version": "3.9.7"
  }
 },
 "nbformat": 4,
 "nbformat_minor": 5
}
