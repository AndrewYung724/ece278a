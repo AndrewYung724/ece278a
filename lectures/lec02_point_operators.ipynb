{
 "cells": [
  {
   "cell_type": "markdown",
   "metadata": {
    "slideshow": {
     "slide_type": "slide"
    }
   },
   "source": [
    "# Point Operators"
   ]
  },
  {
   "cell_type": "markdown",
   "metadata": {},
   "source": [
    "<center><img src=\"figs/00_dip.jpeg\" width=500px alt=\"default\"/></center>\n"
   ]
  },
  {
   "cell_type": "markdown",
   "metadata": {
    "slideshow": {
     "slide_type": "slide"
    }
   },
   "source": [
    "Now that we haveseen how images are formed through the interaction of 3D scene elements, lighting, and camera optics and sensors, let us look at the first stage in most computer vision algorithms, namely the use of image processing to preprocess the image and convert it into a form suitable for further analysis.\n",
    "\n",
    "Operators : transform an image into another image."
   ]
  },
  {
   "cell_type": "markdown",
   "metadata": {},
   "source": [
    "# Images\n",
    "\n",
    "$\\color{#EF5645}{\\text{Continuous Images}}$: A continuous image is represented as a function over a 2D continuous domain $\\Omega^2$, i.e. $f: \\Omega^2 \\rightarrow \\mathbb{R}^c$, where $c$ is the number of channels of the images. The elements $x$ of the continuous domain are represented by their 2D coordinates.\n",
    "\n",
    "$\\color{#EF5645}{\\text{Discrete Images}}$: A discrete (sampled) image is represented as a function over a 2D discrete domain $[1, ..., n] \\times [1, ..., m] $, i.e. $f: [1, ..., n] \\times [1, ..., m] \\rightarrow \\mathbb{R}^c$, where $c$ is the number of channels of the images. The elements $x$ of the discrete domain are denoted by the indices of the pixel that they represent $x=(i, j)$."
   ]
  },
  {
   "cell_type": "markdown",
   "metadata": {},
   "source": []
  },
  {
   "cell_type": "markdown",
   "metadata": {
    "slideshow": {
     "slide_type": "slide"
    }
   },
   "source": [
    "# Point Operators\n",
    "\n",
    "- [Pixel Transforms](#sec-syllabus)\n",
    "\n",
    "- [Color Transforms](#sec-ece)\n",
    "\n",
    "- [Composition and Matting](#sec-ece)\n",
    "\n",
    "- [Histgram Equalization](#sec-ece)"
   ]
  },
  {
   "cell_type": "markdown",
   "metadata": {},
   "source": [
    "# Point Operators\n",
    "\n",
    "- Also called Point Processes\n",
    "- Each output pixel’s value depends on only the corresponding input pixel value\n",
    "\n",
    "$\\color{#047C91}{\\text{Example}}$: Brightness and contrast adjustments\n",
    "\n",
    "<center><img src=\"figs/02_brightness.png\" width=400px alt=\"default\"/></center>\n"
   ]
  },
  {
   "cell_type": "markdown",
   "metadata": {},
   "source": [
    "# Point Processing Operators\n",
    "\n",
    "$\\color{#EF5645}{\\text{Image Processing Operator}}$: A general point processing operator is a function $h$ that takes one image $f$ as input and produces an output image $g$, such that:\n",
    "- For continuous images and $x \\in \\Omega^2$ a 2D continuous domain:\n",
    "$$g(x) = h(f(x))$$\n",
    "- For discrete images and $x=(i, j) \\in [1, n]^2$ a 2D discrete domain:\n",
    "$$g(i, j) = h(f(i ,j))$$"
   ]
  },
  {
   "cell_type": "markdown",
   "metadata": {},
   "source": [
    "# Example\n",
    "\n",
    "$\\color{#047C91}{\\text{Example}}$: Multiplicative gain operator:\n",
    "$$g(x) = af(x) + b,$$\n",
    "where $a >0$ and $b$ are called the gain and bias parameters.\n",
    "\n",
    "$\\color{#047C91}{\\text{Example}}$: Spatially varying multiplicative gain operator:\n",
    "$$g(x) = a(x)f(x) + b(x),$$\n",
    "where the bias and gain parameters can also be spatially varying.\n",
    "\n",
    "$\\color{#047C91}{\\text{Example}}$: Linear blend operator:\n",
    "$$g(x) = (1- \\alpha)f_0(x) + \\alpha f_1(x)$$\n",
    "Varying $\\alpha$ from $0$ to $1$, this operator can be used to perform atemporal cross-dissolve between twoimages or videos, as seen in slide shows and film production\n"
   ]
  },
  {
   "cell_type": "code",
   "execution_count": 1,
   "metadata": {},
   "outputs": [
    {
     "ename": "ModuleNotFoundError",
     "evalue": "No module named 'skimage'",
     "output_type": "error",
     "traceback": [
      "\u001b[0;31m---------------------------------------------------------------------------\u001b[0m",
      "\u001b[0;31mModuleNotFoundError\u001b[0m                       Traceback (most recent call last)",
      "\u001b[0;32m/var/folders/dz/k1hb2xr94k558sjs416njdp40000gn/T/ipykernel_71437/3665423808.py\u001b[0m in \u001b[0;36m<module>\u001b[0;34m\u001b[0m\n\u001b[0;32m----> 1\u001b[0;31m \u001b[0;32mfrom\u001b[0m \u001b[0mskimage\u001b[0m\u001b[0;34m.\u001b[0m\u001b[0mdata\u001b[0m \u001b[0;32mimport\u001b[0m \u001b[0mastronaut\u001b[0m\u001b[0;34m\u001b[0m\u001b[0;34m\u001b[0m\u001b[0m\n\u001b[0m",
      "\u001b[0;31mModuleNotFoundError\u001b[0m: No module named 'skimage'"
     ]
    }
   ],
   "source": [
    "from skimage.data import astronaut"
   ]
  },
  {
   "cell_type": "markdown",
   "metadata": {},
   "source": [
    "# Point Operators\n",
    "\n",
    "- [Pixel Transforms](#sec-syllabus)\n",
    "\n",
    "- [Color Transforms](#sec-ece)\n",
    "\n",
    "- [Composition and Matting](#sec-ece)\n",
    "\n",
    "- [Histgram Equalization](#sec-ece)"
   ]
  },
  {
   "cell_type": "code",
   "execution_count": null,
   "metadata": {},
   "outputs": [],
   "source": []
  }
 ],
 "metadata": {
  "celltoolbar": "Slideshow",
  "kernelspec": {
   "display_name": "Python 3 (ipykernel)",
   "language": "python",
   "name": "python3"
  },
  "language_info": {
   "codemirror_mode": {
    "name": "ipython",
    "version": 3
   },
   "file_extension": ".py",
   "mimetype": "text/x-python",
   "name": "python",
   "nbconvert_exporter": "python",
   "pygments_lexer": "ipython3",
   "version": "3.9.7"
  }
 },
 "nbformat": 4,
 "nbformat_minor": 2
}
