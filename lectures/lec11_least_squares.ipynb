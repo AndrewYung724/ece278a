{
 "cells": [
  {
   "cell_type": "markdown",
   "id": "483a5328",
   "metadata": {
    "slideshow": {
     "slide_type": "slide"
    }
   },
   "source": [
    "# 11 Least Squares\n"
   ]
  },
  {
   "cell_type": "markdown",
   "id": "d6b579d6",
   "metadata": {
    "cell_style": "split"
   },
   "source": [
    "<center><img src=\"figs/11_prices.png\" width=550px alt=\"default\"/></center>"
   ]
  },
  {
   "cell_type": "markdown",
   "id": "8edbb83f",
   "metadata": {
    "cell_style": "split"
   },
   "source": [
    "<center><img src=\"figs/11_advertising.png\" width=550px alt=\"default\"/></center>"
   ]
  },
  {
   "cell_type": "markdown",
   "id": "390cae36",
   "metadata": {
    "slideshow": {
     "slide_type": "slide"
    }
   },
   "source": [
    "#### Unit 1: Vectors, Book ILA Ch. 1-5\n",
    "\n",
    "#### Unit 2: Matrices, Book ILA Ch. 6-11 + Book IMC Ch. 2\n",
    "\n",
    "#### Unit 3: Least Squares, Book ILA Ch. 12-14\n",
    "- 11 Least Squares\n",
    "- 12 Least Squares Data Fitting\n",
    "- 13 Least Squares Classification"
   ]
  },
  {
   "cell_type": "markdown",
   "id": "4987a2d8",
   "metadata": {
    "slideshow": {
     "slide_type": "slide"
    }
   },
   "source": [
    "# Outline: 11 Least Squares\n",
    "\n",
    "- [Least Square Problem](#sec)\n",
    "- [Solution of Least Square Problem](#sec)\n",
    "- [Examples](#sec)"
   ]
  },
  {
   "cell_type": "markdown",
   "id": "cd1a03d2",
   "metadata": {
    "slideshow": {
     "slide_type": "slide"
    }
   },
   "source": [
    "# Regression to Model House Prices\n",
    "\n",
    "- Outcome is $y$, selling price of house in \\$1000.\n",
    "- Regressors are $x$ = (house area in 1000 sq.ft, # bedrooms).\n",
    "- A regression model helps us predict the price from $x$.\n",
    "\n",
    "$\\color{#EF5645}{\\text{Question}}$: Find $w, b$ given data? $\\rightarrow$ Solve least square problem!\n",
    "\n",
    "<center><img src=\"figs/11_prices.png\" alt=\"default\" width=300px/></center>"
   ]
  },
  {
   "cell_type": "markdown",
   "id": "3248e44a",
   "metadata": {
    "slideshow": {
     "slide_type": "slide"
    }
   },
   "source": [
    "# Least Squares"
   ]
  },
  {
   "cell_type": "markdown",
   "id": "44efa1e0",
   "metadata": {},
   "source": [
    "$\\color{#EF5645}{\\text{Definition}}$: Let be given a $m \\times n$ matrix $A$ and $m$-vector $b$. The least squares problem is the problem of choosing an $n$-vector $x$ to minimize:\n",
    "$$‖Ax − b‖^2.$$\n",
    "- $‖Ax − b‖^2$ is called the objective function,\n",
    "- If $\\hat x$ is a solution of the linear equation $Ax = b$, then $\\hat x$ is a solution of the least square problem. The converse is not true.\n",
    "- $\\hat x$ is a solution of least squares problem if $‖A \\hat x − b‖^2 ≤ ‖Ax − b‖^2$ for any other $n$-vector $x$."
   ]
  },
  {
   "cell_type": "markdown",
   "id": "a9c74618",
   "metadata": {
    "slideshow": {
     "slide_type": "slide"
    }
   },
   "source": [
    "$\\color{#047C91}{\\text{Exercise}}$: Consider the matrix $A$ and vector $b$ as:\n",
    "$$A = \\begin{bmatrix}\n",
    "2 & 0 \\\\\n",
    "-1 & 1 \\\\\n",
    "0 & 2 \\end{bmatrix}, \\quad b = \\begin{bmatrix}\n",
    "1 \\\\ 0 \\\\ -1 \\end{bmatrix}.$$\n",
    "\n",
    "Write the objective function associated to the least square problem defined by $A$ and $b$."
   ]
  },
  {
   "cell_type": "code",
   "execution_count": 36,
   "id": "296a7348",
   "metadata": {
    "slideshow": {
     "slide_type": "slide"
    }
   },
   "outputs": [
    {
     "data": {
      "image/png": "[encoded data removed]",
      "text/plain": [
       "<Figure size 432x288 with 2 Axes>"
      ]
     },
     "metadata": {
      "needs_background": "light"
     },
     "output_type": "display_data"
    }
   ],
   "source": [
    "import numpy as np\n",
    "import matplotlib.pyplot as plt\n",
    "\n",
    "def objective(x):\n",
    "    return  (2 * x[0] - 1) ** 2 + (- x[0] + x[1]) ** 2 + (2 * x[1] + 1) ** 2\n",
    "n_points, xmin, xmax, ymin, ymax = 20, -2, 2, -2, 2\n",
    "x = np.arange(xmin, xmax, (xmax-xmin)/n_points); y = np.arange(ymin, ymax, (ymax-ymin)/n_points); xx = np.dstack(np.meshgrid(x, y))\n",
    "Z = np.zeros((n_points, n_points))\n",
    "for i in range(n_points):\n",
    "    for j in range(n_points):\n",
    "        Z[i, j] = objective(xx[i, j])\n",
    "plt.imshow(Z, extent=[xmin, xmax, ymin, ymax]); plt.colorbar();"
   ]
  },
  {
   "cell_type": "markdown",
   "id": "820d8f78",
   "metadata": {
    "slideshow": {
     "slide_type": "slide"
    }
   },
   "source": [
    "# Outline: 11 Least Squares\n",
    "\n",
    "- [Least Square Problem](#sec)\n",
    "- **[Solution of Least Square Problem](#sec)**\n",
    "- [Examples](#sec)"
   ]
  },
  {
   "cell_type": "markdown",
   "id": "9fcd3183",
   "metadata": {
    "slideshow": {
     "slide_type": "slide"
    }
   },
   "source": [
    "$\\color{#EF5645}{\\text{Proposition}}$: Consider a least square problem defined with objective function $||Ax - b||^2$ for matrix $A$ and vector $b$. Assume that $A$ has linearly independent columns. Then, there is a unique solution $\\hat x$ to the least square problem, defined as:\n",
    "$$\\hat x = (A^T A)^{-1} A^Tb = A^\\dagger b.$$\n",
    "- $A^\\dagger = (A^T A)^{-1} A^T$ is called the pseudo-inverse of $A$.\n",
    "\n",
    "$\\color{#047C91}{\\text{Exercise}}$: Prove that $\\hat x$ defined above is a solution to the least square problem, by showing that for any other $n$-vector $x$, we have: $‖A \\hat x − b‖^2 ≤ ‖Ax − b‖^2$. "
   ]
  },
  {
   "cell_type": "markdown",
   "id": "0d6108ff",
   "metadata": {
    "slideshow": {
     "slide_type": "slide"
    }
   },
   "source": [
    "# Outline: 11 Least Squares\n",
    "\n",
    "- [Least Square Problem](#sec)\n",
    "- [Solution of Least Square Problem](#sec)\n",
    "- **[Examples](#sec)**"
   ]
  },
  {
   "cell_type": "markdown",
   "id": "edfbdd05",
   "metadata": {
    "slideshow": {
     "slide_type": "slide"
    }
   },
   "source": [
    "# Example: Advertising Purchases\n",
    "\n",
    "A company wants to advertize to potential clients.\n",
    "- $m$ demographics groups we want to advertise to\n",
    "- $v^{target}$ is $m$-vector of target views (\"impressions\") per group\n",
    "- $s$ is $n$-vector of spending on $n$ advertising channels\n",
    "- $m \\times n$ matrix R gives demographic reach of channels: $R_{ij}$ is number of views per dollar spent (in 1000/\\$) \n",
    "- $v = Rs$ is $m$-vector of views across demographic groups\n",
    "\n",
    "Find the associated least-square problem."
   ]
  },
  {
   "cell_type": "markdown",
   "id": "e6685a3e",
   "metadata": {
    "slideshow": {
     "slide_type": "slide"
    }
   },
   "source": [
    "$\\color{#047C91}{\\text{Example}}$:\n",
    "- $m = 10$ groups and $n=3$ channels,\n",
    "- $v^{target} = 1000 \\times 1_m$.\n",
    "What is the optimal spending $\\hat s$?\n",
    "\n",
    "<center><img src=\"figs/11_advertising.png\" width=400px alt=\"default\"/></center>"
   ]
  },
  {
   "cell_type": "markdown",
   "id": "c9bc1544",
   "metadata": {
    "slideshow": {
     "slide_type": "slide"
    }
   },
   "source": [
    "# Example: Illumination\n",
    "\n",
    "\n",
    "What is the power of the lamps needed to reach a target illumination?\n",
    "- $n$ lamps illuminate an area divided in $m$ regions\n",
    "- $A_{ij}$ is illumination in region $i$ if lamp $j$ is has power 1, other lamps are off \n",
    "- $x_j$ is power of lamp $j$ \n",
    "- $(Ax)_i$ is illumination level at region $i$\n",
    "- $b_i$ is target illumination level at region $i$\n",
    "\n",
    "Find the associated least-square problem."
   ]
  },
  {
   "cell_type": "markdown",
   "id": "75883970",
   "metadata": {
    "slideshow": {
     "slide_type": "slide"
    }
   },
   "source": [
    "<center><img src=\"figs/11_lamps.png\" alt=\"default\"/></center>"
   ]
  },
  {
   "cell_type": "markdown",
   "id": "355b0ce4",
   "metadata": {
    "slideshow": {
     "slide_type": "slide"
    }
   },
   "source": [
    "<center><img src=\"figs/11_lamps_sol.png\" alt=\"default\"/></center>"
   ]
  },
  {
   "cell_type": "code",
   "execution_count": null,
   "id": "e911b03b",
   "metadata": {},
   "outputs": [],
   "source": []
  }
 ],
 "metadata": {
  "celltoolbar": "Slideshow",
  "kernelspec": {
   "display_name": "Python 3 (ipykernel)",
   "language": "python",
   "name": "python3"
  },
  "language_info": {
   "codemirror_mode": {
    "name": "ipython",
    "version": 3
   },
   "file_extension": ".py",
   "mimetype": "text/x-python",
   "name": "python",
   "nbconvert_exporter": "python",
   "pygments_lexer": "ipython3",
   "version": "3.9.7"
  }
 },
 "nbformat": 4,
 "nbformat_minor": 5
}
