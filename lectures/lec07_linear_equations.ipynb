{
 "cells": [
  {
   "cell_type": "markdown",
   "metadata": {
    "slideshow": {
     "slide_type": "slide"
    }
   },
   "source": [
    "# 07 Linear Equations"
   ]
  },
  {
   "cell_type": "markdown",
   "metadata": {
    "cell_style": "split"
   },
   "source": [
    "<img src=\"figs/02_affine_only.png\" alt=\"Drawing\" width=450px/>\n",
    "\n"
   ]
  },
  {
   "cell_type": "markdown",
   "metadata": {
    "cell_style": "split"
   },
   "source": [
    "<img src=\"figs/07_winds.png\" alt=\"Drawing\" width=450px/>\n"
   ]
  },
  {
   "cell_type": "markdown",
   "metadata": {
    "slideshow": {
     "slide_type": "slide"
    }
   },
   "source": [
    "#### Unit 1: Vectors, Book ILA Ch. 1-5\n",
    "\n",
    "#### Unit 2: Matrices, Book ILA Ch. 6-11 + Book IMC Ch. 2\n",
    "- 06 Matrices\n",
    "- **_07 Linear Equations_**\n",
    "- 08 Linear Dynamical Systems\n",
    "- 09 Matrix Multiplication\n",
    "- 10 Matrix Inverse\n",
    "\n",
    "#### Unit 3: Least Squares, Book ILA Ch. 12-14 + Book IMC Ch. 8\n",
    "#### Unit 4: Eigen-decomposition, Book IMC Ch. 10, 12, 19"
   ]
  },
  {
   "cell_type": "markdown",
   "metadata": {
    "slideshow": {
     "slide_type": "slide"
    }
   },
   "source": [
    "# Outline: 07 Linear Equations\n",
    "\n",
    "- **[Linear and affine functions](#sec-laf)**\n",
    "- [Linear equations](#sec-le)"
   ]
  },
  {
   "cell_type": "markdown",
   "metadata": {
    "slideshow": {
     "slide_type": "slide"
    }
   },
   "source": [
    "# Recall: Superposition and linear functions\n",
    "\n",
    "$\\color{#EF5645}{\\text{Notation}}$ (function): The notation $f:\\mathbb{R}^n \\rightarrow \\mathbb{R}$ means $f$ is a function mapping $n$-vectors to numbers. The space $\\mathbb{R}^n$ denotes the space of all possible $n$-vectors.\n",
    "\n",
    "$\\color{#EF5645}{\\text{Definition}}$ (superposition): We say that the function $f:\\mathbb{R}^n \\rightarrow \\mathbb{R}$ satistifies the superposition property if, for all scalars $\\alpha, \\beta$ and all $n$-vectors $x, y$:\n",
    "\n",
    "$$f(\\alpha x + \\beta y) = \\alpha f(x) + \\beta f(y)$$\n",
    "\n",
    "\n",
    "$\\color{#EF5645}{\\text{Definition}}$ (linear function): A function that satisfies superposition is called linear.\n",
    "\n",
    "$\\color{#6D7D33}{\\text{Proposition}}$: A function $f:\\mathbb{R}^n \\rightarrow \\mathbb{R}$ is linear if and only if, for all $n$-vector $x$, $f(x) = a^Tx$ for some $n$-vector $a$."
   ]
  },
  {
   "cell_type": "markdown",
   "metadata": {
    "slideshow": {
     "slide_type": "slide"
    }
   },
   "source": [
    "# Functions $f:\\mathbb{R}^n \\rightarrow \\mathbb{R}^m$\n",
    "\n",
    "$\\color{#EF5645}{\\text{Notation}}$: The notation $f:\\mathbb{R}^n \\rightarrow \\mathbb{R}^m$ means $f$ is a function mapping $n$-vectors to $m$-vectors. We write:\n",
    "- $f(x) = (f_1(x), ..., f_m(x))$ to emphasize components of $f(x)$,\n",
    "- $f(x) = f(x_1, ..., x_n)$ to emphasize components of $x$,\n",
    "- $f(x) = (f_1(x_1, ..., x_n), ..., f_m(x_1, ..., x_n))$ to emphasize both.\n",
    "\n",
    "$\\color{#047C91}{\\text{Example}}$: Consider the function $f:\\mathbb{R}^3 \\rightarrow \\mathbb{R}^2$ defined as: $f(x_1, x_2, x_3) = (x_2^3 - x_1, -x_3^4),$ which we can also write:\n",
    "$$f\\left(\\begin{bmatrix}\n",
    "x_1 \\\\\n",
    "x_2 \\\\\n",
    "x_3\\end{bmatrix}\\right) = \\begin{bmatrix}\n",
    "x_2^3 - x_1 \\\\\n",
    "-x_3^4\\end{bmatrix}$$"
   ]
  },
  {
   "cell_type": "markdown",
   "metadata": {
    "slideshow": {
     "slide_type": "slide"
    }
   },
   "source": [
    "# Superposition and linear functions (General)\n",
    "\n",
    "\n",
    "$\\color{#EF5645}{\\text{Definition}}$: We say that the function $f:\\mathbb{R}^n \\rightarrow \\mathbb{R}^m$ satistifies the superposition property if, for all scalars $\\alpha, \\beta$ and all $n$-vectors $x, y$:\n",
    "\n",
    "$$f(\\alpha x + \\beta y) = \\alpha f(x) + \\beta f(y).$$\n",
    "\n",
    "$\\color{#EF5645}{\\text{Definition}}$: A function that satisfies superposition is called linear.\n",
    "\n",
    "$\\color{#6D7D33}{\\text{Proposition}}$: A function $f:\\mathbb{R}^n \\rightarrow \\mathbb{R}^m$ is linear if and only if, for all $n$-vector $x$, $f(x) = A x$ for some $m \\times n$ matrix $A$."
   ]
  },
  {
   "cell_type": "markdown",
   "metadata": {
    "slideshow": {
     "slide_type": "slide"
    }
   },
   "source": [
    "$\\color{#047C91}{\\text{Example}}$: The function $f:\\mathbb{R}^n \\rightarrow \\mathbb{R}^{n-1}$ defined by:\n",
    "$$f(x_1, ..., x_n) = (x_2 - x_1, x_3 - x_2, ..., x_n - x_{n-1})$$ is a linear function. It can also be written as: $$f(x) = Dx$$ where $D$ is the difference matrix from the previous lecture."
   ]
  },
  {
   "cell_type": "markdown",
   "metadata": {
    "slideshow": {
     "slide_type": "slide"
    }
   },
   "source": [
    "$\\color{#047C91}{\\text{Exercise}}$: Consider a function $f:\\mathbb{R}^n \\rightarrow \\mathbb{R}^m$ defined by:\n",
    "$$f\\left(\\begin{bmatrix}\n",
    "x_1 \\\\\n",
    "x_2 \\\\\n",
    "x_3\\end{bmatrix}\\right) = \\begin{bmatrix}\n",
    "5 x_2 - x_1 \\\\\n",
    "2 x_3\\end{bmatrix}.$$\n",
    "What is the matrix $A$ such that: $f(x) = Ax$?\n",
    "\n",
    "$\\color{#047C91}{\\text{Exercise}}$: Consider a function $f:\\mathbb{R}^n \\rightarrow \\mathbb{R}^m$, that is linear. What is the matrix $A$ such that: $f(x) = Ax$?"
   ]
  },
  {
   "cell_type": "markdown",
   "metadata": {
    "slideshow": {
     "slide_type": "slide"
    }
   },
   "source": [
    "# Recall: Affine functions\n",
    "\n",
    "$\\color{#EF5645}{\\text{Definition}}$ (affine function): A function $f:\\mathbb{R}^n \\rightarrow \\mathbb{R}$ that is linear plus a constant is called affine. Its general form is:\n",
    "\n",
    "$$f(x) = a^Tx+b \\quad \\text{with $a$ an $n$-vector and $b$ a scalar}$$\n",
    "\n",
    "$\\color{#6D7D33}{\\text{Proposition}}$:\n",
    " A function $f:\\mathbb{R}^n \\rightarrow \\mathbb{R}$ is affine if and only if, for all scalars $\\alpha, \\beta$ with $\\alpha + \\beta = 1$ and all $n$-vectors $x, y$, we have:\n",
    "$$f(\\alpha x + \\beta y) = \\alpha f(x) + \\beta f(y).$$\n"
   ]
  },
  {
   "cell_type": "markdown",
   "metadata": {
    "slideshow": {
     "slide_type": "slide"
    }
   },
   "source": [
    "# Affine functions (General)\n",
    "\n",
    "\n",
    "$\\color{#EF5645}{\\text{Definition}}$: A function $f:\\mathbb{R}^n \\rightarrow \\mathbb{R}^m$ that is linear plus a constant is called affine. Its general form is:\n",
    "\n",
    "$$f(x) = Ax+b \\quad \\text{with $A$ an $m\\times n$ matrix and $b$ a $m$-vector}$$\n",
    "\n",
    "$\\color{#6D7D33}{\\text{Proposition}}$:\n",
    " A function $f:\\mathbb{R}^n \\rightarrow \\mathbb{R}^m$ is affine if and only if, for all scalars $\\alpha, \\beta$ with $\\alpha + \\beta = 1$ and all $n$-vectors $x, y$, we have:\n",
    "$$f(\\alpha x + \\beta y) = \\alpha f(x) + \\beta f(y).$$"
   ]
  },
  {
   "cell_type": "markdown",
   "metadata": {
    "slideshow": {
     "slide_type": "slide"
    }
   },
   "source": [
    "$\\color{#047C91}{\\text{Exercise}}$: Consider an affine function $f:\\mathbb{R}^3 \\rightarrow \\mathbb{R}^2$ defined by:\n",
    "$$f\\left(\\begin{bmatrix}\n",
    "x_1 \\\\\n",
    "x_2 \\\\\n",
    "x_3\\end{bmatrix}\\right) = \\begin{bmatrix}\n",
    "5 x_2 - x_1 + 3\\\\\n",
    "2 x_3 + 2\\end{bmatrix}.$$\n",
    "What is the matrix $A$ and the vector $b$ such that: $f(x) = Ax + b$?\n",
    "\n",
    "$\\color{#047C91}{\\text{Exercise}}$: Consider a function $f:\\mathbb{R}^n \\rightarrow \\mathbb{R}^m$, that is affine. What is the matrix $A$ and the vector $b$ such that: $f(x) = Ax + b$?"
   ]
  },
  {
   "cell_type": "markdown",
   "metadata": {
    "slideshow": {
     "slide_type": "slide"
    }
   },
   "source": [
    "# Outline: 07 Linear Equations\n",
    "\n",
    "- [Linear and affine functions](#sec-laf)\n",
    "- [Linear equations](#sec-le)\n"
   ]
  },
  {
   "cell_type": "markdown",
   "metadata": {
    "slideshow": {
     "slide_type": "slide"
    }
   },
   "source": [
    "$\\color{#EF5645}{\\text{Definition}}$: A set (or system) of $m$ linear equations in $n$ variables $x_1, . . . , x_n$ is defined as:\n",
    "$$\\begin{matrix}\n",
    "A_{11}x_1 + A_{12}x_2 + · · · + A_{1n}x_n = b_1 \\\\\n",
    "A_{21}x_1 + A_{22}x_2 + · · · + A_{2n}x_n = b_2 \\\\\n",
    "\\vdots \\\\\n",
    "A_{m1}x_1 + A_{m2}x_2 + · · · + A_{mn}x_n = b_m\n",
    "\\end{matrix}$$\n",
    "In this system:\n",
    "- the matrix $A$ and the vector $b$ are given, and the goal is to find $x_1, ..., x_n$.\n",
    "- n-vector x is called the variable or unknown,\n",
    "- $A_{ij}$ are the coefficients, $A$ is the coefficient matrix \n",
    "- b is called the right-hand side \n",
    "\n",
    "$\\color{#EF5645}{\\text{Remark}}$: A system of linear equations can be expressed very compactly as $Ax = b$.\n"
   ]
  },
  {
   "cell_type": "markdown",
   "metadata": {
    "slideshow": {
     "slide_type": "slide"
    }
   },
   "source": [
    "$\\color{#EF5645}{\\text{Definition}}$: A system of linear equations is called:\n",
    "- under-determined if $m < n$ ($A$ wide) \n",
    "- square if $m = n$ ($A$ square) \n",
    "- over-determined if $m > n$ ($A$ tall)\n",
    "\n",
    "$\\color{#EF5645}{\\text{Definition}}$: If we find a vector $x$ such that $Ax = b$, then $x$ is called a solution of the system of equations.\n",
    "\n",
    "$\\color{#EF5645}{\\text{Definition}}$: Depending on $A$ and $b$, there can be:\n",
    "- many solutions\n",
    "- one solution\n",
    "- no solution"
   ]
  },
  {
   "cell_type": "markdown",
   "metadata": {
    "slideshow": {
     "slide_type": "slide"
    }
   },
   "source": [
    "$\\color{#047C91}{\\text{Exercise}}$: An airplane travels 1200 miles in 4 hours with a tail wind. On the way back, the same trip takes 5 hours, now with a head wind (against the wind). What is the speed of the plane in still air, and what was the wind speed?\n",
    "\n",
    "$\\color{#EF5645}{\\text{Remark}}$: We will see later (after learning a bit more on operations on matrices) how to automatically solve such a system."
   ]
  },
  {
   "cell_type": "markdown",
   "metadata": {
    "slideshow": {
     "slide_type": "slide"
    }
   },
   "source": [
    "# Outline: 07 Linear Equations\n",
    "\n",
    "- [Linear and affine functions](#sec-laf)\n",
    "- [Linear equations](#sec-le)\n",
    "\n",
    "Resources: Ch. 8 of ILA"
   ]
  }
 ],
 "metadata": {
  "celltoolbar": "Slideshow",
  "kernelspec": {
   "display_name": "Python 3 (ipykernel)",
   "language": "python",
   "name": "python3"
  },
  "language_info": {
   "codemirror_mode": {
    "name": "ipython",
    "version": 3
   },
   "file_extension": ".py",
   "mimetype": "text/x-python",
   "name": "python",
   "nbconvert_exporter": "python",
   "pygments_lexer": "ipython3",
   "version": "3.9.7"
  }
 },
 "nbformat": 4,
 "nbformat_minor": 2
}
