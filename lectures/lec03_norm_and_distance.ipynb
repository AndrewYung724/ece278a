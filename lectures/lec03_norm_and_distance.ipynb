{
 "cells": [
  {
   "cell_type": "markdown",
   "metadata": {
    "slideshow": {
     "slide_type": "slide"
    }
   },
   "source": [
    "# 03 Norm and distance"
   ]
  },
  {
   "cell_type": "markdown",
   "metadata": {
    "cell_style": "split"
   },
   "source": [
    "<img src=\"figs/03_dist_points.png\" alt=\"Drawing\" width=450px/>"
   ]
  },
  {
   "cell_type": "markdown",
   "metadata": {
    "cell_style": "split"
   },
   "source": [
    "<center>Alzheimer's and Healthy</center>\n",
    "\n",
    "<img src=\"figs/03_dist_brains.png\" alt=\"Drawing\" width=450px/>\n",
    "<img src=\"figs/03_dist_conn.png\" alt=\"Drawing\" width=450px/>"
   ]
  },
  {
   "cell_type": "markdown",
   "metadata": {
    "slideshow": {
     "slide_type": "slide"
    }
   },
   "source": [
    "#### Unit 1: Vectors, Book ILA Ch. 1-5\n",
    "- 01 Vectors\n",
    "- 02 Linear Functions\n",
    "- **_03 Norms and Distances_**\n",
    "- 04 Clustering\n",
    "- 05 Linear Independence\n",
    "\n",
    "#### Unit 2: Matrices, Book ILA Ch. 6-11 + Book IMC Ch. 2\n",
    "#### Unit 3: Least Squares, Book ILA Ch. 12-14 + Book IMC Ch. 8\n",
    "#### Unit 4: Eigen-decomposition, Book IMC Ch. 10, 12, 19"
   ]
  },
  {
   "cell_type": "markdown",
   "metadata": {
    "slideshow": {
     "slide_type": "slide"
    }
   },
   "source": [
    "# Outline: 03 Norms and Distances\n",
    "\n",
    "- [Norm](#sec-norm)\n",
    "- [Distance](#sec-distance)\n",
    "- [Standard deviation](#sec-sd)\n",
    "- [Angle](#sec-angle)"
   ]
  },
  {
   "cell_type": "markdown",
   "metadata": {
    "slideshow": {
     "slide_type": "slide"
    }
   },
   "source": [
    "# Outline: 03 Norms and Distances\n",
    "\n",
    "- **[Norm](#sec-norm)**\n",
    "- [Distance](#sec-distance)\n",
    "- [Standard deviation](#sec-sd)\n",
    "- [Angle](#sec-angle)"
   ]
  },
  {
   "cell_type": "markdown",
   "metadata": {
    "slideshow": {
     "slide_type": "slide"
    }
   },
   "source": [
    "# Norm"
   ]
  },
  {
   "cell_type": "markdown",
   "metadata": {},
   "source": [
    "$\\color{#EF5645}{\\text{Definition}}$: The Euclidean norm, or just norm, of an $n$-vector $x$ is:\n",
    "$$||x|| = \\sqrt{x_1^2 + ... + x_n^2} = \\sqrt{x^Tx}$$\n",
    "\n",
    "$\\color{#EF5645}{\\text{Remarks}}$: The norm:\n",
    "- is used to measure the size of a vector\n",
    "- reduces to the absolute value for scalar, i.e. for $n=1$."
   ]
  },
  {
   "cell_type": "markdown",
   "metadata": {
    "slideshow": {
     "slide_type": "slide"
    }
   },
   "source": [
    "# Norm\n",
    "\n",
    "$\\color{#6D7D33}{\\text{Properties}}$: For any scalar $\\beta$ and any $n$-vectors $x, y$:\n",
    "1. Homogeneity: $||\\beta x|| = |\\beta|||x||$\n",
    "2. Triangle inequality: $||x+y|| \\leq ||x|| + ||y||$\n",
    "3. Nonnegative: $||x|| \\geq 0$\n",
    "4. Definite: $||x|| = 0$ if and only if $x = 0$\n",
    "\n",
    "$\\color{#047C91}{\\text{Exercise (at home)}}$: Show Prop. 1, 3, 4. Verify Prop. 2 in Python."
   ]
  },
  {
   "cell_type": "markdown",
   "metadata": {
    "slideshow": {
     "slide_type": "slide"
    }
   },
   "source": [
    "# Norm\n",
    "\n",
    "$\\color{#003660}{\\text{In Python}}$, the module `linalg` from `numpy` has a function computing the norm."
   ]
  },
  {
   "cell_type": "code",
   "execution_count": 8,
   "metadata": {},
   "outputs": [
    {
     "name": "stdout",
     "output_type": "stream",
     "text": [
      "3.0\n",
      "3.0\n",
      "3.0\n"
     ]
    }
   ],
   "source": [
    "import numpy as np\n",
    "\n",
    "x = np.array([2, -1, 2])\n",
    "\n",
    "print(np.sqrt(np.sum(x ** 2)))\n",
    "print(np.linalg.norm(x))\n",
    "print(np.sqrt((np.inner(x, x))))"
   ]
  },
  {
   "cell_type": "markdown",
   "metadata": {
    "slideshow": {
     "slide_type": "slide"
    }
   },
   "source": [
    "# Root Mean Square (RMS) value\n",
    "\n",
    "$\\color{#EF5645}{\\text{Definition}}$: The mean-square value of an $n$-vector $x$ is:\n",
    "$$\\frac{x_1^2 + ... + x_n^2}{n} = \\frac{||x||^2}{n}.$$\n",
    "\n",
    "$\\color{#EF5645}{\\text{Definition}}$: The root-mean-square (RMS) value of an $n$-vector $x$ is:\n",
    "$$rms(x) = \\sqrt{\\frac{x_1^2 + ... + x_n^2}{n}} = \\frac{||x||}{\\sqrt{n}}.$$\n",
    "\n",
    "$\\color{#EF5645}{\\text{Remarks}}$: rms(x) gives \"typical\" values of $|x_i|$: e.g. rms($1_n$) = 1"
   ]
  },
  {
   "cell_type": "markdown",
   "metadata": {
    "slideshow": {
     "slide_type": "slide"
    }
   },
   "source": [
    "$\\color{#047C91}{\\text{Exercise}}$: Write a function computing the root-mean-square value in Python."
   ]
  },
  {
   "cell_type": "code",
   "execution_count": 10,
   "metadata": {
    "scrolled": true,
    "slideshow": {
     "slide_type": "-"
    }
   },
   "outputs": [
    {
     "data": {
      "text/plain": [
       "1.0"
      ]
     },
     "execution_count": 10,
     "metadata": {},
     "output_type": "execute_result"
    }
   ],
   "source": [
    "def rms(x):\n",
    "    return np.linalg.norm(x) / np.sqrt(len(x))\n",
    "\n",
    "ones = np.ones(4)\n",
    "rms(ones)"
   ]
  },
  {
   "cell_type": "markdown",
   "metadata": {
    "slideshow": {
     "slide_type": "slide"
    }
   },
   "source": [
    "$\\color{#003660}{\\text{In Python}}$, we can visualize the RMS value using `matplotlib`."
   ]
  },
  {
   "cell_type": "code",
   "execution_count": 11,
   "metadata": {
    "scrolled": true,
    "slideshow": {
     "slide_type": "-"
    }
   },
   "outputs": [
    {
     "data": {
      "image/png": "[encoded data removed]",
      "text/plain": [
       "<Figure size 432x288 with 1 Axes>"
      ]
     },
     "metadata": {
      "needs_background": "light"
     },
     "output_type": "display_data"
    }
   ],
   "source": [
    "import matplotlib.pyplot as plt\n",
    "\n",
    "t = np.linspace(0, 1, 101); x = np.cos(8 * t) - 2 * np.sin(11 * t)\n",
    "plt.plot(t, x); plt.plot(t, np.average(x) * np.ones(len(x)))\n",
    "plt.plot(t, (np.average(x) + rms(x)) * np.ones(len(x)))\n",
    "plt.plot(t, (np.average(x) - rms(x)) * np.ones(len(x)))\n",
    "plt.legend(('signal', 'signal avg', 'avg + rms', 'avg - rms'), \n",
    "           loc='upper left');"
   ]
  },
  {
   "cell_type": "markdown",
   "metadata": {
    "slideshow": {
     "slide_type": "slide"
    }
   },
   "source": [
    "# Chebyshev inequality\n",
    "\n",
    "$\\color{#6D7D33}{\\text{Proposition}}$: Consider an $n$-vector $x$. The Chebyshev inequality states:\n",
    "$$\\#\\{|x_i| \\geq a\\} \\leq \\left(\\frac{||x||}{a}\\right)^2,$$\n",
    "i.e. the number of entries $x_i$ such that $|x_i| \\geq a$ is no more than $\\left(\\frac{||x||}{a}\\right)^2$, i.e.:\n",
    "$$\\frac{\\#\\{|x_i| \\geq a\\}}{n} \\leq \\left(\\frac{rms(x)}{a}\\right)^2,$$\n",
    "i.e. the fraction of entries $x_i$ such that $|x_i| \\geq a$ is no more than $\\left(\\frac{rms(x)}{a}\\right)^2$.\n",
    "\n",
    "\n",
    "\n",
    "$\\color{#047C91}{\\text{Example}}$: With $a = 5 rms(x)$, we see that in any vector $x$, no more than 4\\% of entries can satisfy $|x_i| \\geq 5 rms(x)$."
   ]
  },
  {
   "cell_type": "markdown",
   "metadata": {
    "slideshow": {
     "slide_type": "slide"
    }
   },
   "source": [
    "# Outline: 03 Norms and Distances\n",
    "\n",
    "- [Norm](#sec-norm)\n",
    "- **[Distance](#sec-distance)**\n",
    "- [Standard deviation](#sec-sd)\n",
    "- [Angle](#sec-angle)"
   ]
  },
  {
   "cell_type": "markdown",
   "metadata": {
    "slideshow": {
     "slide_type": "slide"
    }
   },
   "source": [
    "# Distance\n",
    "\n",
    "$\\color{#EF5645}{\\text{Definition}}$: The Euclidean distance, or just distance, between $n$-vectors $a$ and $b$ is:\n",
    "$$dist(a, b) = ||a - b||.$$\n",
    "\n",
    "This definition agrees with ordinary distance for $n = 1, 2, 3.$\n",
    "\n",
    "$\\color{#EF5645}{\\text{Definition}}$: The RMS deviation between the $n$-vectors $a$ and $b$ is defined as: \n",
    "$$rms(a - b).$$"
   ]
  },
  {
   "cell_type": "markdown",
   "metadata": {
    "slideshow": {
     "slide_type": "slide"
    }
   },
   "source": [
    "$\\color{#003660}{\\text{In Python}}$, we can compute distances using the `norm` function."
   ]
  },
  {
   "cell_type": "code",
   "execution_count": 15,
   "metadata": {},
   "outputs": [
    {
     "data": {
      "image/png": "[encoded data removed]",
      "text/plain": [
       "<Figure size 432x288 with 1 Axes>"
      ]
     },
     "metadata": {
      "needs_background": "light"
     },
     "output_type": "display_data"
    }
   ],
   "source": [
    "a = np.array([1, 2])\n",
    "b = np.array([2, 3])\n",
    "\n",
    "plt.plot([a[0], b[0]], [a[1], b[1]])\n",
    "plt.title(f\"Distance between points: {np.linalg.norm(a - b)}\");"
   ]
  },
  {
   "cell_type": "markdown",
   "metadata": {
    "slideshow": {
     "slide_type": "slide"
    }
   },
   "source": [
    "# Triangle inequality\n",
    "\n",
    "- Remember the triangle inequality: $||x+y|| \\leq ||x|| + ||y||$\n",
    "- Apply with: $x = a - b$ and $y = b - c$ and get:\n",
    "$$||a - c|| \\leq ||a - b|| + ||b - c||.$$\n",
    "i.e. the third edge is not longer than the sum of the other two.\n",
    "<center><img src=\"figs/03_triangle.jpg\" alt=\"Drawing\" width=450px/></center>"
   ]
  },
  {
   "cell_type": "markdown",
   "metadata": {
    "slideshow": {
     "slide_type": "slide"
    }
   },
   "source": [
    "$\\color{#003660}{\\text{In Python}}$, we can use a notion of distance to compute differences between more complex data."
   ]
  },
  {
   "cell_type": "code",
   "execution_count": 14,
   "metadata": {},
   "outputs": [
    {
     "data": {
      "image/png": "[encoded data removed]",
      "text/plain": [
       "<Figure size 432x216 with 2 Axes>"
      ]
     },
     "metadata": {
      "needs_background": "light"
     },
     "output_type": "display_data"
    }
   ],
   "source": [
    "import matplotlib.pyplot as plt\n",
    "import numpy as np\n",
    "import geomstats.datasets.utils as ds\n",
    "data, patient_ids, labels = ds.load_connectomes()\n",
    "fig = plt.figure(figsize=(6, 3))\n",
    "ax = fig.add_subplot(121); imgplot = ax.imshow(data[0])\n",
    "ax = fig.add_subplot(122); imgplot = ax.imshow(data[1])"
   ]
  },
  {
   "cell_type": "markdown",
   "metadata": {
    "slideshow": {
     "slide_type": "slide"
    }
   },
   "source": [
    "We verify that two schizophrenic subjects are \"closer\" than a schizophrenic subject and a healthy control."
   ]
  },
  {
   "cell_type": "code",
   "execution_count": 17,
   "metadata": {
    "slideshow": {
     "slide_type": "-"
    }
   },
   "outputs": [
    {
     "name": "stdout",
     "output_type": "stream",
     "text": [
      "[1 0 0 0 1 0 1 1 1 0 1 0 1 1 1 1 1 0 0 1 0 0 0 0 1 0 1 1 0 0 1 0 0 0 0 0 0\n",
      " 0 0 1 0 0 1 0 0 1 0 1 0 1 0 1 1 1 0 1 0 1 1 0 0 0 1 0 0 1 1 1 1 1 0 1 0 1\n",
      " 0 0 0 1 1 1 0 0 0 1 0 1]\n",
      "Dist healthy-schizophrenic: 5.3\n",
      "Dist between 2 schizophrenics: 4.5\n"
     ]
    }
   ],
   "source": [
    "print(labels)\n",
    "healthy = data[0]; schiz1 = data[1]; schiz2 = data[2]\n",
    "print(f\"Dist healthy-schizophrenic: {np.linalg.norm(healthy - schiz1):1.2}\")\n",
    "print(f\"Dist between 2 schizophrenics: {np.linalg.norm(schiz1 - schiz2):1.2}\")"
   ]
  },
  {
   "cell_type": "markdown",
   "metadata": {
    "slideshow": {
     "slide_type": "slide"
    }
   },
   "source": [
    "# Nearest Neighbor\n",
    "\n",
    "$\\color{#EF5645}{\\text{Definition}}$: If $z_1, . . . , z_m$ is a list of $n$-vectors, $z_j$ is the nearest neighbor of the $n$-vector $x$ if $‖x − z_j ‖ ≤ ‖x − z_i ‖$, for all $i = 1, . . . , m$.\n",
    "\n",
    "<center><img src=\"figs/03_nn.jpg\" alt=\"default\" width=250px/></center>\n",
    "\n",
    "$\\color{#047C91}{\\text{Exercise}}$: Design an algorithm that can predict if a subject is schizophrenic or not."
   ]
  },
  {
   "cell_type": "markdown",
   "metadata": {
    "slideshow": {
     "slide_type": "slide"
    }
   },
   "source": [
    "# Outline: 03 Norms and Distances\n",
    "\n",
    "- [Norm](#sec-norm)\n",
    "- [Distance](#sec-distance)\n",
    "- **[Standard deviation](#sec-sd)**\n",
    "- [Angle](#sec-angle)"
   ]
  },
  {
   "cell_type": "markdown",
   "metadata": {
    "slideshow": {
     "slide_type": "slide"
    }
   },
   "source": [
    "# Standard Deviation\n",
    "\n",
    "$\\color{#EF5645}{\\text{Definition}}$: The standard deviation of the $n$-vector $x$ is:\n",
    "$$std(x) = rms(x - \\bar{x}1) = \\frac{||x - \\bar{x}1. ||}{\\sqrt{n}}, \\text{ where $\\bar{x}$ represents the average of $x$}.$$\n",
    "The standard deviation gives the typical amount that $x_i$ varies around $\\bar{x}.$"
   ]
  },
  {
   "cell_type": "markdown",
   "metadata": {
    "slideshow": {
     "slide_type": "slide"
    }
   },
   "source": [
    "$\\color{#6D7D33}{\\text{Properties}}$:\n",
    "1. $std(x) = 0$ if and only if $x = \\alpha1$ for some scalar $\\alpha$.\n",
    "2. We have: $rms(x)^2 = \\bar{x}^2 + std(x)^2$"
   ]
  },
  {
   "cell_type": "markdown",
   "metadata": {
    "slideshow": {
     "slide_type": "slide"
    }
   },
   "source": [
    "# Example: Finance\n",
    "\n",
    "- $x$ is time series of returns on some investment (say, in %),\n",
    "- $\\bar{x}$ = \"mean return\" over the time period,\n",
    "- $std(x)$ = how variable is the return = the \"risk\".\n",
    "\n",
    "Multiple investments (with different return time series) are:\n",
    "- compared in terms of return and risk,\n",
    "- and plotted on a risk-return plot.\n"
   ]
  },
  {
   "cell_type": "markdown",
   "metadata": {
    "slideshow": {
     "slide_type": "slide"
    }
   },
   "source": [
    "$\\color{#047C91}{\\text{Examples}}$:\n",
    "\n",
    "<center><img src=\"figs/03_finance.jpg\" alt=\"default\" width=700px/></center>\n",
    "\n",
    "$\\color{#047C91}{\\text{Exercise}}$: Show, for return time series $x$ with mean return 8% and risk 3%, that a gain ($x_i \\geq 30%$) can occur in no more than 8% of the time. \n"
   ]
  },
  {
   "cell_type": "markdown",
   "metadata": {
    "slideshow": {
     "slide_type": "slide"
    }
   },
   "source": [
    "# Outline: 03 Norms and Distances\n",
    "\n",
    "- [Norm](#sec-norm)\n",
    "- [Distance](#sec-distance)\n",
    "- [Standard deviation](#sec-sd)\n",
    "- **[Angle](#sec-angle)**"
   ]
  },
  {
   "cell_type": "markdown",
   "metadata": {
    "slideshow": {
     "slide_type": "slide"
    }
   },
   "source": [
    "# Cauchy-Schwarz Inequality\n",
    "\n",
    "$\\color{#6D7D33}{\\text{Theorem}}$: For any two $n$-vectors $a$ and $b$, we have the Cauchy-Schwarz inequality:\n",
    "$$|a^Tb| \\leq ||a||||b||.$$"
   ]
  },
  {
   "cell_type": "markdown",
   "metadata": {
    "slideshow": {
     "slide_type": "slide"
    }
   },
   "source": [
    "# Angle\n",
    "\n",
    "$\\color{#EF5645}{\\text{Definition}}$: The angle between two non-zeros $n$-vectors $a$ and $b$ is:\n",
    "$$\\angle(a, b) = arccos(\\frac{a^Tb}{||a||||b||}).$$\n",
    "It coincides with the ordinary angle in 2D and 3D.\n",
    "\n",
    "$\\color{#6D7D33}{\\text{Properties}}$: The angle $\\angle(a, b)$ is the number in $[0, \\pi]$ that satisfies: $a^Tb = ||a||||b||\\cos(\\angle(a, b))$"
   ]
  },
  {
   "cell_type": "markdown",
   "metadata": {
    "slideshow": {
     "slide_type": "slide"
    }
   },
   "source": [
    "# Classification of angles\n",
    "\n",
    "Write: $\\theta = \\angle(a, b)$ \n",
    "- $θ = π/2 = 90^\\circ$: a and b are orthogonal, written $a ⊥ b$, ($a^T b = 0$) \n",
    "- $θ = 0$: a and b are aligned ($a^T b = ‖a‖ ‖b‖$) \n",
    "- $θ = π = 180^\\circ$: a and b are anti-aligned ($a^T b = −‖a‖ ‖b‖$)\n",
    "- $θ ≤ π/2 = 90^\\circ$: a and b make an acute angle ($a^T b ≥ 0$)\n",
    "- $θ ≥ π/2 = 90^\\circ$: a and b make an obtuse angle ($a^T b ≤ 0$)\n",
    "\n",
    "<center><img src=\"figs/03_angles.jpg\" alt=\"default\"/></center>\n"
   ]
  },
  {
   "cell_type": "markdown",
   "metadata": {
    "slideshow": {
     "slide_type": "slide"
    }
   },
   "source": [
    "$\\color{#003660}{\\text{In Python}}$:"
   ]
  },
  {
   "cell_type": "code",
   "execution_count": 7,
   "metadata": {},
   "outputs": [],
   "source": [
    "import numpy as np\n",
    "def angle(a, b):\n",
    "    ..."
   ]
  },
  {
   "cell_type": "markdown",
   "metadata": {
    "slideshow": {
     "slide_type": "slide"
    }
   },
   "source": [
    "# Spherical distance\n",
    "\n",
    "if $a, b$ are on sphere of radius $R$, distance along the sphere is $R∠(a, b)$\n",
    "\n",
    "\n",
    "<center><img src=\"figs/03_sphere.jpg\" alt=\"default\" width=400px/></center>"
   ]
  },
  {
   "cell_type": "markdown",
   "metadata": {
    "slideshow": {
     "slide_type": "slide"
    }
   },
   "source": [
    "# Example: Natural Language Processing (NLP)\n",
    "\n",
    "- Dissimilarity between two documents measures by angle between \"word count vectors\"\n",
    "\n",
    "<center><img src=\"figs/03_angle_wiki.jpg\" alt=\"default\"/></center>"
   ]
  },
  {
   "cell_type": "markdown",
   "metadata": {
    "slideshow": {
     "slide_type": "slide"
    }
   },
   "source": [
    "# Outline: 03 Norms and Distances\n",
    "\n",
    "- [Norm](#sec-norm)\n",
    "- [Distance](#sec-distance)\n",
    "- [Standard deviation](#sec-sd)\n",
    "- [Angle](#sec-angle)"
   ]
  },
  {
   "cell_type": "markdown",
   "metadata": {
    "slideshow": {
     "slide_type": "slide"
    }
   },
   "source": [
    "# Resources\n",
    "\n",
    "- Book ILA Ch. 3"
   ]
  }
 ],
 "metadata": {
  "celltoolbar": "Slideshow",
  "kernelspec": {
   "display_name": "Python 3 (ipykernel)",
   "language": "python",
   "name": "python3"
  },
  "language_info": {
   "codemirror_mode": {
    "name": "ipython",
    "version": 3
   },
   "file_extension": ".py",
   "mimetype": "text/x-python",
   "name": "python",
   "nbconvert_exporter": "python",
   "pygments_lexer": "ipython3",
   "version": "3.9.7"
  }
 },
 "nbformat": 4,
 "nbformat_minor": 2
}
