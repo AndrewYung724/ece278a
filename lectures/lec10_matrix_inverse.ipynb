{
 "cells": [
  {
   "cell_type": "markdown",
   "id": "6fb4123c",
   "metadata": {
    "slideshow": {
     "slide_type": "slide"
    }
   },
   "source": [
    "# 10 Matrix Inverse"
   ]
  },
  {
   "cell_type": "markdown",
   "id": "259ee929",
   "metadata": {
    "cell_style": "split"
   },
   "source": [
    "<img src=\"figs/07_winds.png\" alt=\"Drawing\" width=450px/>"
   ]
  },
  {
   "cell_type": "markdown",
   "id": "8af6fc14",
   "metadata": {
    "cell_style": "split"
   },
   "source": [
    "<img src=\"figs/10_poly.png\" alt=\"Drawing\" width=450px/>"
   ]
  },
  {
   "cell_type": "markdown",
   "id": "0841548c",
   "metadata": {
    "slideshow": {
     "slide_type": "slide"
    }
   },
   "source": [
    "#### Unit 1: Vectors, Book ILA Ch. 1-5\n",
    "\n",
    "#### Unit 2: Matrices, Book ILA Ch. 6-11 + Book IMC Ch. 2\n",
    "- 06 Matrices\n",
    "- 07 Linear Equations\n",
    "- 08 Linear Dynamical Systems\n",
    "- 09 Matrix Multiplication\n",
    "- **_10 Matrix Inverse_**\n",
    "\n",
    "#### Unit 3: Least Squares, Book ILA Ch. 12-14"
   ]
  },
  {
   "cell_type": "markdown",
   "id": "41b8439d",
   "metadata": {
    "slideshow": {
     "slide_type": "slide"
    }
   },
   "source": [
    "# Outline: 10 Matrix Inverse\n",
    "\n",
    "- **[Left and right inverses](#sec-matrices)**\n",
    "- [Inverse](#sec-matrices)\n",
    "- [Solving linear equations](#sec-matrices)\n",
    "- [Examples](#sec-matrices)\n",
    "- [Pseudo-inverse](#sec-matrices)"
   ]
  },
  {
   "cell_type": "markdown",
   "id": "e4f97d44",
   "metadata": {
    "slideshow": {
     "slide_type": "slide"
    }
   },
   "source": [
    "# Left inverse\n",
    "\n",
    "$\\color{#EF5645}{\\text{Definition}}$: Consider a scalar $a$. A scalar $x$ that satisfies $xa = 1$ is called the inverse of $a$.\n",
    "- We have $x = \\frac{1}{a}$, which exists and is unique if and only if $a \\neq 0 $.\n",
    "\n",
    "$\\color{#EF5645}{\\text{Definition}}$: Consider a matrix $A$. A matrix $X$ that satistifies:\n",
    "$$XA = I$$ is called a left-inverse of $A$. If a left inverse exists, A is left-invertible. The left-inverse might not be unique.\n"
   ]
  },
  {
   "cell_type": "markdown",
   "id": "ed904b7c",
   "metadata": {
    "slideshow": {
     "slide_type": "slide"
    }
   },
   "source": [
    "$\\color{#047C91}{\\text{Exercise}}$: Show that the matrix:\n",
    "$$A = \\begin{bmatrix}\n",
    "-3 & -4 \\\\\n",
    "4 & 6 \\\\\n",
    "1 & 1 \\end{bmatrix}$$ has two different left-inverses:\n",
    "$$X_1 = \\frac{1}{9}\\begin{bmatrix}\n",
    "-11 & -10 & 16 \\\\\n",
    "7 & 8 & -11 \\end{bmatrix}, \\quad X_2 = \\frac{1}{2}\\begin{bmatrix}\n",
    "0 & -1 & 6 \\\\\n",
    "0 & 1 & -4 \\end{bmatrix}.$$"
   ]
  },
  {
   "cell_type": "markdown",
   "id": "01574602",
   "metadata": {
    "slideshow": {
     "slide_type": "slide"
    }
   },
   "source": [
    "# Properties of left inverses\n",
    "\n",
    "$\\color{#6D7D33}{\\text{Properties}}$:\n",
    "- If $A$ has a left inverse, then the columns of $A$ are linearly independent.\n",
    "- If $A$ has a left inverse, then $A$ is tall or square.\n",
    "\n",
    "$\\color{#047C91}{\\text{Exercise}}$: Prove the above statement."
   ]
  },
  {
   "cell_type": "markdown",
   "id": "44d38a63",
   "metadata": {
    "slideshow": {
     "slide_type": "slide"
    }
   },
   "source": [
    "# Solving linear equations with left inverses\n",
    "\n",
    "$\\color{#EF5645}{\\text{Proposition}}$: Consider the linear equation $Ax = b$. Consider $C$ a left-inverse of $A$. Then, a solution to the linear equation is:\n",
    "$$x = Cb.$$\n",
    "\n",
    "$\\color{#047C91}{\\text{Exercise}}$: Prove the above statement."
   ]
  },
  {
   "cell_type": "markdown",
   "id": "f7ba53b1",
   "metadata": {
    "slideshow": {
     "slide_type": "slide"
    }
   },
   "source": [
    "$\\color{#047C91}{\\text{Example}}$: Consider the matrix $A = \\begin{bmatrix}\n",
    "-3 & -4 \\\\\n",
    "4 & 6 \\\\\n",
    "1 & 1 \\end{bmatrix}$ from the previous slide, and $b = \\begin{bmatrix} 1 \\\\ -2 \\\\ 0\\end{bmatrix}$. \n",
    "\n",
    "Give two solutions to the linear equation:\n",
    "$$ Ax = b.$$"
   ]
  },
  {
   "cell_type": "markdown",
   "id": "89b5dfbe",
   "metadata": {
    "slideshow": {
     "slide_type": "slide"
    }
   },
   "source": [
    "# Right inverses\n",
    "\n",
    "$\\color{#EF5645}{\\text{Definition}}$: Consider a matrix $A$. A matrix $X$ that satistifies:\n",
    "$$AX = I$$ is called a right-inverse of $A$. If a right inverse exists, A is right-invertible. The right-inverse might not be unique."
   ]
  },
  {
   "cell_type": "markdown",
   "id": "253a1048",
   "metadata": {
    "slideshow": {
     "slide_type": "slide"
    }
   },
   "source": [
    "# Properties of right inverses\n",
    "\n",
    "$\\color{#6D7D33}{\\text{Properties}}$:\n",
    "- $A$ is right invertible if and only if $A^T$ is left invertible.\n",
    "- $A$ is right invertible if and only if its rows are linearly independent.\n",
    "- If $A$ is right invertible, then $A$ is wide or square.\n",
    "\n",
    "$\\color{#047C91}{\\text{Exercise}}$: Prove the above statements."
   ]
  },
  {
   "cell_type": "markdown",
   "id": "b52c0917",
   "metadata": {
    "slideshow": {
     "slide_type": "slide"
    }
   },
   "source": [
    "# Solving linear equations with right inverses\n",
    "\n",
    "$\\color{#EF5645}{\\text{Proposition}}$: Consider the linear equation $Ax = b$. Consider $B$ a right-inverse of $A$. Then, a solution to the linear equation is:\n",
    "$$x = Bb.$$\n",
    "\n",
    "$\\color{#047C91}{\\text{Exercise}}$: Prove the above statement."
   ]
  },
  {
   "cell_type": "markdown",
   "id": "8b2ee399",
   "metadata": {
    "slideshow": {
     "slide_type": "slide"
    }
   },
   "source": [
    "# Outline: 10 Matrix Inverse\n",
    "\n",
    "- [Left and right inverses](#sec-matrices)\n",
    "- **[Inverse](#sec-matrices)**\n",
    "- [Solving linear equations](#sec-matrices)\n",
    "- [Examples](#sec-matrices)\n",
    "- [Pseudo-inverse](#sec-matrices)"
   ]
  },
  {
   "cell_type": "markdown",
   "id": "0d8e31b8",
   "metadata": {
    "slideshow": {
     "slide_type": "slide"
    }
   },
   "source": [
    "# Inverse\n",
    "\n",
    "$\\color{#EF5645}{\\text{Definition}}$: If $A$ has a left and a right inverse, they are unique and equal. We say that $A$ is invertible. We denote $A^{-1}$ the (unique) inverse of $A$.\n",
    "\n",
    "$\\color{#6D7D33}{\\text{Properties}}$:\n",
    "- If $A$ is invertible then $A$ is square.\n",
    "- The inverse of the inverse is: $(A^{-1})^{-1} = A$."
   ]
  },
  {
   "cell_type": "markdown",
   "id": "fe1bd87d",
   "metadata": {
    "slideshow": {
     "slide_type": "slide"
    }
   },
   "source": [
    "$\\color{#003660}{\\text{In Python}}$, we use `np.linalg.inv` to compute the inverse."
   ]
  },
  {
   "cell_type": "code",
   "execution_count": 7,
   "id": "8aeb4800",
   "metadata": {},
   "outputs": [
    {
     "data": {
      "text/plain": [
       "Ellipsis"
      ]
     },
     "execution_count": 7,
     "metadata": {},
     "output_type": "execute_result"
    }
   ],
   "source": [
    "import numpy as np\n",
    "\n",
    "A = np.array([\n",
    "    [-3, -4],\n",
    "    [4, 6]\n",
    "])\n",
    "\n",
    "..."
   ]
  },
  {
   "cell_type": "markdown",
   "id": "3b540267",
   "metadata": {
    "slideshow": {
     "slide_type": "slide"
    }
   },
   "source": [
    "$\\color{#003660}{\\text{In Python}}$, a system of linear equations can be solved in two ways:\n",
    "- using `np.linalg.inv`\n",
    "- using `np.linalg.solve`"
   ]
  },
  {
   "cell_type": "code",
   "execution_count": 5,
   "id": "ae742657",
   "metadata": {},
   "outputs": [],
   "source": [
    "A = np.array([[-3, -4], [4, 6]]); b = np.array([1, 2])\n"
   ]
  },
  {
   "cell_type": "markdown",
   "id": "1e566679",
   "metadata": {
    "slideshow": {
     "slide_type": "slide"
    }
   },
   "source": [
    "# Well-known inverses\n",
    "\n",
    "$\\color{#6D7D33}{\\text{Properties}}$:\n",
    "- $I^{-1} = I$\n",
    "- If $Q$ is square matrix with $Q^TQ = I$, then $Q^{-1} = Q^T$. E.g. rotation matrices.\n",
    "- Consider $A$ is a $2 \\times 2$ matrix:\n",
    "  - $A$ is invertible if and only if $A_{11}A_{22} \\neq A_{12}A_{21}$.\n",
    "  - In this case: $A^{-1} = \\frac{1}{A_{11}A_{22} - A_{12}A_{21}}\\begin{bmatrix} A_{22} & -A_{12} \\\\ -A_{21} & A_{11} \\end{bmatrix}$\n"
   ]
  },
  {
   "cell_type": "markdown",
   "id": "ff351212",
   "metadata": {
    "slideshow": {
     "slide_type": "slide"
    }
   },
   "source": [
    "$\\color{#6D7D33}{\\text{Properties}}$: Consider invertible square matrices $A, B$.\n",
    "- $(AB)^{-1} = B^{-1}A^{-1}$\n",
    "- $(A^T)^{-1} = (A^{-1})^T$\n",
    "- Negative powers! $A^{-k} = (A^{k})^{-1}$"
   ]
  },
  {
   "cell_type": "markdown",
   "id": "8994eb30",
   "metadata": {
    "slideshow": {
     "slide_type": "slide"
    }
   },
   "source": [
    "# Triangular Matrices"
   ]
  },
  {
   "cell_type": "markdown",
   "id": "ffbe5d58",
   "metadata": {},
   "source": [
    "$\\color{#6D7D33}{\\text{Properties}}$: Any lower triangular matrix $L$ with nonzero diagonal entries is invertible. Any upper triangular $R$ with nonzero diagonal entries is invertible.\n",
    "\n",
    "$\\color{#6D7D33}{\\text{Properties}}$: Consider $A$, a square and invertible matrix. Consider the QR factorization $A = QR$. Then, the inverse of $A$ can be written: $A^{-1} = R^{-1}Q^T$."
   ]
  },
  {
   "cell_type": "markdown",
   "id": "e342339e",
   "metadata": {
    "slideshow": {
     "slide_type": "slide"
    }
   },
   "source": [
    "# Outline: 10 Matrix Inverse\n",
    "\n",
    "- [Left and right inverses](#sec-matrices)\n",
    "- [Inverse](#sec-matrices)\n",
    "- **[Solving linear equations](#sec-matrices)**\n",
    "- [Examples](#sec-matrices)\n",
    "- [Pseudo-inverse](#sec-matrices)"
   ]
  },
  {
   "cell_type": "markdown",
   "id": "d93c6e0f",
   "metadata": {
    "slideshow": {
     "slide_type": "slide"
    }
   },
   "source": [
    "# Special case: back-substitution\n",
    "\n",
    "$\\color{#6D7D33}{\\text{Method}}$:  Consider $R$ an upper triangular matrix with nonzero entries and the linear equation: $Rx = b$, which can be re-written as:\n",
    "$$\\begin{matrix}\n",
    "R_{11}x_1 + & R_{12}x_2 + & ... +& R_{1, n}x_n &= b_1 \\\\\n",
    "&&\\vdots&&\\\\\n",
    "&&& R_{nn}x_n &= b_n\n",
    "\\end{matrix}$$\n",
    "\n",
    "The solution of the linear equation can be found by back-substitution:\n",
    "- Last equation gives: $x_n = b_n / R_{nn}$\n",
    "- Second to last equation gives: $x_{n-1} = (b_{n-1} - R_{n-1, n}x_n)/ R_{n-1, n-1}$\n",
    "- Iterate."
   ]
  },
  {
   "cell_type": "markdown",
   "id": "49276b10",
   "metadata": {
    "slideshow": {
     "slide_type": "slide"
    }
   },
   "source": [
    "# Solving via QR Factorization\n",
    "\n",
    "$\\color{#6D7D33}{\\text{Method}}$: Consider $A$ an invertible matrix and the linear equation $Ax = b$. Assume that the $QR$ factorization of $A$ is given: $A = QR$.\n",
    "\n",
    "The solution of the linear equation can be found by:\n",
    "- Compute $Q^T b$\n",
    "- Solve the linear equation $Rx = Q^Tb$ by back substitution."
   ]
  },
  {
   "cell_type": "markdown",
   "id": "bcbf9899",
   "metadata": {
    "slideshow": {
     "slide_type": "slide"
    }
   },
   "source": [
    "# Outline: 10 Matrix Inverse\n",
    "\n",
    "- [Left and right inverses](#sec-matrices)\n",
    "- [Inverse](#sec-matrices)\n",
    "- [Solving linear equations](#sec-matrices)\n",
    "- **[Examples](#sec-matrices)**\n",
    "- [Pseudo-inverse](#sec-matrices)"
   ]
  },
  {
   "cell_type": "markdown",
   "id": "7bc2601f",
   "metadata": {
    "slideshow": {
     "slide_type": "slide"
    }
   },
   "source": [
    "# Example: Polynomial Interpolation\n",
    "\n",
    "$\\color{#047C91}{\\text{Example}}$: Consider a cubic polynomial with unknown coefficients $c_0, ..., c_3$:\n",
    "$$p(x) = c_0 + c_1 x + c_2 x^2 + c_3 x^3,$$\n",
    "that satisfies: $p(-1.1) = b_0, p(-0.4) = b_1, p(0.1)=b_3, p(0.8) = b_4$.\n",
    "\n",
    "Find the polynomial that interpolates these 4 points.\n",
    "\n",
    "<center><img src=\"figs/10_poly.png\" alt=\"default\" width=300px/></center>"
   ]
  },
  {
   "cell_type": "markdown",
   "id": "35fffe6e",
   "metadata": {
    "slideshow": {
     "slide_type": "slide"
    }
   },
   "source": [
    "# Outline: 10 Matrix Inverse\n",
    "\n",
    "- [Left and right inverses](#sec-matrices)\n",
    "- [Inverse](#sec-matrices)\n",
    "- [Solving linear equations](#sec-matrices)\n",
    "- [Examples](#sec-matrices)\n",
    "- **[Pseudo-inverse](#sec-matrices)**"
   ]
  },
  {
   "cell_type": "code",
   "execution_count": null,
   "id": "f735debb",
   "metadata": {},
   "outputs": [],
   "source": []
  }
 ],
 "metadata": {
  "celltoolbar": "Slideshow",
  "kernelspec": {
   "display_name": "Python 3 (ipykernel)",
   "language": "python",
   "name": "python3"
  },
  "language_info": {
   "codemirror_mode": {
    "name": "ipython",
    "version": 3
   },
   "file_extension": ".py",
   "mimetype": "text/x-python",
   "name": "python",
   "nbconvert_exporter": "python",
   "pygments_lexer": "ipython3",
   "version": "3.9.7"
  }
 },
 "nbformat": 4,
 "nbformat_minor": 5
}
