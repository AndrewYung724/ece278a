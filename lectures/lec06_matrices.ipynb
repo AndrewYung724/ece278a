{
 "cells": [
  {
   "cell_type": "markdown",
   "metadata": {
    "slideshow": {
     "slide_type": "slide"
    }
   },
   "source": [
    "# 06 Matrices"
   ]
  },
  {
   "cell_type": "markdown",
   "metadata": {},
   "source": [
    "<center><img src=\"figs/06_matrix_everywhere.gif\" alt=\"default\"/></center>"
   ]
  },
  {
   "cell_type": "markdown",
   "metadata": {
    "slideshow": {
     "slide_type": "slide"
    }
   },
   "source": [
    "# Class Survey\n",
    "\n",
    "Fill out the survey at this link! :) \n",
    "\n",
    "https://forms.gle/E7sQc2URLSvkJcqu7"
   ]
  },
  {
   "cell_type": "markdown",
   "metadata": {
    "slideshow": {
     "slide_type": "slide"
    }
   },
   "source": [
    "#### Unit 1: Vectors, Book ILA Ch. 1-5\n",
    "\n",
    "#### Unit 2: Matrices, Book ILA Ch. 6-11 + Book IMC Ch. 2\n",
    "- **_06 Matrices_**\n",
    "- 07 Linear Equations\n",
    "- 08 Linear Dynamical Systems\n",
    "- 09 Matrix Multiplication\n",
    "- 10 Matrix Inverse\n",
    "\n",
    "#### Unit 3: Least Squares, Book ILA Ch. 12-14 + Book IMC Ch. 8\n",
    "#### Unit 4: Eigen-decomposition, Book IMC Ch. 10, 12, 19"
   ]
  },
  {
   "cell_type": "markdown",
   "metadata": {},
   "source": [
    "# Outline: 06 Matrices\n",
    "\n",
    "- **[Matrices](#sec-matrices)**\n",
    "- [Matrix-vector multiplication](#matvec)\n",
    "- [Examples](#examples)"
   ]
  },
  {
   "cell_type": "markdown",
   "metadata": {
    "slideshow": {
     "slide_type": "slide"
    }
   },
   "source": [
    "# Matrices\n",
    "\n",
    "$\\color{#EF5645}{\\text{Definition}}$: A matrix is a rectangular array of numbers, e.g.:\n",
    "$$A = \\begin{bmatrix}\n",
    "0   & 1  & -2.3  \\\\\n",
    "1.3 & 4  & -0.1 \n",
    "\\end{bmatrix}$$\n",
    "\n",
    "- Its size, or shape, is: (row dimension) x (column dimension).\n",
    "  - $\\color{#047C91}{\\text{Example}}$: Matrix above has size 2 x 3.\n",
    "- Its elements are called: entries, coefficients.\n",
    "- $A_{i, j}$ refers to element at ith row and jth column in matrix $A$.\n",
    "  - i is the row index and j is the column index."
   ]
  },
  {
   "cell_type": "markdown",
   "metadata": {
    "slideshow": {
     "slide_type": "slide"
    }
   },
   "source": [
    "$\\color{#003660}{\\text{In Python}}$, we use `numpy` and `np.array` to build matrices. The shape of the matrix can be accessed via the function `shape`."
   ]
  },
  {
   "cell_type": "code",
   "execution_count": 7,
   "metadata": {},
   "outputs": [
    {
     "name": "stdout",
     "output_type": "stream",
     "text": [
      "(2, 3)\n",
      "(2, 3)\n",
      "4\n"
     ]
    }
   ],
   "source": [
    "import numpy as np\n",
    "\n",
    "A = np.array([\n",
    "    [0, 1, -2.3], \n",
    "    [1.3, 4, -0.1]\n",
    "])\n",
    "print(np.shape(A)); print(A.shape)\n",
    "v = np.array([1, 2, 3, 4]); print(len(v))"
   ]
  },
  {
   "cell_type": "markdown",
   "metadata": {
    "slideshow": {
     "slide_type": "slide"
    }
   },
   "source": [
    "$\\color{#003660}{\\text{In Python}}$, we can access the elements of the matrix."
   ]
  },
  {
   "cell_type": "code",
   "execution_count": 18,
   "metadata": {},
   "outputs": [
    {
     "name": "stdout",
     "output_type": "stream",
     "text": [
      "1.1\n",
      "2.2\n",
      "3.3\n",
      "4.3\n"
     ]
    }
   ],
   "source": [
    "v = [1.1, 2.2, 3.3, 4.3]; #print(len(v))\n",
    "\n",
    "for v_index in range(len(v)):\n",
    "    print(v[v_index])\n",
    "    \n",
    "for v_value in v:\n",
    "    print(v_value)"
   ]
  },
  {
   "cell_type": "code",
   "execution_count": 29,
   "metadata": {
    "slideshow": {
     "slide_type": "slide"
    }
   },
   "outputs": [
    {
     "name": "stdout",
     "output_type": "stream",
     "text": [
      "[[ 0.   1.  -2.3]\n",
      " [ 1.3  4.  -0.1]]\n",
      "-2.3\n",
      "-2.3\n",
      "Begin for loop:\n",
      "(2, 3)\n",
      "0.0\n",
      "1.0\n",
      "-2.3\n",
      "1.3\n",
      "4.0\n",
      "-0.1\n"
     ]
    }
   ],
   "source": [
    "print(A); print(A[0][2]); print(A[0, 2])\n",
    "# Implement code that prints all entries of the matrix A\n",
    "print(\"Begin for loop:\")\n",
    "print(A.shape)\n",
    "n_rows = A.shape[0]; n_columns = A.shape[1]\n",
    "n_rows, n_columns = A.shape\n",
    "\n",
    "for i in range(n_rows):\n",
    "    for j in range(n_columns):\n",
    "        print(A[i, j])"
   ]
  },
  {
   "cell_type": "markdown",
   "metadata": {
    "slideshow": {
     "slide_type": "slide"
    }
   },
   "source": [
    "# Sizes/Shapes of Matrices\n",
    "\n",
    "$\\color{#EF5645}{\\text{Definitions}}$: A m x n matrix $A$ is:\n",
    "- tall if m > n,\n",
    "- wide if m < n,\n",
    "- square if m = n."
   ]
  },
  {
   "cell_type": "code",
   "execution_count": 15,
   "metadata": {},
   "outputs": [],
   "source": [
    "A = ..."
   ]
  },
  {
   "cell_type": "markdown",
   "metadata": {
    "slideshow": {
     "slide_type": "slide"
    }
   },
   "source": [
    "# Matrices, Vectors and Scalars\n",
    "\n",
    "$\\color{#EF5645}{\\text{Definitions}}$:\n",
    "- A 1 x 1 matrix is a number or scalar.\n",
    "- A n x 1 matrix is an $n$-vector.\n",
    "- A 1 x n matrix is a $n$-row-vector. \n",
    "\n",
    "Starting now, we will distinguish vectors and row vectors."
   ]
  },
  {
   "cell_type": "markdown",
   "metadata": {
    "slideshow": {
     "slide_type": "slide"
    }
   },
   "source": [
    "# Columns and rows of a matrix"
   ]
  },
  {
   "cell_type": "markdown",
   "metadata": {},
   "source": [
    "$\\color{#EF5645}{\\text{Notations}}$: Take $A$ a $m \\times n$ matrix with entries $A_{ij}$ for $i=1, ..., m$ and $j=1..., n$.\n",
    "- Its jth column is the $m$-vector:\n",
    "$$\\begin{bmatrix}\n",
    "A_{1j} \\\\\n",
    "\\vdots \\\\\n",
    "A_{mj}\n",
    "\\end{bmatrix}$$\n",
    "- Its ith row is the $n$-row-vector: $[A_{i1}, ..., A_{in}]$."
   ]
  },
  {
   "cell_type": "markdown",
   "metadata": {
    "slideshow": {
     "slide_type": "slide"
    }
   },
   "source": [
    "# Slices of a matrix\n",
    "\n",
    "$\\color{#EF5645}{\\text{Definition}}$ The slice of matrix $A_{p:q, r:s}$ is the matrix:\n",
    "$$\\begin{bmatrix}\n",
    "A_{pr} & A_{p, r+1} & ... & A_{ps}  \\\\\n",
    "... & ... & ... & ... \\\\\n",
    "A_{qr} & A_{q, r+1} & ... & A_{qs}\n",
    "\\end{bmatrix}$$"
   ]
  },
  {
   "cell_type": "markdown",
   "metadata": {
    "slideshow": {
     "slide_type": "slide"
    }
   },
   "source": [
    "$\\color{#003660}{\\text{In Python}}$, we can extract rows, columns and slices:"
   ]
  },
  {
   "cell_type": "code",
   "execution_count": 9,
   "metadata": {},
   "outputs": [
    {
     "data": {
      "text/plain": [
       "'Extract rows, columns and slices from matrix A.'"
      ]
     },
     "execution_count": 9,
     "metadata": {},
     "output_type": "execute_result"
    }
   ],
   "source": [
    "\"\"\"Extract rows, columns and slices from matrix A.\"\"\""
   ]
  },
  {
   "cell_type": "markdown",
   "metadata": {
    "slideshow": {
     "slide_type": "slide"
    }
   },
   "source": [
    "# Block matrices\n",
    "\n",
    "$\\color{#EF5645}{\\text{Definition}}$: A matrix $A$ composed from other matrices is called a block matrix:\n",
    "$$A = \\begin{bmatrix}\n",
    "B & C  \\\\\n",
    "D & E\n",
    "\\end{bmatrix}$$\n",
    "where $B, C, D, E$ are called submatrices or blocks of $A$."
   ]
  },
  {
   "cell_type": "markdown",
   "metadata": {
    "slideshow": {
     "slide_type": "slide"
    }
   },
   "source": [
    "# Column/row representations\n",
    "\n",
    "$\\color{#EF5645}{\\text{Notations}}$: Take $A$ a $m \\times n$ matrix with entries $A_{ij}$ for $i=1, ..., m$ and $j=1..., n$.\n",
    "- $A$ is the block matrix of its columns $a_1, ..., a_n$:\n",
    "  - $A = [a_1 ... a_n]$\n",
    "- $A$ is the block matrix of its rows $b_1, ..., b_m$:\n",
    "  - $A = \\begin{bmatrix}\n",
    "  b_1 \\\\\n",
    "  \\vdots \\\\\n",
    "  b_m\n",
    "  \\end{bmatrix}.$"
   ]
  },
  {
   "cell_type": "markdown",
   "metadata": {
    "slideshow": {
     "slide_type": "slide"
    }
   },
   "source": [
    "# Examples in ECE and beyond\n",
    "\n",
    "- Images: $A_{ij}$ is intensity value at $i, j$.\n",
    "\n",
    "$\\color{#003660}{\\text{In Python}}$, we can plot an image represented by a matrix."
   ]
  },
  {
   "cell_type": "code",
   "execution_count": 20,
   "metadata": {},
   "outputs": [
    {
     "data": {
      "text/plain": [
       "Ellipsis"
      ]
     },
     "execution_count": 20,
     "metadata": {},
     "output_type": "execute_result"
    }
   ],
   "source": [
    "..."
   ]
  },
  {
   "cell_type": "markdown",
   "metadata": {
    "slideshow": {
     "slide_type": "slide"
    }
   },
   "source": [
    "# Examples in ECE and beyond\n",
    "\n",
    "\n",
    "- Weather: $A_{ij}$ is rainfall data at location $i$ on day $j$.\n",
    "- Finances: $A_{ij}$ is the return of asset $i$ in period $j$.\n",
    "\n",
    "$\\color{#047C91}{\\text{Exercise}}$: In each of these, what do the rows and columns mean?"
   ]
  },
  {
   "cell_type": "markdown",
   "metadata": {
    "slideshow": {
     "slide_type": "slide"
    }
   },
   "source": [
    "# Special Matrices\n",
    "\n",
    "$\\color{#EF5645}{\\text{Definition}}$: The $m \\times n$ zero matrix (resp. ones-matrix) is the matrix with all entries equal to $0$ (resp. to $1$).\n",
    "\n",
    "$\\color{#EF5645}{\\text{Definition}}$: The identity matrix $I$ is the square matrix with $I_{ii} = 1$ and $I_{ij} = 0$ if $i\\neq j$, for example:\n",
    "$$\\begin{bmatrix}\n",
    "1 & 0 \\\\\n",
    "0 & 1 \n",
    "\\end{bmatrix}.$$"
   ]
  },
  {
   "cell_type": "markdown",
   "metadata": {
    "slideshow": {
     "slide_type": "slide"
    }
   },
   "source": [
    "$\\color{#003660}{\\text{In Python}}$:"
   ]
  },
  {
   "cell_type": "code",
   "execution_count": 11,
   "metadata": {},
   "outputs": [
    {
     "data": {
      "text/plain": [
       "'Code zeroes matrices, ones matrices and the identity matrix'"
      ]
     },
     "execution_count": 11,
     "metadata": {},
     "output_type": "execute_result"
    }
   ],
   "source": [
    "\"\"\"Code zeroes matrices, ones matrices and the identity matrix\"\"\""
   ]
  },
  {
   "cell_type": "markdown",
   "metadata": {
    "slideshow": {
     "slide_type": "slide"
    }
   },
   "source": [
    "# Diagonal Matrices"
   ]
  },
  {
   "cell_type": "markdown",
   "metadata": {},
   "source": [
    "$\\color{#EF5645}{\\text{Definition}}$: A diagonal matrix $A$ is a square matrix with $A_{ij} = 0$ for $i \\neq j$.\n",
    "- diag$(a_1, ..., a_n)$ denotes the diagonal matrix with $A_{ii} = a_i$:\n",
    "$$\\text{diag}(0.2, -3, 1.2) = \\begin{bmatrix}\n",
    "0.2 & 0 & 0 \\\\\n",
    "0 & -3 & 0 \\\\\n",
    "0 & 0 & 1.2\n",
    "\\end{bmatrix}$$"
   ]
  },
  {
   "cell_type": "markdown",
   "metadata": {
    "slideshow": {
     "slide_type": "slide"
    }
   },
   "source": [
    "$\\color{#003660}{\\text{In Python}}$:"
   ]
  },
  {
   "cell_type": "code",
   "execution_count": 12,
   "metadata": {},
   "outputs": [
    {
     "data": {
      "text/plain": [
       "array([[ 0.2,  0. ,  0. ],\n",
       "       [ 0. , -3. ,  0. ],\n",
       "       [ 0. ,  0. ,  1.2]])"
      ]
     },
     "execution_count": 12,
     "metadata": {},
     "output_type": "execute_result"
    }
   ],
   "source": [
    "np.diag([0.2, -3, 1.2])"
   ]
  },
  {
   "cell_type": "markdown",
   "metadata": {
    "slideshow": {
     "slide_type": "slide"
    }
   },
   "source": [
    "# Triangular Matrices"
   ]
  },
  {
   "cell_type": "markdown",
   "metadata": {},
   "source": [
    "$\\color{#EF5645}{\\text{Definition}}$: A lower triangular matrix $A$ is a matrix such that $A_{ij} = 0$ for $i < j$. An upper triangular matrix $A$ is a matrix such that $A_{ij} = 0$ for $i > j$.\n",
    "\n",
    "$\\color{#047C91}{\\text{Example}}$:\n",
    "$\\begin{bmatrix}\n",
    "0.2 & 1.2 & 10 \\\\\n",
    "0 & -3 & 0 \\\\\n",
    "0 & 0 & 1.2\n",
    "\\end{bmatrix}$ (upper-triangular)"
   ]
  },
  {
   "cell_type": "markdown",
   "metadata": {
    "slideshow": {
     "slide_type": "slide"
    }
   },
   "source": [
    "# Transpose"
   ]
  },
  {
   "cell_type": "markdown",
   "metadata": {},
   "source": [
    "$\\color{#EF5645}{\\text{Definition}}$: The transpose of an $m \\times n$ matrix $A$ is written $A^T$ and is defined by:\n",
    "$$ (A^T)_{ij} = A_{ji}, \\quad i = 1,..., n \\quad j=1,...,m$$\n",
    "\n",
    "$\\color{#047C91}{\\text{Example}}$: $\\begin{bmatrix}\n",
    "0.2 & 1.2 & 10 \\\\\n",
    "0 & -3 & 0\n",
    "\\end{bmatrix}^T = \\begin{bmatrix}\n",
    "0.2 & 0 \\\\\n",
    "1.2 & -3 \\\\\n",
    "10 & 0\n",
    "\\end{bmatrix}$"
   ]
  },
  {
   "cell_type": "markdown",
   "metadata": {
    "slideshow": {
     "slide_type": "slide"
    }
   },
   "source": [
    "$\\color{#003660}{\\text{In Python}}$:"
   ]
  },
  {
   "cell_type": "code",
   "execution_count": 10,
   "metadata": {},
   "outputs": [
    {
     "data": {
      "text/plain": [
       "'Transpose a vector or a matrix.'"
      ]
     },
     "execution_count": 10,
     "metadata": {},
     "output_type": "execute_result"
    }
   ],
   "source": [
    "\"\"\"Transpose a vector or a matrix.\"\"\""
   ]
  },
  {
   "cell_type": "markdown",
   "metadata": {
    "slideshow": {
     "slide_type": "slide"
    }
   },
   "source": [
    "# Addition, Substraction and Scalar Multiplication\n",
    "\n",
    "Just like vectors:\n",
    "- we can add or subtract matrices of the same size,\n",
    "- we can multiply a matrix by a scalar.\n",
    "\n",
    "$\\color{#6D7D33}{\\text{Property}}$: The transpose verifies:\n",
    "- $(A^T)^T = A$.\n",
    "- $(A + B)^T = A^T + B^T$."
   ]
  },
  {
   "cell_type": "markdown",
   "metadata": {
    "slideshow": {
     "slide_type": "slide"
    }
   },
   "source": [
    "# Matrix norm\n",
    "\n",
    "$\\color{#EF5645}{\\text{Definition}}$: For a $m \\times n$ matrix $A$, we define the matrix norm as:\n",
    "$$||A|| = \\sqrt{\\sum_{i=1}^m \\sum_{j=1}^n A_{ij}^2}.$$\n",
    "\n",
    "$\\color{#EF5645}{\\text{Remark}}$: This definition agrees with the definition of norm of vectors when $n=1$ or $m=1$.\n",
    "\n",
    "$\\color{#047C91}{\\text{Exercise}}$: Compute the matrix norm of $A = \\begin{bmatrix}\n",
    "1 & 0 & -1\\\\\n",
    "0 & 1 & 1 \\end{bmatrix}.$"
   ]
  },
  {
   "cell_type": "markdown",
   "metadata": {
    "slideshow": {
     "slide_type": "slide"
    }
   },
   "source": [
    "$\\color{#003660}{\\text{In Python}}$, there are many ways to find the norm of a matrix."
   ]
  },
  {
   "cell_type": "code",
   "execution_count": 14,
   "metadata": {},
   "outputs": [
    {
     "data": {
      "text/plain": [
       "Ellipsis"
      ]
     },
     "execution_count": 14,
     "metadata": {},
     "output_type": "execute_result"
    }
   ],
   "source": [
    "..."
   ]
  },
  {
   "cell_type": "markdown",
   "metadata": {
    "slideshow": {
     "slide_type": "slide"
    }
   },
   "source": [
    "$\\color{#EF5645}{\\text{Remark}}$: As opposed to vectors which had 1 axis, matrices have several axes. Observe below how `numpy` functions adapt to the case of several axes."
   ]
  },
  {
   "cell_type": "code",
   "execution_count": 13,
   "metadata": {},
   "outputs": [
    {
     "data": {
      "text/plain": [
       "Ellipsis"
      ]
     },
     "execution_count": 13,
     "metadata": {},
     "output_type": "execute_result"
    }
   ],
   "source": [
    "..."
   ]
  },
  {
   "cell_type": "markdown",
   "metadata": {
    "slideshow": {
     "slide_type": "slide"
    }
   },
   "source": [
    "# Distance between two matrices\n",
    "\n",
    "$\\color{#EF5645}{\\text{Definition}}$: The distance between two matrices $A$ and $B$ is defined as:\n",
    "$$dist(A, B) = ||A - B||.$$\n",
    "\n",
    "$\\color{#EF5645}{\\text{Remark}}$: This means that the clustering algorithm, which only needs a notion of \"distance\", works on the matrices."
   ]
  },
  {
   "cell_type": "markdown",
   "metadata": {
    "slideshow": {
     "slide_type": "slide"
    }
   },
   "source": [
    "# Outline: 06 Matrices\n",
    "\n",
    "- [Matrices](#sec-matrices)\n",
    "- **[Matrix-vector multiplication](#matvec)**\n",
    "- [Examples](#examples)"
   ]
  },
  {
   "cell_type": "markdown",
   "metadata": {
    "slideshow": {
     "slide_type": "slide"
    }
   },
   "source": [
    "# Matrix-vector multiplication\n",
    "\n",
    "$\\color{#EF5645}{\\text{Definition}}$: The matrix-vector multiplication $y$ of $m\\times n$ matrix $A$ and $n$-vector $x$ is denoted $y = Ax$ and is defined as:\n",
    "$$y_i = A_{i1}x_1 + ... + A_{in}x_{n}, \\quad i=1,...,m$$"
   ]
  },
  {
   "cell_type": "markdown",
   "metadata": {},
   "source": [
    "$\\color{#047C91}{\\text{Exercise}}$: Let $A$ be the $n \\times n$ identity matrix and $x$ an $n$-vector. Compute $Ax$.\n",
    "\n",
    "$\\color{#047C91}{\\text{Exercise}}$: Let $A$ be the $n \\times n$ zeroes matrix and $x$ an $n$-vector. Compute $Ax$."
   ]
  },
  {
   "cell_type": "markdown",
   "metadata": {
    "slideshow": {
     "slide_type": "slide"
    }
   },
   "source": [
    "$\\color{#047C91}{\\text{Exercise}}$: Compute the matrix-vector multiplication of:\n",
    "$$A = \\begin{bmatrix}\n",
    "0 & 2 & -1 \\\\\n",
    "-2 & 1 & 1 \\end{bmatrix}; \\quad v = \\begin{bmatrix}\n",
    "    2 \\\\\n",
    "    1 \\\\\n",
    "    -1\n",
    "    \\end{bmatrix}$$"
   ]
  },
  {
   "cell_type": "markdown",
   "metadata": {
    "slideshow": {
     "slide_type": "slide"
    }
   },
   "source": [
    "$\\color{#003660}{\\text{In Python}}$:"
   ]
  },
  {
   "cell_type": "code",
   "execution_count": 5,
   "metadata": {},
   "outputs": [
    {
     "data": {
      "text/plain": [
       "Ellipsis"
      ]
     },
     "execution_count": 5,
     "metadata": {},
     "output_type": "execute_result"
    }
   ],
   "source": [
    "..."
   ]
  },
  {
   "cell_type": "markdown",
   "metadata": {
    "slideshow": {
     "slide_type": "slide"
    }
   },
   "source": [
    "$\\color{#047C91}{\\text{Exercise}}$: Take $m\\times n$ matrix $A$, and one-hot vector $e_i$ for some $i$ in $1,..., m$. Compute $Ae_i$."
   ]
  },
  {
   "cell_type": "markdown",
   "metadata": {},
   "source": [
    "$\\color{#047C91}{\\text{Exercise}}$: Take $m\\times n$ matrix $A$, and one-hot vector $e_i$ for some $i$ in $1,..., n$. Compute $A1_n$."
   ]
  },
  {
   "cell_type": "markdown",
   "metadata": {
    "slideshow": {
     "slide_type": "slide"
    }
   },
   "source": [
    "- [Matrices](#sec-matrices)\n",
    "- [Matrix-vector multiplication](#matvec)\n",
    "- **[Examples](#examples)**"
   ]
  },
  {
   "cell_type": "markdown",
   "metadata": {
    "slideshow": {
     "slide_type": "slide"
    }
   },
   "source": [
    "# Math operations as matrices"
   ]
  },
  {
   "cell_type": "markdown",
   "metadata": {},
   "source": [
    "$\\color{#047C91}{\\text{Example}}$: The $(n-1) \\times n$ difference matrix:\n",
    "$$D = \\begin{bmatrix}\n",
    "-1 & 1  & 0 & ... & 0 & 0 \\\\\n",
    "0  & -1 & 1 & ... & 0 & 0 \\\\\n",
    "   &    &   &     &   &   \\\\\n",
    "0  & 0  & 0 & ... & -1 & 1\n",
    "\\end{bmatrix}$$\n",
    "allows us to compute the $(n-1)$ vector of differences between consecutive entries of $x$:\n",
    "$$Dx = \\begin{bmatrix}\n",
    "x_2 - x_1 \\\\\n",
    "x_3 - x_2 \\\\\n",
    "\\vdots \\\\\n",
    "x_n - x_{n-1}\n",
    "\\end{bmatrix}\n",
    "$$"
   ]
  },
  {
   "cell_type": "markdown",
   "metadata": {
    "slideshow": {
     "slide_type": "slide"
    }
   },
   "source": [
    "$\\color{#003660}{\\text{In Python}}$, let be given a vector listing the days at which earthquakes have happened in California. Compute the vector giving the number of days in-between earthquakes."
   ]
  },
  {
   "cell_type": "code",
   "execution_count": null,
   "metadata": {},
   "outputs": [],
   "source": [
    "..."
   ]
  },
  {
   "cell_type": "markdown",
   "metadata": {
    "slideshow": {
     "slide_type": "slide"
    }
   },
   "source": [
    "# Geometric transformations as matrices"
   ]
  },
  {
   "cell_type": "markdown",
   "metadata": {
    "cell_style": "split"
   },
   "source": [
    "Many geometric transformations and mappings of 2-D and 3-D vectors can be represented as matrices $A$. They can transform vectors $x$ through matrix-vector multiplication $y = Ax$.\n",
    "\n",
    "$\\color{#047C91}{\\text{Example}}$: For example, the rotation by angle $\\theta$ can rotate the $2D$-vector $x$ through the rotation matrix $R_\\theta$:\n",
    "$$R_\\theta = \\begin{bmatrix}\n",
    "\\cos(\\theta) & -\\sin(\\theta) \\\\\n",
    "\\sin(\\theta) & \\cos(\\theta)\\end{bmatrix}, \\quad y = R_\\theta x$$\n"
   ]
  },
  {
   "cell_type": "markdown",
   "metadata": {
    "cell_style": "split"
   },
   "source": [
    "<center><img src=\"figs/06_rotmat.png\" alt=\"default\"/></center>"
   ]
  },
  {
   "cell_type": "markdown",
   "metadata": {
    "slideshow": {
     "slide_type": "slide"
    }
   },
   "source": [
    "$\\color{#003660}{\\text{In Python}}$:"
   ]
  },
  {
   "cell_type": "code",
   "execution_count": 32,
   "metadata": {},
   "outputs": [
    {
     "data": {
      "text/plain": [
       "Ellipsis"
      ]
     },
     "execution_count": 32,
     "metadata": {},
     "output_type": "execute_result"
    }
   ],
   "source": [
    "..."
   ]
  },
  {
   "cell_type": "markdown",
   "metadata": {
    "slideshow": {
     "slide_type": "slide"
    }
   },
   "source": [
    "# (Social) graphs as matrices"
   ]
  },
  {
   "cell_type": "markdown",
   "metadata": {
    "cell_style": "split"
   },
   "source": [
    "Any (social network) graph with $n$ nodes and $m$ edges can be represented by $n \\times m$ matrix $A$  defined defined as:\n",
    "\n",
    "$$A_{ij} = \\left\\{ \\begin{matrix}\n",
    "    1 \\quad \\text{if edge $j$ points to node $i$}\\\\\n",
    "    -1 \\quad \\text{if edge $i$ points to node $j$}\\\\\n",
    "    0 \\quad \\text{otherwise}\n",
    "\\end{matrix}\\right.$$"
   ]
  },
  {
   "cell_type": "markdown",
   "metadata": {
    "cell_style": "split"
   },
   "source": [
    "<center><img src=\"figs/06_graph.png\" alt=\"default\" width=450px /></center>"
   ]
  },
  {
   "cell_type": "markdown",
   "metadata": {},
   "source": [
    "$\\color{#047C91}{\\text{Exercise}}$: Compute the incidence matrix associated to this graph."
   ]
  },
  {
   "cell_type": "markdown",
   "metadata": {
    "slideshow": {
     "slide_type": "slide"
    }
   },
   "source": [
    "# Deep Learning and Convolutions\n",
    "\n",
    "<center><img src=\"figs/01_nn.png\" alt=\"default\"/></center>"
   ]
  },
  {
   "cell_type": "markdown",
   "metadata": {
    "slideshow": {
     "slide_type": "slide"
    }
   },
   "source": [
    "By writing $a^{(1)}$ the vector of the first layer, and $a^{(2)}$ the vector of the second layer, we see that:\n",
    "$$a^{(2)} = Wa^{(1)},$$\n",
    "where $W_{ij}$ is the weight on the edge going from the $j$th element of the first layer $a^{(1)}_j$ to the $i$th element of the second layer $a^{(2)}_i$."
   ]
  },
  {
   "cell_type": "markdown",
   "metadata": {
    "slideshow": {
     "slide_type": "slide"
    }
   },
   "source": [
    "$\\color{#003660}{\\text{In Python}}$, we can implement the layer of a neural network."
   ]
  },
  {
   "cell_type": "code",
   "execution_count": 33,
   "metadata": {},
   "outputs": [],
   "source": [
    "def simple_nn(input_x):\n",
    "    ..."
   ]
  },
  {
   "cell_type": "markdown",
   "metadata": {
    "slideshow": {
     "slide_type": "slide"
    }
   },
   "source": [
    "# Outline: 06 Matrices\n",
    "\n",
    "- **[Matrices](#sec-matrices)**\n",
    "- [Matrix-vector multiplication](#matvec)\n",
    "- [Examples](#examples)\n",
    "\n",
    "Resources: ILA, Ch. 6, 7."
   ]
  },
  {
   "cell_type": "code",
   "execution_count": null,
   "metadata": {},
   "outputs": [],
   "source": []
  }
 ],
 "metadata": {
  "celltoolbar": "Slideshow",
  "kernelspec": {
   "display_name": "Python 3 (ipykernel)",
   "language": "python",
   "name": "python3"
  },
  "language_info": {
   "codemirror_mode": {
    "name": "ipython",
    "version": 3
   },
   "file_extension": ".py",
   "mimetype": "text/x-python",
   "name": "python",
   "nbconvert_exporter": "python",
   "pygments_lexer": "ipython3",
   "version": "3.9.7"
  }
 },
 "nbformat": 4,
 "nbformat_minor": 2
}
