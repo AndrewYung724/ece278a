{
 "cells": [
  {
   "cell_type": "markdown",
   "metadata": {
    "slideshow": {
     "slide_type": "slide"
    }
   },
   "source": [
    "# Image Formation"
   ]
  },
  {
   "cell_type": "markdown",
   "metadata": {},
   "source": [
    "<center><img src=\"figs/00_dip.jpeg\" width=500px alt=\"default\"/></center>\n"
   ]
  },
  {
   "cell_type": "markdown",
   "metadata": {
    "slideshow": {
     "slide_type": "slide"
    }
   },
   "source": [
    "# Image Formation\n",
    "\n",
    "- [Geometric Primitives and Transformations](#sec-syllabus)\n",
    "\n",
    "- [3D to 2D Projections](#sec-ece)\n",
    "\n",
    "- [Camera Parameters](#sec-ece)"
   ]
  },
  {
   "cell_type": "markdown",
   "metadata": {
    "slideshow": {
     "slide_type": "slide"
    }
   },
   "source": [
    "# Basic Primitives\n",
    "\n",
    "$\\color{#EF5645}{\\text{2D points}}$: 2D points (pixel coordinates in an image) can be denoted using a pair of values, $( x,y ) \\in \\mathbb{R}^2$ 2.\n",
    "\n",
    "2D points can also be represented using their homogeneous coordinates, where the point $x =( x,y )$ is represented:\n",
    "- by $\\bar x = (x, y, 1)$, called the augmented vector.\n",
    "- or by $(kx, ky, k)$ for any $k \\in \\mathbb{R}$.\n",
    "In other words, vectors that differ only by scale are considered equivalent. \n",
    "\n",
    "Homogeneous coordinates are also called projective coordinates."
   ]
  },
  {
   "cell_type": "markdown",
   "metadata": {
    "slideshow": {
     "slide_type": "subslide"
    }
   },
   "source": [
    "$\\color{#EF5645}{\\text{2D projective space}}$: The 2D projective space $P^2$ is the set of equivalence classes of $\\mathbb{R}^3 - \\{0\\} $ under the equivalence relation ~ defined by:\n",
    "$x \\sim y$ if there is a nonzero element $k$ of $\\mathbb{R}$ such that $x = ky$.\n",
    "\n",
    "2D points can be seen as elements of the 2D projective space."
   ]
  },
  {
   "cell_type": "markdown",
   "metadata": {
    "slideshow": {
     "slide_type": "slide"
    }
   },
   "source": [
    "# Basic Primitives\n",
    "\n",
    "$\\color{#EF5645}{\\text{2D lines}}$: 2D lines can also be represented using homogeneous coordinates $l = (a,b,c )$. The corresponding line equation is: \n",
    "\n",
    "$$\\bar x. l = ax + by + c =0 .$$\n",
    "\n",
    "2D lines can be seen as elements of the 2D projective space."
   ]
  },
  {
   "cell_type": "markdown",
   "metadata": {
    "slideshow": {
     "slide_type": "slide"
    }
   },
   "source": [
    "# Basic Primitives\n",
    "\n",
    "$\\color{#EF5645}{\\text{3D points}}$: Point coordinates in three dimensions can be written using inhomogeneous coordinates $x =( x,y,z ) \\in \\mathbb{R}^3$ or homogeneous coordinates $(\\tilde x, \\tilde y, \\tilde z, \\tilde k) \\in P^3$, where $P^3$ is the 3D projective space.\n",
    "\n",
    "It can be useful to denote a 3D point using the augmented vector $\\bar x =( x,y,z, 1)$.\n",
    "\n",
    "$\\color{#EF5645}{\\text{3D planes}}$: 3D planes can also be represented as homogeneous coordinates $m =( a,b,c,d )$ with a corresponding plane equation:\n",
    "$$\\bar x . m = ax + by + cz + d =0.$$\n"
   ]
  },
  {
   "cell_type": "markdown",
   "metadata": {
    "slideshow": {
     "slide_type": "slide"
    }
   },
   "source": [
    "# 2D Transformations\n",
    "\n",
    "$\\color{#EF5645}{\\text{2D Translation}}$: 2D translations can be written as $x′ = x + t$ or \n",
    "$$x′ = \\begin{bmatrix} I & t \\end{bmatrix}  \\bar x,$$\n",
    "where $I$ is the (2 × 2) identity matrix or\n",
    "$$ \\bar x′ = \\begin{bmatrix} I & t \\\\ 0^T & 1 \\end{bmatrix} \\bar x.$$\n"
   ]
  },
  {
   "cell_type": "markdown",
   "metadata": {
    "slideshow": {
     "slide_type": "slide"
    }
   },
   "source": [
    "# 2D Transformations\n",
    "\n",
    "$\\color{#EF5645}{\\text{2D Rotation + Translation}}$: This transformation is also known as 2D rigid body motion or the 2D Euclidean transformation (since Euclidean distances are preserved). It can be written as $x′ = Rx + t$ or \n",
    "$$x′ = \\begin{bmatrix} R & t \\end{bmatrix}  \\bar x$$\n",
    "where \n",
    "$$R= \\begin{bmatrix} \\cos \\theta & - \\sin \\theta \\\\  \n",
    "\\sin \\theta & \\cos \\theta  \\end{bmatrix}$$ is an orthonormal rotation matrix with $RR^T = I$ and $\\det R =1$ .\n",
    "\n"
   ]
  },
  {
   "cell_type": "markdown",
   "metadata": {
    "slideshow": {
     "slide_type": "slide"
    }
   },
   "source": [
    "# 2D Transformations\n",
    "\n",
    "$\\color{#EF5645}{\\text{Scaled rotation}}$:  Also known as the similarity transform, this transformation can be expressed as x′ = sRx + t, where s is an arbitrary scale factor, or:\n",
    "$$x′ \n",
    "= \\begin{bmatrix} R & t \\end{bmatrix}  \\bar x \n",
    "= \\begin{bmatrix} a & - b &t_x \\\\  b & a  & t_y \\end{bmatrix} \\bar x $$ \n",
    "where we no longer require that $a^2 + b^2 = 1$. The similarity transform preserves angles between lines.\n"
   ]
  },
  {
   "cell_type": "markdown",
   "metadata": {
    "slideshow": {
     "slide_type": "slide"
    }
   },
   "source": [
    "# 2D Transformations\n",
    "\n",
    "$\\color{#EF5645}{\\text{Affine transformation}}$: The affine transformation is written as $x′ = A \\bar x$, where A is an arbitrary 2 × 3 matrix, or:\n",
    "$$x′ = \\begin{bmatrix} a_{00} & a_{01} & a_{02} \\\\ a_{10} & a_{11} & a_{12} \\end{bmatrix} \\bar x.$$\n",
    "Parallel lines remain parallel under affine transformations.\n"
   ]
  },
  {
   "cell_type": "markdown",
   "metadata": {
    "slideshow": {
     "slide_type": "slide"
    }
   },
   "source": [
    "# 2D Transformations\n",
    "\n",
    "$\\color{#EF5645}{\\text{Projective transformation}}$: This transformation, also known as a perspective transform or homography, operates on homogeneous coordinates,\n",
    "$$ \\tilde x′ = \\tilde H \\tilde x,$$\n",
    "where $\\tilde H$ isan arbitrary 3 × 3 matrix. Note that $\\tilde H$ is homogeneous, i.e., it is only defined up to a scale, and that two matrices that differ only by scale are equivalent. \n",
    "\n",
    "Projective transformations preserve straight lines (i.e., they remain straight after the transformation)."
   ]
  },
  {
   "cell_type": "markdown",
   "metadata": {
    "slideshow": {
     "slide_type": "slide"
    }
   },
   "source": [
    "# 2D Transformations\n",
    "\n",
    "- Mathematically, they are Lie groups. (Geomstats: https://github.com/geomstats/geomstats)\n",
    "\n",
    "<center><img src=\"figs/01_2Dtransf.png\" width=500px alt=\"default\"/></center>"
   ]
  },
  {
   "cell_type": "markdown",
   "metadata": {
    "slideshow": {
     "slide_type": "slide"
    }
   },
   "source": [
    "# 3D Transformations\n",
    "\n",
    "- very similar to that available for 2D transformations.\n",
    "- we use $p$ tod enote 3D points and $x$ to denote 2D points.\n",
    "\n",
    "<center><img src=\"figs/01_3Dtransf.png\" width=500px alt=\"default\"/></center>"
   ]
  },
  {
   "cell_type": "markdown",
   "metadata": {
    "slideshow": {
     "slide_type": "slide"
    }
   },
   "source": [
    "# 3D Rotations\n",
    "\n",
    "The biggest difference between 2D and 3D coordinate transformations is that the parameterization of the 3D rotation matrix R is not as straightforward, as several different possibilities exist.\n"
   ]
  },
  {
   "cell_type": "markdown",
   "metadata": {
    "slideshow": {
     "slide_type": "slide"
    }
   },
   "source": [
    "# 3D Rotations - Euler Angles\n",
    "\n",
    "$\\color{#EF5645}{\\text{Euler Angles}}$: Arotation matrix can be formed as the product of three rotations around three cardinal axes, e.g., x, y,and z,or x, y,and x. This is generally a bad idea, as the result depends on the order in which the transforms are applied.\n"
   ]
  },
  {
   "cell_type": "markdown",
   "metadata": {
    "slideshow": {
     "slide_type": "slide"
    }
   },
   "source": [
    "# 3D Rotations - Axis Angle / Rotation Vector\n",
    "\n",
    "$\\color{#EF5645}{\\text{Axis Angle}}$: A rotation can be represented by a rotation axis $u$ and an angle $\\theta$, or equivalently by a 3D vector $ω = \\theta u$.\n",
    "\n"
   ]
  },
  {
   "cell_type": "markdown",
   "metadata": {
    "slideshow": {
     "slide_type": "slide"
    }
   },
   "source": [
    "# 3D Rotations - Unit Quaternions\n",
    "\n",
    "$\\color{#EF5645}{\\text{Unit quaternions}}$: The unit quaternion representation is closely related to the angle/axis representation. A unit quaternion is a unit length 4-vector whose components can be written as $q =( x,y,z,w )$. Unit quaternions live on the unit sphere $‖q‖ =1$ and antipodal (opposite sign) quaternions, $q$ and $−q$, represent the same rotation."
   ]
  },
  {
   "cell_type": "markdown",
   "metadata": {
    "slideshow": {
     "slide_type": "slide"
    }
   },
   "source": [
    "# 3D to 2D Projections\n",
    "\n",
    "Now that we know how to represent 2D and 3D geometric primitives and how to transform them spatially,we need to specify how3D primitives are projected onto the image plane. We can do this using alinear 3D to 2D projection matrix. The simplest model isorthograph y, which requires no division to get the final (inhomogeneous) result. The more commonly used model isperspecti ve,since this more accurately models the behavior of real cameras.\n"
   ]
  },
  {
   "cell_type": "markdown",
   "metadata": {},
   "source": [
    "<center><img src=\"figs/01_proj.png\" width=500px alt=\"default\"/></center>"
   ]
  },
  {
   "cell_type": "markdown",
   "metadata": {
    "slideshow": {
     "slide_type": "slide"
    }
   },
   "source": [
    "$\\color{#EF5645}{\\text{Orthography}}$: An orthographic projection simply drops the $z$ component of the three-dimensional coordinate p to obtain the 2D point x:\n",
    "$$x =\\begin{bmatrix} I_{2 \\times 2} & 0 \\end{bmatrix} p,$$\n",
    "or, in homogeneous coordinates:\n",
    "$$\\tilde x =\n",
    "\\begin{bmatrix} \n",
    "1 & 0 & 0 & 0 \\\\\n",
    "0 & 1 & 0 & 0 \\\\\n",
    "0 & 0 & 0 & 1\n",
    "\\end{bmatrix} \\tilde p,$$\n",
    "\n",
    "Orthography:\n",
    "- approximate model for long focal length (telephoto) lenses and objects whose depth is shallow relative to their distance to the camera. \n",
    "- exact model for telecentric lenses."
   ]
  },
  {
   "cell_type": "markdown",
   "metadata": {
    "slideshow": {
     "slide_type": "slide"
    }
   },
   "source": [
    "$\\color{#EF5645}{\\text{Scaled orthography}}$: Since world coordinates (in m) need to be scaled to fit onto an image sensor (in mm or pixels), we can apply:  $x =\\begin{bmatrix} sI_{2 \\times 2} & 0 \\end{bmatrix} p,$. \n",
    "\n",
    "This model is equivalent to:\n",
    "- first projecting the world points onto alocal fronto-parallel image plane,\n",
    "- then scaling this image using regular perspective projection. \n",
    "\n",
    "The scaling can be the same for all parts of the scene (Figure 2.7b) or it can be different for objects that are being modeled independently (Figure 2.7c).\n"
   ]
  },
  {
   "cell_type": "markdown",
   "metadata": {},
   "source": [
    "$\\color{#EF5645}{\\text{Perspective}}$: Points are projected onto the image plane by dividing them\n",
    "by their z component. Using inhomogeneous coordinates, this can be written as:\n",
    "$$\\bar x = P_z(p) = \\begin{pmatrix} x / z & y / z & 1\\end{pmatrix},$$\n",
    "and in homogeneous coordinates as:\n",
    "$$\\tilde x = \\begin{pmatrix} \n",
    "1 & 0 & 0 & 0 \\\\\n",
    "0 & 1 & 0 & 0 \\\\\n",
    "0 & 0 & 1 & 0\n",
    "\\end{pmatrix} \\tilde p.$$\n",
    "Note that we drop the $w$ component of $pa$, such that, after projection, itisnot possibleto recover the distance of the 3D point from the image, which makes sense for a2D imaging sensor.\n",
    "\n",
    "\n",
    "- Most commonly used projection in computer graphics and computer vision (Figure 2.7e)\\\n"
   ]
  },
  {
   "cell_type": "markdown",
   "metadata": {},
   "source": [
    "# Camera Parameters: Intrinsics\n",
    "\n",
    "Camera intrinsics\n"
   ]
  },
  {
   "cell_type": "markdown",
   "metadata": {
    "slideshow": {
     "slide_type": "slide"
    }
   },
   "source": [
    "# Outline: Welcome\n",
    "\n",
    "- [Syllabus](#sec-syllabus)\n",
    "\n",
    "- [Real-World Applications](#sec-ece)\n",
    "\n",
    "- **[Outline](#sec-outline)**"
   ]
  },
  {
   "cell_type": "code",
   "execution_count": null,
   "metadata": {},
   "outputs": [],
   "source": []
  }
 ],
 "metadata": {
  "celltoolbar": "Slideshow",
  "kernelspec": {
   "display_name": "Python 3 (ipykernel)",
   "language": "python",
   "name": "python3"
  },
  "language_info": {
   "codemirror_mode": {
    "name": "ipython",
    "version": 3
   },
   "file_extension": ".py",
   "mimetype": "text/x-python",
   "name": "python",
   "nbconvert_exporter": "python",
   "pygments_lexer": "ipython3",
   "version": "3.9.7"
  }
 },
 "nbformat": 4,
 "nbformat_minor": 2
}
