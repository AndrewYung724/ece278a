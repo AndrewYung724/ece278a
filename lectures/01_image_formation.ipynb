{
 "cells": [
  {
   "cell_type": "markdown",
   "metadata": {
    "slideshow": {
     "slide_type": "slide"
    }
   },
   "source": [
    "# Image Formation"
   ]
  },
  {
   "cell_type": "markdown",
   "metadata": {},
   "source": [
    "<center><img src=\"figs/00_dip.jpeg\" width=500px alt=\"default\"/></center>\n"
   ]
  },
  {
   "cell_type": "markdown",
   "metadata": {
    "slideshow": {
     "slide_type": "slide"
    }
   },
   "source": [
    "# Image Formation\n",
    "\n",
    "- [Geometric Primitives and Transformations](#sec-syllabus)\n",
    "\n",
    "- [3D to 2D Projections](#sec-ece)\n",
    "\n",
    "- [Camera Parameters](#sec-ece)"
   ]
  },
  {
   "cell_type": "markdown",
   "metadata": {
    "slideshow": {
     "slide_type": "slide"
    }
   },
   "source": [
    "# Basic Primitives\n",
    "\n",
    "$\\color{#EF5645}{\\text{2D points}}$: 2D points (pixel coordinates in an image) can be denoted using a pair of values, $( x,y ) \\in \\mathbb{R}^2$ 2.\n",
    "\n",
    "2D points can also be represented using their homogeneous coordinates, where the point $x =( x,y )$ is represented:\n",
    "- by $\\bar x = (x, y, 1)$, called the augmented vector.\n",
    "- or by $(kx, ky, k)$ for any $k \\in \\mathbb{R}$.\n",
    "In other words, vectors that differ only by scale are considered equivalent. \n",
    "\n",
    "Homogeneous coordinates are also called projective coordinates."
   ]
  },
  {
   "cell_type": "markdown",
   "metadata": {
    "slideshow": {
     "slide_type": "subslide"
    }
   },
   "source": [
    "$\\color{#EF5645}{\\text{2D projective space}}$: The 2D projective space $P^2$ is the set of equivalence classes of $\\mathbb{R}^3 - \\{0\\} $ under the equivalence relation ~ defined by:\n",
    "$x \\sim y$ if there is a nonzero element $k$ of $\\mathbb{R}$ such that $x = ky$.\n",
    "\n",
    "2D points can be seen as elements of the 2D projective space."
   ]
  },
  {
   "cell_type": "markdown",
   "metadata": {
    "slideshow": {
     "slide_type": "slide"
    }
   },
   "source": [
    "# Basic Primitives\n",
    "\n",
    "$\\color{#EF5645}{\\text{2D lines}}$: 2D lines can also be represented using homogeneous coordinates $l = (a,b,c )$. The corresponding line equation is: \n",
    "\n",
    "$$\\bar x. l = ax + by + c =0 .$$\n",
    "\n",
    "2D lines can be seen as elements of the 2D projective space."
   ]
  },
  {
   "cell_type": "markdown",
   "metadata": {
    "slideshow": {
     "slide_type": "slide"
    }
   },
   "source": [
    "# Basic Primitives\n",
    "\n",
    "$\\color{#EF5645}{\\text{3D points}}$: Point coordinates in three dimensions can be written using inhomogeneous coordinates $x =( x,y,z ) \\in \\mathbb{R}^3$ or homogeneous coordinates $(\\tilde x, \\tilde y, \\tilde z, \\tilde k) \\in P^3$, where $P^3$ is the 3D projective space.\n",
    "\n",
    "It can be useful to denote a 3D point using the augmented vector $\\bar x =( x,y,z, 1)$.\n",
    "\n",
    "$\\color{#EF5645}{\\text{3D planes}}$: 3D planes can also be represented as homogeneous coordinates $m =( a,b,c,d )$ with a corresponding plane equation:\n",
    "$$\\bar x . m = ax + by + cz + d =0.$$\n"
   ]
  },
  {
   "cell_type": "markdown",
   "metadata": {
    "slideshow": {
     "slide_type": "slide"
    }
   },
   "source": [
    "# 2D Transformations\n",
    "\n",
    "$\\color{#EF5645}{\\text{2D Translation}}$: 2D translations can be written as $x′ = x + t$ or \n",
    "$$x′ = \\begin{bmatrix} I & t \\end{bmatrix}  \\bar x,$$\n",
    "where $I$ is the (2 × 2) identity matrix or\n",
    "$$ \\bar x′ = \\begin{bmatrix} I & t \\\\ 0^T & 1 \\end{bmatrix} \\bar x.$$\n"
   ]
  },
  {
   "cell_type": "markdown",
   "metadata": {
    "slideshow": {
     "slide_type": "slide"
    }
   },
   "source": [
    "# 2D Transformations\n",
    "\n",
    "$\\color{#EF5645}{\\text{2D Rotation + Translation}}$: This transformation is also known as 2D rigid body motion or the 2D Euclidean transformation (since Euclidean distances are preserved). It can be written as $x′ = Rx + t$ or \n",
    "$$x′ = \\begin{bmatrix} R & t \\end{bmatrix}  \\bar x$$\n",
    "where \n",
    "$$R= \\begin{bmatrix} \\cos \\theta & - \\sin \\theta \\\\  \n",
    "\\sin \\theta & \\cos \\theta  \\end{bmatrix}$$ is an orthonormal rotation matrix with $RR^T = I$ and $\\det R =1$ .\n",
    "\n"
   ]
  },
  {
   "cell_type": "markdown",
   "metadata": {
    "slideshow": {
     "slide_type": "slide"
    }
   },
   "source": [
    "# 2D Transformations\n",
    "\n",
    "$\\color{#EF5645}{\\text{Scaled rotation}}$:  Also known as the similarity transform, this transformation can be expressed as x′ = sRx + t, where s is an arbitrary scale factor, or:\n",
    "$$x′ \n",
    "= \\begin{bmatrix} R & t \\end{bmatrix}  \\bar x \n",
    "= \\begin{bmatrix} a & - b &t_x \\\\  b & a  & t_y \\end{bmatrix} \\bar x $$ \n",
    "where we no longer require that $a^2 + b^2 = 1$. The similarity transform preserves angles between lines.\n"
   ]
  },
  {
   "cell_type": "markdown",
   "metadata": {
    "slideshow": {
     "slide_type": "slide"
    }
   },
   "source": [
    "# 2D Transformations\n",
    "\n",
    "$\\color{#EF5645}{\\text{Affine transformation}}$: The affine transformation is written as $x′ = A \\bar x$, where A is an arbitrary 2 × 3 matrix, or:\n",
    "$$x′ = \\begin{bmatrix} a_{00} & a_{01} & a_{02} \\\\ a_{10} & a_{11} & a_{12} \\end{bmatrix} \\bar x.$$\n",
    "Parallel lines remain parallel under affine transformations.\n"
   ]
  },
  {
   "cell_type": "markdown",
   "metadata": {
    "slideshow": {
     "slide_type": "slide"
    }
   },
   "source": [
    "# 2D Transformations\n",
    "\n",
    "$\\color{#EF5645}{\\text{Projective transformation}}$: This transformation, also known as a perspective transform or homography, operates on homogeneous coordinates,\n",
    "$$ \\tilde x′ = \\tilde H \\tilde x,$$\n",
    "where $\\tilde H$ isan arbitrary 3 × 3 matrix. Note that $\\tilde H$ is homogeneous, i.e., it is only defined up to a scale, and that two matrices that differ only by scale are equivalent. \n",
    "\n",
    "Projective transformations preserve straight lines (i.e., they remain straight after the transformation)."
   ]
  },
  {
   "cell_type": "markdown",
   "metadata": {
    "slideshow": {
     "slide_type": "slide"
    }
   },
   "source": [
    "# 2D Transformations\n",
    "\n",
    "- Mathematically, they are Lie groups. (Geomstats: https://github.com/geomstats/geomstats)\n",
    "\n",
    "<center><img src=\"figs/01_2Dtransf.png\" width=500px alt=\"default\"/></center>"
   ]
  },
  {
   "cell_type": "markdown",
   "metadata": {
    "slideshow": {
     "slide_type": "slide"
    }
   },
   "source": [
    "# 3D Transformations\n",
    "\n",
    "- very similar to that available for 2D transformations.\n",
    "- we use $p$ tod enote 3D points and $x$ to denote 2D points.\n",
    "\n",
    "<center><img src=\"figs/01_3Dtransf.png\" width=500px alt=\"default\"/></center>"
   ]
  },
  {
   "cell_type": "markdown",
   "metadata": {
    "slideshow": {
     "slide_type": "slide"
    }
   },
   "source": [
    "# 3D Rotations\n",
    "\n",
    "The biggest difference between 2D and 3D coordinate transformations is that the parameterization of the 3D rotation matrix R is not as straightforward, as several different possibilities exist.\n"
   ]
  },
  {
   "cell_type": "markdown",
   "metadata": {
    "slideshow": {
     "slide_type": "slide"
    }
   },
   "source": [
    "# 3D Rotations - Euler Angles\n",
    "\n",
    "$\\color{#EF5645}{\\text{Euler Angles}}$: Arotation matrix can be formed as the product of three rotations around three cardinal axes, e.g., x, y,and z,or x, y,and x. This is generally a bad idea, as the result depends on the order in which the transforms are applied.\n"
   ]
  },
  {
   "cell_type": "markdown",
   "metadata": {
    "slideshow": {
     "slide_type": "slide"
    }
   },
   "source": [
    "# 3D Rotations - Axis Angle / Rotation Vector\n",
    "\n",
    "$\\color{#EF5645}{\\text{Axis Angle}}$: A rotation can be represented by a rotation axis $u$ and an angle $\\theta$, or equivalently by a 3D vector $ω = \\theta u$.\n",
    "\n"
   ]
  },
  {
   "cell_type": "markdown",
   "metadata": {
    "slideshow": {
     "slide_type": "slide"
    }
   },
   "source": [
    "# 3D Rotations - Unit Quaternions\n",
    "\n",
    "$\\color{#EF5645}{\\text{Unit quaternions}}$: The unit quaternion representation is closely related to the angle/axis representation. A unit quaternion is a unit length 4-vector whose components can be written as $q =( x,y,z,w )$. Unit quaternions live on the unit sphere $‖q‖ =1$ and antipodal (opposite sign) quaternions, $q$ and $−q$, represent the same rotation."
   ]
  },
  {
   "cell_type": "markdown",
   "metadata": {},
   "source": [
    "# Image Formation\n",
    "\n",
    "- [Geometric Primitives and Transformations](#sec-syllabus)\n",
    "\n",
    "- [3D to 2D Projections](#sec-ece)\n",
    "\n",
    "- [Camera Parameters](#sec-ece)"
   ]
  },
  {
   "cell_type": "markdown",
   "metadata": {
    "slideshow": {
     "slide_type": "slide"
    }
   },
   "source": [
    "# 3D to 2D Projections\n",
    "\n",
    "Now that we know how to represent 2D and 3D geometric primitives and how to transform them spatially,we need to specify how3D primitives are projected onto the image plane. We can do this using alinear 3D to 2D projection matrix. The simplest model isorthograph y, which requires no division to get the final (inhomogeneous) result. The more commonly used model isperspecti ve,since this more accurately models the behavior of real cameras.\n"
   ]
  },
  {
   "cell_type": "markdown",
   "metadata": {
    "slideshow": {
     "slide_type": "slide"
    }
   },
   "source": [
    "# Pinhole Camera\n",
    "\n",
    "<center><img src=\"figs/01_pinhole.png\" width=400px alt=\"default\"/></center>\n",
    "\n",
    "Barrier:\n",
    "- reduces blurring\n",
    "- opening = pinhole = aperture = center of the camera"
   ]
  },
  {
   "cell_type": "markdown",
   "metadata": {
    "slideshow": {
     "slide_type": "slide"
    }
   },
   "source": [
    "# Pinhole Camera Model\n",
    "\n",
    "<center><img src=\"figs/01_pinhole2.png\" width=400px alt=\"default\"/></center>\n",
    "\n",
    "- $f$ = focal length\n",
    "- $[i, j, k]$ = camera reference or coordinate system\n",
    "- $\\Pi'$ = image or retina plane\n",
    "- CO' = optical axis"
   ]
  },
  {
   "cell_type": "markdown",
   "metadata": {
    "slideshow": {
     "slide_type": "slide"
    }
   },
   "source": [
    "# Pinhole Camera Model\n",
    "\n",
    "<center><img src=\"figs/01_pinhole2.png\" width=400px alt=\"default\"/></center>"
   ]
  },
  {
   "cell_type": "markdown",
   "metadata": {
    "slideshow": {
     "slide_type": "slide"
    }
   },
   "source": [
    "# Pinhole Camera Model: Projection\n",
    "\n",
    "$\\color{#EF5645}{\\text{Projection}}$: The 3D to 2D projection defined by the pinhole camera model is, given $p=[x, y, z]^T$:\n",
    "$$p' \n",
    "= \\begin{bmatrix} x' & y' \\end{bmatrix}^T \n",
    "= \\begin{bmatrix}f\\frac{x}{z} & f\\frac{y}{z}\\end{bmatrix}^T.$$\n",
    "\n",
    "$\\color{#047C91}{\\text{Exercise}}$: Prove the formula for the 3D to 2D projection of the pinhole camera model."
   ]
  },
  {
   "cell_type": "markdown",
   "metadata": {
    "slideshow": {
     "slide_type": "slide"
    }
   },
   "source": [
    "# Aperture Size\n",
    "\n",
    "In practice, the pinhole is not a single point.\n",
    "\n",
    "<center><img src=\"figs/01_aperture.png\" width=400px alt=\"default\"/></center>\n",
    "\n",
    "- Smaller aperture: sharper but darker image. \n",
    "- Add lenses !"
   ]
  },
  {
   "cell_type": "markdown",
   "metadata": {
    "slideshow": {
     "slide_type": "slide"
    }
   },
   "source": [
    "# Camera with a Lens\n",
    "\n",
    "<center><img src=\"figs/01_lens.png\" width=400px alt=\"default\"/></center>\n",
    "\n",
    "- lens focuses the light on the film\n",
    "- there is a specific distance at which objects are \"in focus\""
   ]
  },
  {
   "cell_type": "markdown",
   "metadata": {
    "slideshow": {
     "slide_type": "slide"
    }
   },
   "source": [
    "# Paraxial Refaction Model\n",
    "\n",
    "<center><img src=\"figs/01_lens2.png\" width=400px alt=\"default\"/></center>\n",
    "\n",
    "- lens focuses light rays parallel to the optical axis to focal point"
   ]
  },
  {
   "cell_type": "markdown",
   "metadata": {
    "slideshow": {
     "slide_type": "slide"
    }
   },
   "source": [
    "# Paraxial Refaction Model: Projection\n",
    "\n",
    "$\\color{#EF5645}{\\text{Projection}}$: The 3D to 2D projection defined by the pinhole camera model is, given $p=[x, y, z]^T$:\n",
    "$$p' \n",
    "= \\begin{bmatrix} x' & y' \\end{bmatrix}^T \n",
    "= \\begin{bmatrix}(f+z_0)\\frac{x}{z} & (f+z_0)\\frac{y}{z}\\end{bmatrix}^T.$$\n",
    "\n",
    "$\\color{#047C91}{\\text{Remark}}$: The proof is beyond the scope of this class."
   ]
  },
  {
   "cell_type": "markdown",
   "metadata": {
    "slideshow": {
     "slide_type": "slide"
    }
   },
   "source": [
    "# Missing Elements\n",
    "\n",
    "These projections of 3D points into the image plane does not directly correspond to what we see in actual digital images:\n",
    "- points in the digital images are, in general, in a different reference system than those in the image plane\n",
    "- digital images are divided into discrete pixels, whereas points in the image plane are continuous.\n",
    "- the physical sensors can introduce non-linearity such as distortion to the mapping.\n",
    "\n",
    "We introduce the camera parameters."
   ]
  },
  {
   "cell_type": "markdown",
   "metadata": {
    "slideshow": {
     "slide_type": "slide"
    }
   },
   "source": [
    "# Image Formation\n",
    "\n",
    "- [Geometric Primitives and Transformations](#sec-syllabus)\n",
    "\n",
    "- [3D to 2D Projections](#sec-ece)\n",
    "\n",
    "- [Camera Parameters](#sec-ece)"
   ]
  },
  {
   "cell_type": "markdown",
   "metadata": {
    "slideshow": {
     "slide_type": "slide"
    }
   },
   "source": [
    "# Camera Matrix Model\n",
    "\n",
    "= describes parameters that affect how world point $p$ is mapped to image coordinates $p'$.\n",
    "\n",
    "Parameters $c_x$ and $c_y$: describe how image plane and digital image coordinates differ by a translation.\n",
    "  - Image plane coordinates: origin C′\n",
    "  - Digital image coordinates: origin at image's lower-left corner.\n",
    "\n",
    "Thus: \n",
    "$$p' \n",
    "= \\begin{bmatrix} x' & y' \\end{bmatrix}^T \n",
    "= \\begin{bmatrix}(f+z_0)\\frac{x}{z} +c_x & (f+z_0)\\frac{y}{z}+c_y\\end{bmatrix}^T.$$"
   ]
  },
  {
   "cell_type": "markdown",
   "metadata": {
    "slideshow": {
     "slide_type": "slide"
    }
   },
   "source": [
    "# Camera Matrix Model\n",
    "\n",
    "= describes parameters that affect how world point $p$ is mapped to image coordinates $p'$.\n",
    "\n",
    "\n",
    "Parameters $k$ and $l$ (e./g. in pixels/cm): describe how image plane and digital image coordinates have different units:\n",
    "- points in image plane: physical measurements, e.g. cm\n",
    "- Points in digital images are expressed in pixels\n",
    "\n",
    "\n",
    "Thus: \n",
    "$$p' \n",
    "= \\begin{bmatrix} x' & y' \\end{bmatrix}^T \n",
    "= \\begin{bmatrix}(f+z_0)k\\frac{x}{z} +c_x & (f+z_0)l\\frac{y}{z}+c_y\\end{bmatrix}^T\n",
    "= \\begin{bmatrix}\\alpha\\frac{x}{z} +c_x & \\beta\\frac{y}{z}+c_y\\end{bmatrix}^T.$$"
   ]
  },
  {
   "cell_type": "markdown",
   "metadata": {
    "slideshow": {
     "slide_type": "slide"
    }
   },
   "source": [
    "# Camera Matrix Model in Homogeneous Coords\n",
    "\n",
    "Using $\\tilde p = [x', y', 1]$ and $\\tilde p = [x, y, z, 1]$, we get:\n",
    "$$\\tilde p' \n",
    "= \\begin{bmatrix}\n",
    "\\alpha \\frac{x}{z} + c_x \\\\\n",
    "\\beta \\frac{y}{z} + c_y \\\\\n",
    "1\n",
    "\\end{bmatrix}\n",
    "= \\begin{bmatrix}\n",
    "\\alpha x + c_x z \\\\\n",
    "\\beta y + c_y z\\\\\n",
    "z\n",
    "\\end{bmatrix}\n",
    "= \n",
    "\\begin{bmatrix}\n",
    "\\alpha & 0 & c_x & 0 \\\\\n",
    "0 & \\beta & c_y & 0 \\\\\n",
    "0 & 0 & 1 & 0\n",
    "\\end{bmatrix}\n",
    "\\begin{bmatrix}\n",
    "x \\\\\n",
    "y \\\\\n",
    "z \\\\\n",
    "1\n",
    "\\end{bmatrix}\n",
    "= \\begin{bmatrix}\n",
    "\\alpha & 0 & c_x & 0 \\\\\n",
    "0 & \\beta & c_y & 0 \\\\\n",
    "0 & 0 & 1 & 0\n",
    "\\end{bmatrix}\n",
    "\\tilde p\n",
    "= M \\tilde p\n",
    "$$\n",
    "\n",
    "We can also write:\n",
    "$$\\tilde p' \n",
    "= M \\tilde p\n",
    "= \n",
    "\\begin{bmatrix}\n",
    "\\alpha & 0 & c_x  \\\\\n",
    "0 & \\beta & c_y  \\\\\n",
    "0 & 0 & 1 \n",
    "\\end{bmatrix}\n",
    "\\begin{bmatrix}\n",
    "I & 0\n",
    "\\end{bmatrix}\n",
    "\\tilde p\n",
    "= K  \\begin{bmatrix}\n",
    "I & 0\n",
    "\\end{bmatrix}\\tilde p\n",
    "$$\n",
    "\n",
    "The matrix $K$ is refered to as the camera matrix."
   ]
  },
  {
   "cell_type": "markdown",
   "metadata": {
    "slideshow": {
     "slide_type": "slide"
    }
   },
   "source": [
    "# Camera Parameters: Extrinsics\n",
    "\n",
    "- So far: world point $P$ is in the camera coordinate system $[i, j, k]$.\n",
    "- Now: $P_w$ may be observed in a different coordinate system.\n",
    "\n",
    "$$p = \\begin{bmatrix}\n",
    "R & T \\\\\n",
    "0 & 1\n",
    "\\end{bmatrix} p_w\n",
    "$$\n",
    "\n",
    "So that:\n",
    "$$\\tilde p' \n",
    "= K  \\begin{bmatrix}\n",
    "I & 0\n",
    "\\end{bmatrix}\\tilde p\n",
    "= \n",
    "K  \\begin{bmatrix}\n",
    "I & 0\n",
    "\\end{bmatrix}\n",
    "\\begin{bmatrix}\n",
    "R & T \\\\\n",
    "0 & 1\n",
    "\\end{bmatrix} p_w\n",
    "= M p_w\n",
    "$$\n",
    "parameters R and T are known as the extrinsic parameters because they are external to and do not depend on the camera\n"
   ]
  },
  {
   "cell_type": "markdown",
   "metadata": {
    "slideshow": {
     "slide_type": "slide"
    }
   },
   "source": [
    "# Summary\n",
    "\n",
    "The $3 \\times 4$ projection matrix $M$ has 11 degrees of freedom:\n",
    "- 5 from the intrinsic camera matrix $K$, \n",
    "- 3 from extrinsic rotation $R$, \n",
    "- 3 from extrinsic translation $T$."
   ]
  },
  {
   "cell_type": "markdown",
   "metadata": {
    "slideshow": {
     "slide_type": "slide"
    }
   },
   "source": [
    "# Outline: Welcome\n",
    "\n",
    "- [Syllabus](#sec-syllabus)\n",
    "\n",
    "- [Real-World Applications](#sec-ece)\n",
    "\n",
    "- **[Outline](#sec-outline)**"
   ]
  },
  {
   "cell_type": "code",
   "execution_count": null,
   "metadata": {},
   "outputs": [],
   "source": []
  }
 ],
 "metadata": {
  "celltoolbar": "Slideshow",
  "kernelspec": {
   "display_name": "Python 3 (ipykernel)",
   "language": "python",
   "name": "python3"
  },
  "language_info": {
   "codemirror_mode": {
    "name": "ipython",
    "version": 3
   },
   "file_extension": ".py",
   "mimetype": "text/x-python",
   "name": "python",
   "nbconvert_exporter": "python",
   "pygments_lexer": "ipython3",
   "version": "3.9.7"
  }
 },
 "nbformat": 4,
 "nbformat_minor": 2
}
