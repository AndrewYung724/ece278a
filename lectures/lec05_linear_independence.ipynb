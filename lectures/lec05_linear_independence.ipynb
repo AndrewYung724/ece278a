{
 "cells": [
  {
   "cell_type": "markdown",
   "id": "2cfa83a8",
   "metadata": {
    "cell_style": "center",
    "slideshow": {
     "slide_type": "slide"
    }
   },
   "source": [
    "# 05 Linear Independence"
   ]
  },
  {
   "cell_type": "markdown",
   "id": "c3187ae6",
   "metadata": {
    "cell_style": "split"
   },
   "source": [
    "<img src=\"figs/01_rgb_intro.png\" alt=\"default\"/>"
   ]
  },
  {
   "cell_type": "markdown",
   "id": "49463801",
   "metadata": {
    "cell_style": "split"
   },
   "source": [
    "<center><img src=\"figs/05_image_basis.png\" alt=\"default\"/></center>\n",
    "\n",
    "<center>First two elements of a basis of the space of images.</center>"
   ]
  },
  {
   "cell_type": "markdown",
   "id": "e8e58aa3",
   "metadata": {
    "slideshow": {
     "slide_type": "slide"
    }
   },
   "source": [
    "#### Unit 1: Vectors, Book ILA Ch. 1-5\n",
    "- 01 Vectors\n",
    "- 02 Linear Functions\n",
    "- 03 Norms and Distances\n",
    "- 04 Clustering\n",
    "- **_05 Linear Independence_**\n",
    "\n",
    "#### Unit 2: Matrices, Book ILA Ch. 6-11 + Book IMC Ch. 2\n",
    "#### Unit 3: Least Squares, Book ILA Ch. 12-14 + Book IMC Ch. 8\n",
    "#### Unit 4: Eigen-decomposition, Book IMC Ch. 10, 12, 19"
   ]
  },
  {
   "cell_type": "markdown",
   "id": "25dff644",
   "metadata": {
    "slideshow": {
     "slide_type": "slide"
    }
   },
   "source": [
    "# Outline: 05 Linear Independence\n",
    "\n",
    "- **[Linear Independence](#sec-linear)**\n",
    "- [Basis](#Basis)\n",
    "- [Orthonormal Vectors](#Orthonormal)"
   ]
  },
  {
   "cell_type": "markdown",
   "id": "06ac51b0",
   "metadata": {
    "slideshow": {
     "slide_type": "slide"
    }
   },
   "source": [
    "# Linear Dependence\n",
    "\n",
    "$\\color{#EF5645}{\\text{Definition}}$: A set of $n$-vectors ${a_1, . . . , a_k}$ (with $k ≥ 1$) is linearly dependent if:\n",
    "$$β_1a_1 + · · · + β_ka_k = 0$$\n",
    "**holds for some $β_1, . . . , β_k$ that are not all zero**. This statement is equivalent to: at least one $a_i$ is a linear combination of the others.\n",
    "\n",
    "- ${a_1}$ is linearly dependent only if $a_1 = 0$.\n",
    "- ${a_1, a_2}$ is linearly dependent only if one $a_i$ is multiple of the other.\n",
    "- for $k > 2$, there is no simple way to state condition."
   ]
  },
  {
   "cell_type": "markdown",
   "id": "1ed4419c",
   "metadata": {
    "slideshow": {
     "slide_type": "slide"
    }
   },
   "source": [
    "$\\color{#047C91}{\\text{Exercise}}$: Which sets of vectors are linearly dependent?\n",
    "\n",
    "<center><img src=\"figs/03_angles.jpg\" alt=\"default\"/></center>"
   ]
  },
  {
   "cell_type": "markdown",
   "id": "b11b756c",
   "metadata": {
    "slideshow": {
     "slide_type": "slide"
    }
   },
   "source": [
    "$\\color{#047C91}{\\text{Example}}$: The following vectors:\n",
    "$$a_1 = \\begin{pmatrix}\n",
    "    0.2 \\\\\n",
    "    -7 \\\\\n",
    "    8.6 \n",
    "\\end{pmatrix}, \\quad a_2 = \\begin{pmatrix}\n",
    "    -0.1 \\\\\n",
    "    2 \\\\\n",
    "    -1\n",
    "\\end{pmatrix} \\quad a_3 = \\begin{pmatrix}\n",
    "    0 \\\\\n",
    "    -1 \\\\\n",
    "    2.2\n",
    "\\end{pmatrix}$$\n",
    "are linearly dependent because:\n",
    "- $a_1 + 2a_2 − 3a_3 = 0$,\n",
    "- we can express any of them as linear combination of the other two, e.g., $a_2 = (−1/2)a_1 + (3/2)a_3$\n",
    "\n"
   ]
  },
  {
   "cell_type": "markdown",
   "id": "e243dd59",
   "metadata": {
    "slideshow": {
     "slide_type": "slide"
    }
   },
   "source": [
    "# Linear Independence\n",
    "\n",
    "$\\color{#EF5645}{\\text{Definition}}$: The set of $n$-vectors ${a_1, . . . , a_k}$ (with $k ≥ 1$) is linearly independent if it is not linearly dependent, i.e. if \n",
    "$$β_1a_1 + · · · + β_ka_k = 0$$\n",
    "**holds only when** $β_1 = · · · = β_k = 0$. This statement is equivalent to: no $a_i$ is a linear combination of the others.\n",
    "\n",
    "$\\color{#047C91}{\\text{Example}}$: The one-hot $n$-vectors $e_1, . . . , e_n$ are linearly independent.\n"
   ]
  },
  {
   "cell_type": "markdown",
   "id": "1015cbc0",
   "metadata": {
    "slideshow": {
     "slide_type": "slide"
    }
   },
   "source": [
    "# Property of linear independence\n",
    "\n",
    "$\\color{#6D7D33}{\\text{Property}}$: Take linearly independent vectors $a_1, . . . , a_k$. Suppose $x$ is linear combination of the $a_1, . . . , a_k$: $$x = β_1a_1 + · · · + β_ka_k.$$\n",
    "Then, the coefficients $\\beta_1, ..., \\beta_k$ are unique.\n",
    "\n",
    "$\\color{#EF5645}{\\text{Remark}}$: This means that, in principle, we can compute the coefficients from $x$."
   ]
  },
  {
   "cell_type": "markdown",
   "id": "484484ba",
   "metadata": {
    "slideshow": {
     "slide_type": "slide"
    }
   },
   "source": [
    "# Linear (in)dependence & dimension\n",
    "\n",
    "$\\color{#6D7D33}{\\text{Propositions}}$:\n",
    "- A linearly independent set of $n$-vectors $a_1, . . . , a_k$ can have at most $n$ elements, i.e. $k \\leq n$.\n",
    "- Any set of $n + 1$ or more $n$-vectors is linearly dependent.\n",
    "\n",
    "$\\color{#047C91}{\\text{Exercise}}$: Are the vectors $(1, 2), (2, 3)$ and $(3, 0)$ linearly dependent or independent? "
   ]
  },
  {
   "cell_type": "markdown",
   "id": "6e95615d",
   "metadata": {
    "slideshow": {
     "slide_type": "slide"
    }
   },
   "source": [
    "# Outline: 05 Linear Independence\n",
    "\n",
    "- [Linear Independence](#sec-linear)\n",
    "- **[Basis](#Basis)**\n",
    "- [Orthonormal Vectors](#Orthonormal)"
   ]
  },
  {
   "cell_type": "markdown",
   "id": "d9527005",
   "metadata": {
    "slideshow": {
     "slide_type": "slide"
    }
   },
   "source": [
    "# Basis\n",
    "\n",
    "$\\color{#EF5645}{\\text{Definition}}$: A set of $n$ linearly independent $n$-vectors $a_1, . . . , a_n$ is called a basis of the space of $n$-vectors.\n",
    "\n",
    "$\\color{#047C91}{\\text{Example}}$: The set of $n$ one-hot $n$-vectors is a basis of the space of $n$-vectors. This is why we can also call them \"basis vectors\".\n",
    "\n",
    "$\\color{#047C91}{\\text{Example}}$: What is a possible basis:\n",
    "- For the space of colors represented as vectors $(r, g, b)$? \n",
    "- For the space of documents with dictionary $D$? \n",
    "- For the space of $8\\times8$ images?"
   ]
  },
  {
   "cell_type": "markdown",
   "id": "3281977e",
   "metadata": {
    "slideshow": {
     "slide_type": "slide"
    }
   },
   "source": [
    "- Space of colors as $3$-vectors: $(r, g, b)$\n",
    "    - A basis:  set of vectors representing red, green and blue.\n",
    "- Space of documents as $n$-vectors on a dictionary of $n$ words\n",
    "    - A basis: set of vectors representing on dictionary word each.\n",
    "- Space of 8x8 images as $64$-vectors\n",
    "    - A basis: set of images with only one black pixel."
   ]
  },
  {
   "cell_type": "markdown",
   "id": "5607663c",
   "metadata": {
    "cell_style": "split"
   },
   "source": [
    "<img src=\"figs/01_rgb_intro.png\" alt=\"default\" width=300px/>"
   ]
  },
  {
   "cell_type": "markdown",
   "id": "91b83294",
   "metadata": {
    "cell_style": "split"
   },
   "source": [
    "<center><img src=\"figs/05_image_basis.png\" alt=\"default\"/></center>"
   ]
  },
  {
   "cell_type": "markdown",
   "id": "41609d69",
   "metadata": {
    "slideshow": {
     "slide_type": "slide"
    }
   },
   "source": [
    "# Properties of a basis\n",
    "\n",
    "$\\color{#6D7D33}{\\text{Properties}}$: If $a_1, . . . , a_n$ is a basis of the space of $n$-vectors, then:\n",
    "- Any $n$-vector $b$:\n",
    "  - can be expressed as a linear combination of them: $b = β_1a_1 + · · · + β_n a_n$ for some $β_1, . . . , β_n$.\n",
    "  - and the coefficients $β_1, . . . , β_n$ are unique.\n",
    "  \n",
    "  \n",
    "$\\color{#EF5645}{\\text{Definition}}$: The formula above is called expansion of $b$ in the $a_1, . . . , a_n$ basis. \n",
    " \n",
    "$\\color{#047C91}{\\text{Example}}$: Compute expansion of $b = (b_1, ..., b_n)$ in basis $e_1, ..., e_n$"
   ]
  },
  {
   "cell_type": "markdown",
   "id": "9fe1740f",
   "metadata": {
    "slideshow": {
     "slide_type": "slide"
    }
   },
   "source": [
    "# Outline: 05 Linear Independence\n",
    "\n",
    "- [Linear Independence](#sec-linear)\n",
    "- [Basis](#Basis)\n",
    "- **[Orthonormal Vectors](#Orthonormal)**"
   ]
  },
  {
   "cell_type": "markdown",
   "id": "cb63c611",
   "metadata": {
    "slideshow": {
     "slide_type": "slide"
    }
   },
   "source": [
    "# Orthogonal, Normalized, Orthonormal\n",
    "\n",
    "$\\color{#EF5645}{\\text{Definitions}}$: The $n$-vectors $a_1, . . . , a_k$ are:\n",
    "- (mutually) orthogonal if $a_i ⊥ a_j$ for all $i , j$\n",
    "- normalized if $‖a_i ‖ = 1$ for $i = 1, . . . , k$\n",
    "- orthonormal if they are orthogonal and normalized.\n",
    "\n",
    "$\\color{#047C91}{\\text{Example}}$: Give examples of orthogonal, normalized and orthonormal vectors in 2D. Draw them."
   ]
  },
  {
   "cell_type": "markdown",
   "id": "f10d1411",
   "metadata": {
    "slideshow": {
     "slide_type": "slide"
    }
   },
   "source": [
    "# Properties of Orthonormal Vectors\n",
    "\n",
    "$\\color{#6D7D33}{\\text{Properties}}$: If $a_1, ..., a_k$ are orthonormal, then:\n",
    "- $a_i^Ta_j = 0$ if $i\\neq j$ and $a_i^Ta_i = 1$,\n",
    "- $k\\leq n$,\n",
    "- $a_1, ..., a_k$ are linearly independent.\n",
    "\n",
    "$\\color{#EF5645}{\\text{Definition}}$: A set of $n$ orthonormal $n$-vectors is called an orthonormal basis."
   ]
  },
  {
   "cell_type": "markdown",
   "id": "f327b742",
   "metadata": {
    "slideshow": {
     "slide_type": "slide"
    }
   },
   "source": [
    "# Examples of Orthonormal Basis\n",
    "\n",
    "$\\color{#047C91}{\\text{Examples}}$:\n",
    "- One-hot $n$-vectors: $e_1, ...., e_n$\n",
    "- The $3$-vectors: $$a_1 = \\begin{pmatrix}\n",
    "    0 \\\\\n",
    "    0 \\\\\n",
    "    -1 \n",
    "\\end{pmatrix}, \\quad a_2 = \\begin{pmatrix}\n",
    "    1 / \\sqrt{2} \\\\\n",
    "    1 / \\sqrt{2} \\\\\n",
    "    0\n",
    "\\end{pmatrix} \\quad a_3 = \\begin{pmatrix}\n",
    "    1 / \\sqrt{2} \\\\\n",
    "    -1 / \\sqrt{2} \\\\\n",
    "    0\n",
    "\\end{pmatrix}$$\n",
    "\n",
    "\n",
    "$\\color{#047C91}{\\text{Exercise}}$: Show that the $3$-vectors above form an orthonormal basis using math computations."
   ]
  },
  {
   "cell_type": "markdown",
   "id": "61951ebc",
   "metadata": {
    "slideshow": {
     "slide_type": "slide"
    }
   },
   "source": [
    "$\\color{#047C91}{\\text{Exercise}}$: Show that these form an orthonormal basis using Python: $$a_1 = \\begin{pmatrix}\n",
    "    0 \\\\\n",
    "    0 \\\\\n",
    "    -1 \n",
    "\\end{pmatrix}, \\quad a_2 = \\begin{pmatrix}\n",
    "    1 / \\sqrt{2} \\\\\n",
    "    1 / \\sqrt{2} \\\\\n",
    "    0\n",
    "\\end{pmatrix} \\quad a_3 = \\begin{pmatrix}\n",
    "    1 / \\sqrt{2} \\\\\n",
    "    -1 / \\sqrt{2} \\\\\n",
    "    0\n",
    "\\end{pmatrix}$$"
   ]
  },
  {
   "cell_type": "code",
   "execution_count": 5,
   "id": "f6b14170",
   "metadata": {},
   "outputs": [
    {
     "name": "stdout",
     "output_type": "stream",
     "text": [
      "0.0\n"
     ]
    },
    {
     "data": {
      "text/plain": [
       "1.0"
      ]
     },
     "execution_count": 5,
     "metadata": {},
     "output_type": "execute_result"
    }
   ],
   "source": [
    "a1 = np.array([0, 0, 1]); a2 = np.array([1/np.sqrt(2), 1/np.sqrt(2), 0])\n",
    "\n",
    "print(np.inner(a1, a2)) # Do same for a1, a3 and a2, a3\n",
    "\n",
    "np.linalg.norm(a1) # Do same for a2 and a3"
   ]
  },
  {
   "cell_type": "markdown",
   "id": "d8b2c54b",
   "metadata": {
    "slideshow": {
     "slide_type": "slide"
    }
   },
   "source": [
    "# Orthonormal Expansion\n",
    "\n",
    "$\\color{#6D7D33}{\\text{Properties}}$: If $a_1, . . . , a_n$ is an orthonormal basis of the $n$-vectors, then:\n",
    "- Any $n$-vector $x$ can be written:\n",
    "$$x = (a^T_1 x)a_1 + · · · + (a^T_n x)a_n.$$\n",
    "\n",
    "$\\color{#EF5645}{\\text{Definition}}$: The formula above is called orthonormal expansion of $x$ in the orthonormal basis. "
   ]
  },
  {
   "cell_type": "markdown",
   "id": "6602797d",
   "metadata": {
    "slideshow": {
     "slide_type": "slide"
    }
   },
   "source": [
    "# Outline: 05 Linear Independence\n",
    "\n",
    "- [Linear Independence](#sec-linear)\n",
    "- [Basis](#Basis)\n",
    "- [Orthonormal Vectors](#Orthonormal)\n",
    "\n",
    "Resources: Book ILA, Ch. 5"
   ]
  }
 ],
 "metadata": {
  "celltoolbar": "Slideshow",
  "kernelspec": {
   "display_name": "Python 3 (ipykernel)",
   "language": "python",
   "name": "python3"
  },
  "language_info": {
   "codemirror_mode": {
    "name": "ipython",
    "version": 3
   },
   "file_extension": ".py",
   "mimetype": "text/x-python",
   "name": "python",
   "nbconvert_exporter": "python",
   "pygments_lexer": "ipython3",
   "version": "3.9.7"
  }
 },
 "nbformat": 4,
 "nbformat_minor": 5
}
