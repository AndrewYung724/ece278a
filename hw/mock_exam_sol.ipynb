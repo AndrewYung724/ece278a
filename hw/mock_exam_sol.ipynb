{
  "nbformat": 4,
  "nbformat_minor": 0,
  "metadata": {
    "colab": {
      "name": "mock_exam_sol.ipynb",
      "provenance": [],
      "collapsed_sections": []
    },
    "kernelspec": {
      "display_name": "Python 3",
      "language": "python",
      "name": "python3"
    },
    "language_info": {
      "codemirror_mode": {
        "name": "ipython",
        "version": 3
      },
      "file_extension": ".py",
      "mimetype": "text/x-python",
      "name": "python",
      "nbconvert_exporter": "python",
      "pygments_lexer": "ipython3",
      "version": "3.8.8"
    }
  },
  "cells": [
    {
      "cell_type": "markdown",
      "metadata": {
        "id": "XJcXzC1IYiDX"
      },
      "source": [
        "# ECE 3 : Mock Exam\n"
      ]
    },
    {
      "cell_type": "markdown",
      "metadata": {
        "id": "JqL97aDR5ind"
      },
      "source": [
        "## Problem 1 (20 points - feel free to lower this if you need more points for the other problems)\n",
        "\n",
        "Select the correct answer for each of the following questions:\n",
        "\n",
        "1. Which of the following statements is **true**$ $:\n",
        "<ol type=\"a\">\n",
        "    <li>Clustering is a supervised learning task</li>\n",
        "    <li>Both $k$-means and $k$-NN (nearest neighbors) can be used for classification</li>\n",
        "    <li>MSE (mean square error) is a metric for the performance of classification algorithms</li>\n",
        "    <li>Training a regression model requires knowledge of example input-output pairs</li>\n",
        "    <li>None of the above</li>\n",
        "</ol>\n",
        "\n",
        "2. Which of the following statements about the **$k$-means** algorithm is **true**:\n",
        "<ol type=\"a\">\n",
        "    <li>It converges to the same solution regardless of the initialization</li>\n",
        "    <li>It is used for classification</li>\n",
        "    <li>The number of clusters is defined by the user</li>\n",
        "    <li>It is a supervised learning algorithm</li>\n",
        "    <li>None of the above</li>\n",
        "</ol>\n",
        "\n",
        "3. The Euclidean distance between two vectors is:\n",
        "<ol type=\"a\">\n",
        "    <li>The $\\ell_2$ norm of their difference</li>\n",
        "    <li>The difference of their $\\ell_2$ norms</li>\n",
        "    <li>The $\\ell_1$ norm of their difference</li>\n",
        "    <li>Equal to their Minkowski distance for $p=1$</li>\n",
        "    <li>None of the above</li>\n",
        "</ol>\n",
        "\n",
        "4. Let $u = \\begin{bmatrix}\n",
        "x\\\\\n",
        "y\n",
        "\\end{bmatrix}\n",
        "$ be a point in the two-dimensional Cartesian coordinate system and let $\n",
        "R = \n",
        "\\begin{bmatrix}\n",
        "cos\\theta & -sin\\theta\\\\\n",
        "sin\\theta & cos\\theta\n",
        "\\end{bmatrix}\n",
        "$ be a matrix. The calculation $u' = Ru$ represents:\n",
        "<ol type=\"a\">\n",
        "    <li>The translation of $u$ by $cos\\theta$ units to the right and $sin\\theta$ units upwards.</li>\n",
        "    <li>The translation of $u$ by $sin\\theta$ units to the right and $cos\\theta$ units upwards.</li>\n",
        "    <li>The clockwise rotation of $u$ through an angle $\\theta$ about the origin</li>\n",
        "    <li>The counterclockwise rotation of $u$ through an angle $\\theta$ about the origin</li>\n",
        "    <li>None of the above</li>\n",
        "</ol>\n",
        "\n",
        "5. Let $u \\in \\mathbb{R}^n$ and $v \\in \\mathbb{R}^m$ be two vectors. Which of the following statements is **false**:\n",
        "<ol type=\"a\">\n",
        "    <li>The convolution $u*v$ can be calculated using a Toeplitz matrix</li>\n",
        "    <li>The results of the convolutions $u*v$ and $v*u$ are the same</li>\n",
        "    <li>The result of the convolution $u*v$ is a vector $\\in \\mathbb{R}^{n+m-1}$</li>\n",
        "    <li>For any scalar $a$, it is $a(u*v) = (au)*v$</li>\n",
        "    <li>None of the above</li>\n",
        "</ol>"
      ]
    },
    {
      "cell_type": "markdown",
      "metadata": {
        "id": "65mduHJ7771r"
      },
      "source": [
        "**Solution:**\n",
        "\n",
        "1. d\n",
        "2. c\n",
        "3. a\n",
        "4. d\n",
        "5. e\n",
        "\n"
      ]
    },
    {
      "cell_type": "markdown",
      "metadata": {
        "id": "ZDejsmqdzPQG"
      },
      "source": [
        "## Problem 2\n",
        "\n",
        "Consider the function $f:\\mathbb{R}^4\\rightarrow\\mathbb{R}^3$ shown below.\n",
        "\n",
        "$$\n",
        "f\\left(\\begin{bmatrix}\n",
        "x_1 \\\\\n",
        "x_2 \\\\\n",
        "x_3 \\\\\n",
        "x_4 \n",
        "\\end{bmatrix}\\right) = \\frac{1}{2}\\begin{bmatrix}\n",
        "x_1 + x_2 \\\\\n",
        "x_2 + x_3 \\\\\n",
        "x_3 + x_4\n",
        "\\end{bmatrix}\n",
        "$$\n",
        "\n",
        "a) Is this function linear? Prove this to be true or false, and explain why.\n",
        "\n",
        "b) Find the matrix $\\mathbf{A}$ such that $f(\\vec{x}) = \\mathbf{A}\\vec{x}$. Explain why this matrix $\\mathbf{A}$ must exist given your answer to part (a).\n",
        "\n",
        "c) Is the function affine? Explain why."
      ]
    },
    {
      "cell_type": "markdown",
      "metadata": {
        "id": "EBKksVrW1YGH"
      },
      "source": [
        "**Solution:**\n",
        "\n",
        "a) $f:\\mathbb{R}^4\\rightarrow\\mathbb{R}^3$ is **LINEAR** because it satisfies the superposition property.\n",
        "\n",
        "Consider the vectors \n",
        "\n",
        "$\n",
        "\\vec{a} = \\begin{bmatrix} a_1 \\\\ a_2 \\\\ a_3 \\\\ a_4 \\end{bmatrix}\n",
        "$\n",
        "and\n",
        "$\n",
        "\\vec{b} = \\begin{bmatrix} b_1 \\\\ b_2 \\\\ b_3 \\\\ b_4 \\end{bmatrix}\n",
        "$, and the scalars $\\alpha, \\beta\\in\\mathbb{R}$.\n",
        "\n",
        "$$\n",
        "f(\\vec{a}) = \\frac{1}{2}\\begin{bmatrix}\n",
        "a_1 + a_2 \\\\\n",
        "a_2 + a_3 \\\\\n",
        "a_3 + a_4\n",
        "\\end{bmatrix}, f(\\vec{b}) = \\frac{1}{2}\\begin{bmatrix}\n",
        "b_1 + b_2 \\\\\n",
        "b_2 + b_3 \\\\\n",
        "b_3 + b_4\n",
        "\\end{bmatrix}\n",
        "$$\n",
        "\n",
        "$$\n",
        "\\therefore \\alpha f(\\vec{a}) = \\frac{\\alpha}{2}\\begin{bmatrix}\n",
        "a_1 + a_2 \\\\\n",
        "a_2 + a_3 \\\\\n",
        "a_3 + a_4\n",
        "\\end{bmatrix}, \\beta f(\\vec{b}) = \\frac{\\beta}{2}\\begin{bmatrix}\n",
        "b_1 + b_2 \\\\\n",
        "b_2 + b_3 \\\\\n",
        "b_3 + b_4\n",
        "\\end{bmatrix}\n",
        "$$\n",
        "\n",
        "$$\n",
        "\\therefore \\alpha f(\\vec{a}) + \\beta f(\\vec{b}) = \\frac{1}{2}\n",
        "\\left(\\alpha\\begin{bmatrix}\n",
        "a_1 + a_2 \\\\\n",
        "a_2 + a_3 \\\\\n",
        "a_3 + a_4\n",
        "\\end{bmatrix} + \\beta\\begin{bmatrix}\n",
        "b_1 + b_2 \\\\\n",
        "b_2 + b_3 \\\\\n",
        "b_3 + b_4\n",
        "\\end{bmatrix}\\right)\n",
        "$$\n",
        "\n",
        "Now consider $\\alpha\\vec{a} + \\beta\\vec{b} = \\begin{bmatrix}\n",
        "\\alpha a_1 + \\beta b_1\\\\\n",
        "\\alpha a_2 + \\beta b_2\\\\\n",
        "\\alpha a_3 + \\beta b_3\\\\\n",
        "\\alpha a_4 + \\beta b_4\n",
        "\\end{bmatrix}$.\n",
        "\n",
        "$$\n",
        "\\begin{align*}\n",
        "f(\\alpha\\vec{a} + \\beta\\vec{b}) &= \\frac{1}{2}\\begin{bmatrix}\n",
        "\\alpha a_1 + \\beta b_1 + \\alpha a_2 + \\beta b_2 \\\\\n",
        "\\alpha a_2 + \\beta b_2 + \\alpha a_3 + \\beta b_3 \\\\\n",
        "\\alpha a_3 + \\beta b_3 + \\alpha a_4 + \\beta b_4\n",
        "\\end{bmatrix} \\\\\n",
        "  &= \\frac{1}{2}\\left(\\alpha\\begin{bmatrix}\n",
        "a_1 + a_2\\\\\n",
        "a_2 + a_3\\\\\n",
        "a_3 + a_4\n",
        "\\end{bmatrix} + \\beta\\begin{bmatrix}\n",
        "b_1 + b_2\\\\\n",
        "b_2 + b_3\\\\\n",
        "b_3 + b_4\n",
        "\\end{bmatrix}\\right)\n",
        "\\end{align*}\n",
        "$$\n",
        "\n",
        "Therefore $f(\\alpha\\vec{a} + \\beta\\vec{b}) = \\alpha f(\\vec{a}) + \\beta f(\\vec{b})$, and $f:\\mathbb{R}^4\\rightarrow\\mathbb{R}^3$ satisfies the superposition position and is therefore linear.\n",
        "\n",
        "b) Either answers below work.\n",
        "$$\n",
        "\\mathbf{A} = \\begin{bmatrix}\n",
        "\\frac{1}{2} & \\frac{1}{2} & 0 & 0 \\\\\n",
        "0 & \\frac{1}{2} & \\frac{1}{2} & 0 \\\\\n",
        "0 & 0 & \\frac{1}{2} & \\frac{1}{2}\n",
        "\\end{bmatrix} = \\frac{1}{2} \n",
        "\\begin{bmatrix}\n",
        "1 & 1 & 0 & 0 \\\\\n",
        "0 & 1 & 1 & 0 \\\\\n",
        "0 & 0 & 1 & 1\n",
        "\\end{bmatrix}\n",
        "$$\n",
        "\n",
        "$\\mathbf{A}$ must exist due to the proposition that $f:\\mathbb{R}^n\\rightarrow\\mathbb{R}^m$ is linear iff $f(\\vec{x}) = \\mathbf{A}\\vec{x}$ for some $m\\times n$ matrix $\\mathbf{A}$.\n",
        "\n",
        "c) Yes, the function is affine. Since it satisfies the superposition principle for all scalars $\\alpha, \\beta\\in\\mathbb{R}$, constants such that $\\alpha+\\beta=1$ are also included. Because the function satisfies the superposition principle with such constants, it is also affine."
      ]
    },
    {
      "cell_type": "markdown",
      "metadata": {
        "id": "hDq33viHAGWp"
      },
      "source": [
        "## Problem 3 (10 points)\n",
        "\n",
        "Let $u = \\begin{bmatrix} 3, -1, 2, 5, 7 \\end{bmatrix}^T$ and $v = \\begin{bmatrix} 3, 0, -1 \\end{bmatrix}^T$.\n",
        "\n",
        "a) Using any $u$ or $v$ form a Toeplitz matrix that will help you calculate the convolution $u * v$ (7)\n",
        "\n",
        "b) Using the matrix from part (a) calculate the result of the convolution $u * v$ (3)"
      ]
    },
    {
      "cell_type": "markdown",
      "metadata": {
        "id": "fSTPKGH5CTi4"
      },
      "source": [
        "**Solutions:**\n",
        "\n",
        "a) $$\n",
        "V = \\begin{bmatrix}\n",
        "3 & 0 & 0  \\\\\n",
        "-1 & 3 & 0 \\\\\n",
        "2 & -1 & 3 \\\\\n",
        "5 & 2 & -1 \\\\\n",
        "7 & 5 & 2 \\\\\n",
        "0 & 7 & 5 \\\\\n",
        "0 & 0 & 7  \\end{bmatrix}$$  \n",
        "\n",
        "or \n",
        "$$ U = \\begin{bmatrix}\n",
        "3 & 0 & 0 & 0 & 0\\\\\n",
        "0 & 3 & 0 & 0 & 0 \\\\\n",
        "-1 & 0 & 3 & 0 & 0\\\\\n",
        "0 & -1 & 0 & 3 & 0\\\\\n",
        "0 & 0 & -1 & 0 & 3 \\\\\n",
        "0 & 0 & 0 & -1 & 0 \\\\\n",
        "0 & 0 & 0 & 0 & -1\n",
        "\\end{bmatrix}\n",
        "$$\n",
        "\n",
        "b) $$u*v = Vu = \\begin{bmatrix}\n",
        "3 & 0 & 0  \\\\\n",
        "-1 & 3 & 0 \\\\\n",
        "2 & -1 & 3 \\\\\n",
        "5 & 2 & -1 \\\\\n",
        "7 & 5 & 2 \\\\\n",
        "0 & 7 & 5 \\\\\n",
        "0 & 0 & 7  \\end{bmatrix} \\begin{bmatrix} 3 \\\\ 0 \\\\ -1 \\end{bmatrix} = \\begin{bmatrix} 9 \\\\ -3 \\\\3 \\\\16 \\\\ 19 \\\\ -5 \\\\ -7 \\end{bmatrix} $$\n",
        "\n",
        "or \n",
        "\n",
        "$$u*v = Uv = \\begin{bmatrix}\n",
        "3 & 0 & 0 & 0 & 0\\\\\n",
        "0 & 3 & 0 & 0 & 0 \\\\\n",
        "-1 & 0 & 3 & 0 & 0\\\\\n",
        "0 & -1 & 0 & 3 & 0\\\\\n",
        "0 & 0 & -1 & 0 & 3 \\\\\n",
        "0 & 0 & 0 & -1 & 0 \\\\\n",
        "0 & 0 & 0 & 0 & -1\n",
        "\\end{bmatrix} \\begin{bmatrix} 3 \\\\ -1 \\\\ 2 \\\\ 5 \\\\ 7 \\end{bmatrix} = \\begin{bmatrix} 9 \\\\ -3 \\\\3 \\\\16 \\\\ 19 \\\\ -5 \\\\ -7 \\end{bmatrix}  $$"
      ]
    },
    {
      "cell_type": "markdown",
      "metadata": {
        "id": "cjCN_HRCZKyx"
      },
      "source": [
        "## Problem 4\n",
        "\n",
        "A linear dynamical system is a linear equation describing the evolution of a state over time, and written as:\n",
        "$$ x_{t+1} = A_t x_t \\quad t = 1, 2, ...$$\n",
        "\n",
        "a) How would you find $x_{t+1}$ using only $A$ and $x_0$?\n",
        "\n",
        "b) Given $A = \\begin{bmatrix}\n",
        "-1&0&0 \\\\\n",
        "0&1&0  \\\\\n",
        "0&0&2 \\end{bmatrix}$ and $x_0 = \n",
        "\\begin{bmatrix} 1 \\\\ 2 \\\\ 3 \\end{bmatrix}$. Compute $x_5$.\n",
        "\n",
        "c) Now let us change the initial state and observe that $x_5 = \\begin{bmatrix} 4 \\\\ 1 \\\\ 96 \\end{bmatrix}$, what is the initial state $x_0$ in this case then?"
      ]
    },
    {
      "cell_type": "markdown",
      "metadata": {
        "id": "ZNTZZT7uVFyD"
      },
      "source": [
        "**Solution:**\n",
        "\n",
        "a) $x_{t+1} = Ax_t = AA^tx_0 = A^{t+1}x_0$.\n",
        "\n",
        "b) $x_5 = A^5 x_0 = \\begin{bmatrix}\n",
        "(-1)^5&0&0 \\\\\n",
        "0&1^5&0  \\\\\n",
        "0&0&2^5 \\end{bmatrix} \\begin{bmatrix} 1 \\\\ 2 \\\\ 3 \\end{bmatrix} = \\begin{bmatrix} -1 \\\\ 2 \\\\ 96 \\end{bmatrix}$.\n",
        "\n",
        "c) Let $x_0 = \\begin{bmatrix}x_{01}  \\\\ x_{02} \\\\ x_{03} \\end{bmatrix}$ then $A^5x_0 = \\begin{bmatrix} -x_{01} \\\\ x_{02} \\\\ 2^5x_{03} \\end{bmatrix}$. Thus $x_0 = \\begin{bmatrix} -4 \\\\ 1 \\\\ 3 \\end{bmatrix}$."
      ]
    },
    {
      "cell_type": "markdown",
      "metadata": {
        "id": "2vmU8FpZMsLn"
      },
      "source": [
        "## Problem 5\n",
        "\n",
        "Alex invested his inheritance amounting to $\\$600$ in 3 different avenues: the first part in one of the private bonds paying $7\\%$ interest annually, the second part in a mutual fund earning $4\\%$ interest annually and the last part in a savings account accruing $3\\%$ interest per annum. It is also known that the amount deposited in the savings account is $\\$100$ more than he invested in mutual funds. If the total interest earned in one year is $\\$24$, find the amount he invested in each of the three funds.\n",
        "\n",
        "a) Write down the system of linear equations associated to this problem, in the form $Ax = b$.\n",
        "\n",
        "b) Solve the system, manually. Python code is not required. \n",
        "\n",
        "\n"
      ]
    },
    {
      "cell_type": "markdown",
      "metadata": {
        "id": "PFjrQzIbjTpZ"
      },
      "source": [
        "**Solution:**\n",
        "\n",
        "Key:\n",
        "\n",
        "x = $100 (private bonds)\n",
        "\n",
        "y = $200 (mutual funds)\n",
        "\n",
        "z = $300 (savings account)\n",
        "\n",
        "The equations are:\n",
        "$$x+y+z=600$$\n",
        "$$z-y=100$$\n",
        "$$0.07x + 0.04y + 0.03z=24$$ \n",
        "\n",
        "\n"
      ]
    },
    {
      "cell_type": "markdown",
      "metadata": {
        "id": "ORYuE6qkeCM_"
      },
      "source": [
        "## Problem 6\n",
        "\n",
        "Consider two vectors $a$ and $b$ each of length $m$. We wish to estimate $b$ using $a$, by finding the scalar $\\hat{x}$ such that $||a\\hat{x}-b||^2$ is minimum. This can be formulated as a special case of the general least squares problem. \n",
        "\n",
        "Assume that $a$ and $b$ to be non-zero and $\\theta$ to be the angle between $a$ and $b$.\n",
        "\n",
        "(a) Show that $\\hat{x}=\\frac{||b||cos(\\theta)}{||a||}$ where $\\hat{x}$ is the least squares solution to $||ax-b||^2$.\n",
        "\n",
        "(b) Using the value of $\\hat{x}$ from (a) and the formula $sin(\\theta) = 2 sin\\big(\\frac{\\theta}{2}\\big)\\big(\\frac{\\theta}{2}\\big)$, show that: $$||a\\hat{x}-b||^2 = 4||b||^2 sin^2\\Big(\\frac{\\theta}{2}\\Big) cos^2\\Big(\\frac{\\theta}{2}\\Big)$$"
      ]
    },
    {
      "cell_type": "markdown",
      "metadata": {
        "id": "q3jcPexCMzI3"
      },
      "source": [
        "**Solution**:\n",
        "\n",
        "The angle between two vectors $\\theta$ is related to the dot product of two vectors as:\n",
        "$$ cos(\\theta) = \\frac{a^Tb}{||a||\\:||b||}$$\n",
        "\n",
        "We know that for a least squares problem, the solution $\\hat{x}$ given as:\n",
        "$$\\hat{x} = (a^{T}a)^{-1}a^{T}b = \\frac{a^Tb}{a^Ta} = \\frac{||a||\\:||b||\\:cos(\\theta)}{||a||^2} = \\frac{||b||cos(\\theta)}{||a||}$$\n",
        "Notice that $\\hat{x}$ here is just a scalar. Hence $||a\\hat{x}-b||^2$ can be written as:\n",
        "$$ = (a\\hat{x}-b)^T(a\\hat{x}-b)$$\n",
        "$$ = (\\hat{x}a^T - b^T) (\\hat{x}a - b)$$\n",
        "$$ = \\hat{x}^2 ||a||^2 + ||b||^2 - 2\\hat{x}a^Tb $$\n",
        "\n",
        "Using the expression for $\\hat{x}$ given above and using the relation $sin^2(\\theta) = \\Big[2sin(\\frac{\\theta}{2})cos(\\frac{\\theta}{2})\\Big]^2$, the given relation can be proved."
      ]
    }
  ]
}