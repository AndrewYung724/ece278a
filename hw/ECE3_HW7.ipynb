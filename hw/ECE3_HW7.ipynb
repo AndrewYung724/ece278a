{
  "nbformat": 4,
  "nbformat_minor": 0,
  "metadata": {
    "colab": {
      "name": "ECE3_HW7.ipynb",
      "provenance": [],
      "collapsed_sections": [
        "TUU2mXLwYe29"
      ]
    },
    "kernelspec": {
      "display_name": "Python 3",
      "language": "python",
      "name": "python3"
    },
    "language_info": {
      "codemirror_mode": {
        "name": "ipython",
        "version": 3
      },
      "file_extension": ".py",
      "mimetype": "text/x-python",
      "name": "python",
      "nbconvert_exporter": "python",
      "pygments_lexer": "ipython3",
      "version": "3.8.8"
    }
  },
  "cells": [
    {
      "cell_type": "markdown",
      "metadata": {
        "id": "XJcXzC1IYiDX"
      },
      "source": [
        "# ECE 3 : Homework 7"
      ]
    },
    {
      "cell_type": "markdown",
      "metadata": {
        "id": "TUU2mXLwYe29"
      },
      "source": [
        "## Instructions\n",
        "\n",
        "To get started, you should go through the following steps.\n",
        "- Rename this jupyter notebook by adding your name: e.g. `ECE3_HW7_<LastName-FirstName>.ipynb`.\n",
        "- Complete all the exercises by directly editing your notebook.\n",
        "- Make sure that the coding portions run without errors."
      ]
    },
    {
      "cell_type": "markdown",
      "metadata": {
        "id": "LEzl8zxLlDmo"
      },
      "source": [
        "## Problem 1 (Total Points 20 = 5 + 5 + 5 + 5)"
      ]
    },
    {
      "cell_type": "markdown",
      "metadata": {
        "id": "Njx0q7mv6iy0"
      },
      "source": [
        "You and your friend sell $58$ ticket total to a raffle. You sold $14$ more than your friend. How many did you and your friend sell?"
      ]
    },
    {
      "cell_type": "markdown",
      "metadata": {
        "id": "f1z01i1un9Cm"
      },
      "source": [
        "\n",
        "(a) Set up the equation for this problem as Ax = b, where $x = \\begin{bmatrix}\n",
        "x_1 \\\\\n",
        "x_2\\end{bmatrix}$. Let $x_1$ represent number of tickets you sold, and $x_2$ represent number of ticket your friend sold.\n",
        "\n",
        "(b) Find $A^{-1}$ (Please show your steps).\n",
        "\n",
        "(c) Use $A^{-1}$ to solve $x$.\n",
        "\n",
        "(d) Use python to verify that your $A^{-1}$ and solution $x$ are correct."
      ]
    },
    {
      "cell_type": "markdown",
      "metadata": {
        "id": "l0wEuwqLMaTR"
      },
      "source": [
        "**Write your answers for part a,b,c here**"
      ]
    },
    {
      "cell_type": "markdown",
      "metadata": {
        "id": "_f5NcWy-PL-z"
      },
      "source": [
        "**Fill in the blank in the code cell below for part d**"
      ]
    },
    {
      "cell_type": "code",
      "metadata": {
        "id": "1rPonK8q4ueq"
      },
      "source": [
        "import numpy as np\n",
        "A = np.array(...)\n",
        "b = np.array(...)\n",
        "\n",
        "A_inverse = ...\n",
        "x = ...\n",
        "\n",
        "print(\"A inverse is\", A_inverse)\n",
        "print(\"x1 is\", x[0], \"and x2 is\", x[1])"
      ],
      "execution_count": null,
      "outputs": []
    },
    {
      "cell_type": "markdown",
      "metadata": {
        "id": "w3QXq3yS9MWh"
      },
      "source": [
        "## Problem 2 - (Total Points 40 = 15 + 10 + 15)"
      ]
    },
    {
      "cell_type": "markdown",
      "metadata": {
        "id": "_vnIsftE9S4i"
      },
      "source": [
        "Let us consider the problem of balancing the photosynthesis equation (the reason humans exist), where plants take in $CO_2$ and produces $O_2$. \n",
        "\n",
        "$$\n",
        "a_1CO_2 + a_2H_2O \\overset{sunlight}\\Longrightarrow b_1C_6H_{12}O_6 + b_2O_2, \\quad a_1,a_2,b_1,b_2 \\neq 0\n",
        "$$\n",
        "To balance this equation, make sure the number of $C$, $O$, $H$ atoms on both sides of $\\overset{sunlight}\\Longrightarrow$ is equal.\n",
        "\n",
        "a) Let $a = \\begin{bmatrix}\n",
        "a_1 \\\\\n",
        "a_2\\end{bmatrix},b = \\begin{bmatrix}\n",
        "b_1 \\\\\n",
        "b_2\\end{bmatrix}$. Find reactant matrix $R$ and product matrix $P$ such that $Ra = Pb$.\n",
        "\n",
        "b) $Ra = Pb$ is equivalent to $$\\begin{bmatrix} R &-P\\end{bmatrix} \\begin{bmatrix} a \\\\ b\n",
        "\\end{bmatrix} = 0$$Try using Python to solve for $\\begin{bmatrix} a \\\\ b\n",
        "\\end{bmatrix}$ by using $\\begin{bmatrix} R &-P\\end{bmatrix} ^{-1}$ and tell us why it does not work. (Use $np.linalg.pinv()$ to find the inverse of a non-square matrix)\n",
        "\n",
        "c) To help mitigate the issue you found in part $b$, we will let you know that $a_1 = 6$. Including this fact, we can transform the equation into the following \n",
        "$$\\begin{bmatrix} R &-P \\\\ e_1^T & 0\\end{bmatrix} \\begin{bmatrix} a \\\\ b \n",
        "\\end{bmatrix} = 6e_4$$\n",
        "Use Python to solve for $\\begin{bmatrix} a \\\\ b \n",
        "\\end{bmatrix}$."
      ]
    },
    {
      "cell_type": "markdown",
      "metadata": {
        "id": "gOxvYYDhDQi0"
      },
      "source": [
        "**Write your answers for part a and b here (This is a word question)**\n"
      ]
    },
    {
      "cell_type": "code",
      "metadata": {
        "id": "usHYM0CzgpX7"
      },
      "source": [
        "# Python code for part c goes here."
      ],
      "execution_count": null,
      "outputs": []
    },
    {
      "cell_type": "markdown",
      "metadata": {
        "id": "RO972SlpR7q9"
      },
      "source": [
        "# Problem 3(Total Points: 40)\n",
        "\n",
        "Consider the polynomial of order 4 shown below.\n",
        "\n",
        "$\n",
        "\\begin{equation*}\n",
        "f(x) = c_0 + c_1 x + c_2 x^2 + c_3 x^3 + c_4 x^4\n",
        "\\end{equation*}\n",
        "$\n",
        "\n",
        "The polynomial satisfies the following conditions:\n",
        "\n",
        "$\n",
        "\\begin{align*}\n",
        "f(-2.5) &= 5.0 \\\\\n",
        "f(-1.5) &= 3.0 \\\\\n",
        "f(-0.5) &= 0.0 \\\\\n",
        "f(0.5)  &= 1.5 \\\\\n",
        "f(1.5)  &= 0.5\n",
        "\\end{align*}\n",
        "$\n",
        "\n",
        "Find the polynomial that interpolates these 5 points. Plot the resulting polynomial and points on the same plot.\n",
        "\n",
        "**Hint:** See Lecture 10 PDF, *Polynomial Interpolation* example at the end."
      ]
    },
    {
      "cell_type": "code",
      "metadata": {
        "id": "p4Qowxj03QPb"
      },
      "source": [
        "import numpy as np\n",
        "import matplotlib.pyplot as plt\n",
        "# Write your solution below\n",
        "\n",
        "# ----------------------------------------------\n",
        "# 10pts - correct A matrix:\n",
        "A = np.array([\n",
        "    ...\n",
        "])\n",
        "\n",
        "# ----------------------------------------------\n",
        "# 10pts - correct b vector:\n",
        "b = np.array([\n",
        "    ...\n",
        "])\n",
        "\n",
        "# ----------------------------------------------\n",
        "# 10pts - solve for coefficients:\n",
        "coeff = ...\n",
        "\n",
        "# ----------------------------------------------\n",
        "# 10pts - Plot the interpolated function, then \n",
        "#         overlay the given (x, f(x)) points on\n",
        "#         the same plot:\n",
        "x_domain = np.linspace(-3, 2, 101) # Domain for interpolating function\n",
        "f_interp = ... # Insert code to find interpolating polynomial values here\n",
        "               # Use the domain defined above, as well as discovered coefficients\n",
        "    \n",
        "plt.plot(...)  # Plot interpolating polynomial values over given domain\n",
        "plt.scatter(...) # Scatter plot for given (x, f(x)) pairs\n"
      ],
      "execution_count": null,
      "outputs": []
    }
  ]
}