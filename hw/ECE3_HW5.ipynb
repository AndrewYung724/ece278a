{
  "nbformat": 4,
  "nbformat_minor": 0,
  "metadata": {
    "colab": {
      "name": "ECE3_HW5.ipynb",
      "provenance": [],
      "collapsed_sections": [
        "TUU2mXLwYe29"
      ]
    },
    "kernelspec": {
      "display_name": "Python 3",
      "language": "python",
      "name": "python3"
    },
    "language_info": {
      "codemirror_mode": {
        "name": "ipython",
        "version": 3
      },
      "file_extension": ".py",
      "mimetype": "text/x-python",
      "name": "python",
      "nbconvert_exporter": "python",
      "pygments_lexer": "ipython3",
      "version": "3.8.8"
    }
  },
  "cells": [
    {
      "cell_type": "markdown",
      "metadata": {
        "id": "XJcXzC1IYiDX"
      },
      "source": [
        "# ECE 3 : Homework 5"
      ]
    },
    {
      "cell_type": "markdown",
      "metadata": {
        "id": "TUU2mXLwYe29"
      },
      "source": [
        "## Instructions\n",
        "\n",
        "To get started, you should go through the following steps.\n",
        "- Rename this jupyter notebook by adding your name: e.g. `ECE3_HW3_<LastName-FirstName>.ipynb`.\n",
        "- Complete all the exercises by directly editing your notebook.\n",
        "- Make sure that the coding portions run without errors."
      ]
    },
    {
      "cell_type": "code",
      "metadata": {
        "colab": {
          "base_uri": "https://localhost:8080/"
        },
        "id": "EAnbXz7_n8GK",
        "outputId": "e9a70ec3-0c92-4569-ebdf-4ed2ed4fedd7"
      },
      "source": [
        "import numpy as np\n",
        "from sklearn.datasets import load_digits\n",
        "\n",
        "dataset = load_digits()\n",
        "print(dataset.DESCR)"
      ],
      "execution_count": null,
      "outputs": [
        {
          "name": "stdout",
          "output_type": "stream",
          "text": [
            ".. _digits_dataset:\n",
            "\n",
            "Optical recognition of handwritten digits dataset\n",
            "--------------------------------------------------\n",
            "\n",
            "**Data Set Characteristics:**\n",
            "\n",
            "    :Number of Instances: 1797\n",
            "    :Number of Attributes: 64\n",
            "    :Attribute Information: 8x8 image of integer pixels in the range 0..16.\n",
            "    :Missing Attribute Values: None\n",
            "    :Creator: E. Alpaydin (alpaydin '@' boun.edu.tr)\n",
            "    :Date: July; 1998\n",
            "\n",
            "This is a copy of the test set of the UCI ML hand-written digits datasets\n",
            "https://archive.ics.uci.edu/ml/datasets/Optical+Recognition+of+Handwritten+Digits\n",
            "\n",
            "The data set contains images of hand-written digits: 10 classes where\n",
            "each class refers to a digit.\n",
            "\n",
            "Preprocessing programs made available by NIST were used to extract\n",
            "normalized bitmaps of handwritten digits from a preprinted form. From a\n",
            "total of 43 people, 30 contributed to the training set and different 13\n",
            "to the test set. 32x32 bitmaps are divided into nonoverlapping blocks of\n",
            "4x4 and the number of on pixels are counted in each block. This generates\n",
            "an input matrix of 8x8 where each element is an integer in the range\n",
            "0..16. This reduces dimensionality and gives invariance to small\n",
            "distortions.\n",
            "\n",
            "For info on NIST preprocessing routines, see M. D. Garris, J. L. Blue, G.\n",
            "T. Candela, D. L. Dimmick, J. Geist, P. J. Grother, S. A. Janet, and C.\n",
            "L. Wilson, NIST Form-Based Handprint Recognition System, NISTIR 5469,\n",
            "1994.\n",
            "\n",
            ".. topic:: References\n",
            "\n",
            "  - C. Kaynak (1995) Methods of Combining Multiple Classifiers and Their\n",
            "    Applications to Handwritten Digit Recognition, MSc Thesis, Institute of\n",
            "    Graduate Studies in Science and Engineering, Bogazici University.\n",
            "  - E. Alpaydin, C. Kaynak (1998) Cascading Classifiers, Kybernetika.\n",
            "  - Ken Tang and Ponnuthurai N. Suganthan and Xi Yao and A. Kai Qin.\n",
            "    Linear dimensionalityreduction using relevance weighted LDA. School of\n",
            "    Electrical and Electronic Engineering Nanyang Technological University.\n",
            "    2005.\n",
            "  - Claudio Gentile. A New Approximate Maximal Margin Classification\n",
            "    Algorithm. NIPS. 2000.\n",
            "\n"
          ]
        }
      ]
    },
    {
      "cell_type": "markdown",
      "metadata": {
        "id": "PR4yx9Mpor_8"
      },
      "source": [
        "#### (a) The dataset contains 1797 images of handwritten digits (the description says that the number of instances is 5620 but that's a mistake). Each image has resolution 8x8 pixels. Here the images have been reshaped to vectors of size 64x1. Confirm this by running the following chunk of code."
      ]
    },
    {
      "cell_type": "code",
      "metadata": {
        "colab": {
          "base_uri": "https://localhost:8080/"
        },
        "id": "MroaPJTnoUlo",
        "outputId": "15abc623-9ba6-4756-9940-37ff87f35016"
      },
      "source": [
        "X =  dataset. # images go here\n",
        "y = ... # labels go here\n",
        "\n",
        "print(\"The images are inlcuded in a matrix of shape:\", ...)\n",
        "print(\"The labels are included in a vector of length:\", ...)"
      ],
      "execution_count": null,
      "outputs": [
        {
          "name": "stdout",
          "output_type": "stream",
          "text": [
            "The images are inlcuded in a matrix of shape: Ellipsis\n",
            "The labels are included in a vector of length: Ellipsis\n"
          ]
        }
      ]
    },
    {
      "cell_type": "markdown",
      "metadata": {
        "id": "AT1q6ua5MZx5"
      },
      "source": [
        "#### (b) Let's take a look at our data and labels, display the 11th and the 231th images and their respective labels:"
      ]
    },
    {
      "cell_type": "code",
      "metadata": {
        "id": "KvxF5luAMZMf"
      },
      "source": [
        "import matplotlib.pyplot as plt\n",
        "\n",
        "# Display the first digit\n",
        "plt.figure(1, figsize=(3, 3))\n",
        "\n",
        "# we have saved the images as 64x1 vectors, for the purpose of plotting we will\n",
        "# convert them to size 8x8. For the rest of the questions just use array X\n",
        "images = X.reshape(-1, 8, 8)\n",
        "\n",
        "print('The 11th image is one of digit {}:'.format(...))\n",
        "plt.imshow(..., cmap=plt.cm.gray_r, interpolation='nearest')\n",
        "plt.show()\n",
        "\n",
        "print('The 231th image is one of digit {}:'.format(...))\n",
        "plt.imshow(..., cmap=plt.cm.gray_r, interpolation='nearest')\n",
        "plt.show()"
      ],
      "execution_count": null,
      "outputs": []
    },
    {
      "cell_type": "markdown",
      "metadata": {
        "id": "g8fAJ8jfqOGg"
      },
      "source": [
        "In this exercise we will ignore the existence of the labels and we will assign our images to different clusters based only on the images themselves.\n",
        "\n",
        "This is called **clustering** and it's an **unsupervised** learning task, as it's done with no knowledge of the true labels. In contrast, both **classification** and **regression** are **supervised** learning tasks, as to train our models we need to know the true labels/response variable of the training data."
      ]
    },
    {
      "cell_type": "markdown",
      "metadata": {
        "id": "J2BbFGhJtKUJ"
      },
      "source": [
        "### The K-means algorithm\n",
        "\n",
        "k-means is an algorithm that performs clustering. k is a parameter that indicates the number of clusters. After we choose what k to run the algorithm for, the algorithm proceeds as follows:\n",
        "\n",
        "1.  We pick k points from the dataset at random. We call these points the \"centroids\" or the \"representatives \"of the clusters.\n",
        "2.  For each point in the dataset we calculate its distance to the k centroids and we assign to the cluster with the closest centroid.\n",
        "3. For each cluster, we calculate a new centroid as the mean of its points. These new centroids don't have to belong to the dataset.\n",
        "4. We repeat steps 2 & 3 until the centroid positions don't change.\n",
        "\n",
        "In our example, we know that we're dealing with digits so we will set k=10."
      ]
    },
    {
      "cell_type": "markdown",
      "metadata": {
        "id": "OpTymyvmySjt"
      },
      "source": [
        "#### (c) Use sklearn's KMeans class to perform K-means clustering on the digits dataset. Store the result in a NumPy vector."
      ]
    },
    {
      "cell_type": "code",
      "metadata": {
        "id": "dOQszRx7qNjd"
      },
      "source": [
        "from sklearn.cluster import KMeans\n",
        "\n",
        "# Type your solution below\n",
        "\n",
        "kmeans = KMeans(..., random_state=0)\n",
        "kmeans.fit(...)\n",
        "y_pred = kmeans.predict(...)"
      ],
      "execution_count": null,
      "outputs": []
    },
    {
      "cell_type": "markdown",
      "metadata": {
        "id": "uFRPUAvE2SMH"
      },
      "source": [
        "### Clustering performance metrics\n",
        "\n",
        "After performing clustering, you have assigned a label to each point in the dataset. However, this isn't necessarily the same label as the true label. Here for example, you may have correctly grouped all zeros to the same cluster but assigned this cluster the label 5. Thus, accuracy (as it was defined in Problem 1) it's not an informative metric for the performance of clustering algorithms.\n",
        "\n",
        "An appropriate metric for clustering performance is the **Adjusted Rand index**, which is a function that measures the similarity between the true and the predicted label assignments, ignoring permutations."
      ]
    },
    {
      "cell_type": "markdown",
      "metadata": {
        "id": "8r6wwj--qM_U"
      },
      "source": [
        "#### (d) Calculate the algorithm's adjusted rand index using sklearn's built-in method and print out the result."
      ]
    },
    {
      "cell_type": "code",
      "metadata": {
        "id": "hKON7VVLseKw"
      },
      "source": [
        "from sklearn.metrics import adjusted_rand_score\n",
        "\n",
        "# type your solution below\n",
        "\n",
        "ari = adjusted_rand_score(...) \n",
        "print(ari)"
      ],
      "execution_count": null,
      "outputs": []
    },
    {
      "cell_type": "markdown",
      "metadata": {
        "id": "LEzl8zxLlDmo"
      },
      "source": [
        "## Problem 1 - Linear Equations (Total Points 20 = 4 + 8 + 8)"
      ]
    },
    {
      "cell_type": "markdown",
      "metadata": {
        "id": "Njx0q7mv6iy0"
      },
      "source": [
        "\n",
        "You and your friend are shopping at the farmer's market. You spent $19$ dollars on $2$ pounds of plums and $3$ pounds of peaches. Your friend spent $23$ dollars on $4$ pounds of plums and $1$ pound of peaches. How much does plums and peaches cost per pound?\n"
      ]
    },
    {
      "cell_type": "markdown",
      "metadata": {
        "id": "f1z01i1un9Cm"
      },
      "source": [
        "\n",
        "(a) Let $x_1$ represents price of plums per pound and $x_2$ represent price of peaches per pound. Set up the equation for this problem as Ax = b, where $x = \\begin{bmatrix}\n",
        "x_1 \\\\\n",
        "x_2\\end{bmatrix}$.\n",
        "\n",
        "(b) Solve manually (Please show your steps).\n",
        "\n",
        "(c) Use python verify result by using numpy.linalg.solve, fill blanks in code.\n",
        "\n"
      ]
    },
    {
      "cell_type": "markdown",
      "metadata": {
        "id": "l0wEuwqLMaTR"
      },
      "source": [
        "**Write your answers for part a and b here**"
      ]
    },
    {
      "cell_type": "markdown",
      "metadata": {
        "id": "_f5NcWy-PL-z"
      },
      "source": [
        "**Fill in the blank in the code cell below for part c**"
      ]
    },
    {
      "cell_type": "code",
      "metadata": {
        "colab": {
          "base_uri": "https://localhost:8080/"
        },
        "id": "ol6mSvTNOgx8",
        "outputId": "0733a73f-5d0a-4d5b-9816-f66fa7646e64"
      },
      "source": [
        "import numpy as np\n",
        "A = ...\n",
        "b = ...\n",
        "x = np.linalg.solve(..., ...)\n",
        "print(\"x1 is\", x[0], \"and x2 is\", x[1])"
      ],
      "execution_count": null,
      "outputs": [
        {
          "name": "stdout",
          "output_type": "stream",
          "text": [
            "x1 is 5.0 and x2 is 3.0\n"
          ]
        }
      ]
    },
    {
      "cell_type": "markdown",
      "metadata": {
        "id": "w3QXq3yS9MWh"
      },
      "source": [
        "## Problem 3 - Linear Dynamical System (Total Points 40 = 10 + 30)"
      ]
    },
    {
      "cell_type": "markdown",
      "metadata": {
        "id": "_vnIsftE9S4i"
      },
      "source": [
        "A plane is heading to LAX with constant acceleration of $30$ $km/h^2$. At time $t=0$, the plane stays still at position $0$ $km$. The state of the plane is measured every hour. (In other words, there is an hour between $t$ and $t+1$). The state vector $x$ has $3$ states. $x = \\begin{bmatrix}\n",
        "x_1 \\\\\n",
        "x_2 \\\\\n",
        "x_3\\end{bmatrix} = \\begin{bmatrix}\n",
        "position \\\\\n",
        "velocity \\\\\n",
        "acceleration\\end{bmatrix}$.\n",
        "\n",
        "For motion with constant acceleration, the velocity $v$ of the object at time $t_2$ is calculated using equation $v_{t_2} = v_{t_1} + a(t_2 - t_1)$. The position $x$ of the object at time $t_2$ is calculated using equation $x_{t_2} = x_{t_1} + v_{t_1}(t_2 - t_1) + \\frac{1}{2}a(t_2 - t_1)^2$.\n",
        "\n",
        "a) Model the problem as a linear dynamical system.\n",
        "\n",
        "b) Use python to simulate the state vector for $10$ hours."
      ]
    },
    {
      "cell_type": "markdown",
      "metadata": {
        "id": "gOxvYYDhDQi0"
      },
      "source": [
        "**Write your answers for part a here (This is a word question)**\n"
      ]
    },
    {
      "cell_type": "markdown",
      "metadata": {
        "id": "vMK5Qol-ER1I"
      },
      "source": [
        "**Fill in the blank in the code cell below for part b**"
      ]
    },
    {
      "cell_type": "code",
      "metadata": {
        "colab": {
          "base_uri": "https://localhost:8080/",
          "height": 295
        },
        "id": "lHLlnCYQEosW",
        "scrolled": true,
        "outputId": "7cadd648-0474-497c-c3ca-adc8bfb45695"
      },
      "source": [
        "import matplotlib.pyplot as plt\n",
        "import numpy as np\n",
        "\n",
        "x0 = ...\n",
        "A = ...\n",
        "states = np.zeros((11,3))\n",
        "states[0] = x0\n",
        "\n",
        "# Use for loop to calculate x_t\n",
        "for t in range(1,11):\n",
        "  ...\n",
        "\n",
        "# Plotting\n",
        "times = np.arange(0, 11, 1)\n",
        "plt.plot(times, ..., color='r', label='Plane Position')\n",
        "plt.plot(times, ..., color='g', label='Plane Velocity')\n",
        "plt.plot(times, ..., color='b', label='Plane Acceleration')\n",
        "\n",
        "# Naming the x-axis, y-axis and the whole graph\n",
        "plt.xlabel(\"Time\")\n",
        "plt.ylabel(\"State Vector\")\n",
        "plt.title(\"State Trajectory of the Plane\")\n",
        "  \n",
        "# Adding legend\n",
        "plt.legend()\n",
        "  \n",
        "# To load the display window\n",
        "plt.show()\n"
      ],
      "execution_count": null,
      "outputs": [
        {
          "data": {
            "image/png": "[encoded data removed]",
            "text/plain": [
              "<Figure size 432x288 with 1 Axes>"
            ]
          },
          "metadata": {
            "needs_background": "light"
          },
          "output_type": "display_data"
        }
      ]
    },
    {
      "cell_type": "markdown",
      "metadata": {
        "id": "RO972SlpR7q9"
      },
      "source": [
        "# Problem 3 - Discrete Convolution with Toepliz Matrix (Total Points: 40)\n",
        "\n",
        "We will now explore convolution via the Toepliz matrix.\n",
        "\n",
        "Consider the sinusoid signal defined below in the variable `signal`. We seek to convolve it with a triangle. You can think of this as passing a sinusoidal signal through a detector or imaging system with a triangular \"point spread function\" (PSF). What we measure from the device (the 'image' or 'detection') is the convolution of the signal and the PSF."
      ]
    },
    {
      "cell_type": "code",
      "metadata": {
        "id": "dSoyiFLbR7q9",
        "outputId": "fa53b88e-511b-4dc5-c642-c77ea2b73fb8"
      },
      "source": [
        "import numpy as np\n",
        "import matplotlib.pyplot as plt\n",
        "\n",
        "time = np.linspace(0, 10, 21)\n",
        "signal = np.cos(time)\n",
        "\n",
        "plt.plot(signal)"
      ],
      "execution_count": null,
      "outputs": [
        {
          "data": {
            "text/plain": [
              "[<matplotlib.lines.Line2D at 0x116442970>]"
            ]
          },
          "execution_count": 25,
          "metadata": {},
          "output_type": "execute_result"
        },
        {
          "data": {
            "image/png": "[encoded data removed]",
            "text/plain": [
              "<Figure size 432x288 with 1 Axes>"
            ]
          },
          "metadata": {
            "needs_background": "light"
          },
          "output_type": "display_data"
        }
      ]
    },
    {
      "cell_type": "markdown",
      "metadata": {
        "id": "gXXb1x_pR7q-"
      },
      "source": [
        "We now seek to convolve this signal vector with the triangular shape given as `g_vec` below:"
      ]
    },
    {
      "cell_type": "code",
      "metadata": {
        "id": "Vxu5YaQmR7q-",
        "outputId": "bd026076-22d5-4d26-b8af-aebbbbfd2774"
      },
      "source": [
        "g_vec = np.array([0.0, 0.1, 0.2, 0.3, 0.4, 0.5, 0.6, 0.7, 0.8, 0.9, 1.0, 0.9, 0.8, 0.7, 0.6, 0.5, 0.4, 0.3, 0.2, 0.1, 0.0])\n",
        "\n",
        "plt.plot(g_vec)"
      ],
      "execution_count": null,
      "outputs": [
        {
          "data": {
            "text/plain": [
              "[<matplotlib.lines.Line2D at 0x116529190>]"
            ]
          },
          "execution_count": 26,
          "metadata": {},
          "output_type": "execute_result"
        },
        {
          "data": {
            "image/png": "[encoded data removed]",
            "text/plain": [
              "<Figure size 432x288 with 1 Axes>"
            ]
          },
          "metadata": {
            "needs_background": "light"
          },
          "output_type": "display_data"
        }
      ]
    },
    {
      "cell_type": "markdown",
      "metadata": {
        "id": "_h80JgCgR7q-"
      },
      "source": [
        "Construct the Toepliz matrix representation of `g_vec` and store it in the variable `g_mat`. Calculate the convolution of the signal and detector by computing the product of `g_mat` and `signal`. Plot the resulting convolution against the domain `time`.\n",
        "\n",
        "**Hint:** `g_mat` will be a matrix with `len(signal) + len(g_vec) - 1` rows and `len(signal)` columns. The first `len(g_vec)` entries in the first column will just be the entries of `g_vec`, the remainder in the column will be zeros. You can construct the Toepliz matrix by shifting these values down in index with each consecutive column, until the `len(g_vec)` column is reached."
      ]
    },
    {
      "cell_type": "code",
      "metadata": {
        "id": "3wfwX33NR7q-",
        "outputId": "9065f051-0a86-4729-e394-0239d999e1c1"
      },
      "source": [
        "g_mat = np.zeros((len(signal) + len(g_vec) - 1, len(signal)))\n",
        "\n",
        "for i in range(len(signal) + len(g_vec) - 1):\n",
        "    for j in range(len(signal)):\n",
        "        if i < j:\n",
        "            g_mat[i][j] = ... # complete this part\n",
        "        elif i > len(g_vec)+j-1:\n",
        "            g_mat[i][j] = ... # complete this part\n",
        "        else:\n",
        "            g_mat[i][j] = ... # complete this part\n",
        "        \n",
        "# You can check what g_mat looks like by running the code below:\n",
        "# print(g_mat)\n",
        "\n",
        "# Calculate the product of the matrix g_mat and the vector signal below:\n",
        "conv_s_g = ... # complete this part\n",
        "\n",
        "# You can see what your convoluted signal vector looks like by running the code below:\n",
        "# print(conv_s_g)\n",
        "\n",
        "plt.plot(conv_s_g)\n",
        "\n",
        "# Check that you correctly computed the convolution by running the code below:\n",
        "# conv_check = np.convolve(g_vec, signal)\n",
        "# plt.plot(conv_check)"
      ],
      "execution_count": null,
      "outputs": [
        {
          "data": {
            "text/plain": [
              "[<matplotlib.lines.Line2D at 0x116601640>]"
            ]
          },
          "execution_count": 27,
          "metadata": {},
          "output_type": "execute_result"
        },
        {
          "data": {
            "image/png": "[encoded data removed]",
            "text/plain": [
              "<Figure size 432x288 with 1 Axes>"
            ]
          },
          "metadata": {
            "needs_background": "light"
          },
          "output_type": "display_data"
        }
      ]
    }
  ]
}