{
  "nbformat": 4,
  "nbformat_minor": 0,
  "metadata": {
    "colab": {
      "name": "ECE3_HW5.ipynb",
      "provenance": [],
      "collapsed_sections": [
        "TUU2mXLwYe29"
      ]
    },
    "kernelspec": {
      "display_name": "Python 3",
      "language": "python",
      "name": "python3"
    },
    "language_info": {
      "codemirror_mode": {
        "name": "ipython",
        "version": 3
      },
      "file_extension": ".py",
      "mimetype": "text/x-python",
      "name": "python",
      "nbconvert_exporter": "python",
      "pygments_lexer": "ipython3",
      "version": "3.8.8"
    }
  },
  "cells": [
    {
      "cell_type": "markdown",
      "metadata": {
        "id": "XJcXzC1IYiDX"
      },
      "source": [
        "# ECE 3 : Homework 5"
      ]
    },
    {
      "cell_type": "markdown",
      "metadata": {
        "id": "TUU2mXLwYe29"
      },
      "source": [
        "## Instructions\n",
        "\n",
        "To get started, you should go through the following steps.\n",
        "- Rename this jupyter notebook by adding your name: e.g. `ECE3_HW5_<LastName-FirstName>.ipynb`.\n",
        "- Complete all the exercises by directly editing your notebook.\n",
        "- Make sure that the coding portions run without errors."
      ]
    },
    {
      "cell_type": "markdown",
      "metadata": {
        "id": "LEzl8zxLlDmo"
      },
      "source": [
        "## Problem 1 - Linear Equations (Total Points 20 = 4 + 8 + 8)"
      ]
    },
    {
      "cell_type": "markdown",
      "metadata": {
        "id": "Njx0q7mv6iy0"
      },
      "source": [
        "\n",
        "You and your friend are shopping at the farmer's market. You spent $19$ dollars on $2$ pounds of plums and $3$ pounds of peaches. Your friend spent $23$ dollars on $4$ pounds of plums and $1$ pound of peaches. How much does plums and peaches cost per pound?\n"
      ]
    },
    {
      "cell_type": "markdown",
      "metadata": {
        "id": "f1z01i1un9Cm"
      },
      "source": [
        "\n",
        "(a) Let $x_1$ represents price of plums per pound and $x_2$ represent price of peaches per pound. Set up the equation for this problem as Ax = b, where $x = \\begin{bmatrix}\n",
        "x_1 \\\\\n",
        "x_2\\end{bmatrix}$.\n",
        "\n",
        "(b) Solve manually (Please show your steps).\n",
        "\n",
        "(c) Use python verify result by using numpy.linalg.solve, fill blanks in code.\n",
        "\n"
      ]
    },
    {
      "cell_type": "markdown",
      "metadata": {
        "id": "l0wEuwqLMaTR"
      },
      "source": [
        "**Write your answers for part a and b here**"
      ]
    },
    {
      "cell_type": "markdown",
      "metadata": {
        "id": "_f5NcWy-PL-z"
      },
      "source": [
        "**Fill in the blank in the code cell below for part c**"
      ]
    },
    {
      "cell_type": "code",
      "metadata": {
        "id": "ol6mSvTNOgx8"
      },
      "source": [
        "import numpy as np\n",
        "A = ...\n",
        "b = ...\n",
        "x = np.linalg.solve(..., ...)\n",
        "print(\"x1 is\", x[0], \"and x2 is\", x[1])"
      ],
      "execution_count": null,
      "outputs": []
    },
    {
      "cell_type": "markdown",
      "metadata": {
        "id": "w3QXq3yS9MWh"
      },
      "source": [
        "## Problem 3 - Linear Dynamical System (Total Points 40 = 10 + 30)"
      ]
    },
    {
      "cell_type": "markdown",
      "metadata": {
        "id": "_vnIsftE9S4i"
      },
      "source": [
        "A plane is heading to LAX with constant acceleration of $30$ $km/h^2$. At time $t=0$, the plane stays still at position $0$ $km$. The state of the plane is measured every hour. (In other words, there is an hour between $t$ and $t+1$). The state vector $x$ has $3$ states. $x = \\begin{bmatrix}\n",
        "x_1 \\\\\n",
        "x_2 \\\\\n",
        "x_3\\end{bmatrix} = \\begin{bmatrix}\n",
        "position \\\\\n",
        "velocity \\\\\n",
        "acceleration\\end{bmatrix}$.\n",
        "\n",
        "For motion with constant acceleration, the velocity $v$ of the object at time $t_2$ is calculated using equation $v_{t_2} = v_{t_1} + a(t_2 - t_1)$. The position $x$ of the object at time $t_2$ is calculated using equation $x_{t_2} = x_{t_1} + v_{t_1}(t_2 - t_1) + \\frac{1}{2}a(t_2 - t_1)^2$.\n",
        "\n",
        "a) Model the problem as a linear dynamical system.\n",
        "\n",
        "b) Use python to simulate the state vector for $10$ hours."
      ]
    },
    {
      "cell_type": "markdown",
      "metadata": {
        "id": "gOxvYYDhDQi0"
      },
      "source": [
        "**Write your answers for part a here (This is a word question)**\n"
      ]
    },
    {
      "cell_type": "markdown",
      "metadata": {
        "id": "vMK5Qol-ER1I"
      },
      "source": [
        "**Fill in the blank in the code cell below for part b**"
      ]
    },
    {
      "cell_type": "code",
      "metadata": {
        "id": "lHLlnCYQEosW",
        "scrolled": true
      },
      "source": [
        "import matplotlib.pyplot as plt\n",
        "import numpy as np\n",
        "\n",
        "x0 = ...\n",
        "A = ...\n",
        "states = np.zeros((11,3))\n",
        "states[0] = x0\n",
        "\n",
        "# Use for loop to calculate x_t\n",
        "for t in range(1,11):\n",
        "  ...\n",
        "\n",
        "# Plotting\n",
        "times = np.arange(0, 11, 1)\n",
        "plt.plot(times, ..., color='r', label='Plane Position')\n",
        "plt.plot(times, ..., color='g', label='Plane Velocity')\n",
        "plt.plot(times, ..., color='b', label='Plane Acceleration')\n",
        "\n",
        "# Naming the x-axis, y-axis and the whole graph\n",
        "plt.xlabel(\"Time\")\n",
        "plt.ylabel(\"State Vector\")\n",
        "plt.title(\"State Trajectory of the Plane\")\n",
        "  \n",
        "# Adding legend\n",
        "plt.legend()\n",
        "  \n",
        "# To load the display window\n",
        "plt.show()\n"
      ],
      "execution_count": null,
      "outputs": []
    },
    {
      "cell_type": "markdown",
      "metadata": {
        "id": "RO972SlpR7q9"
      },
      "source": [
        "# Problem 3 - Discrete Convolution with Toepliz Matrix (Total Points: 40)\n",
        "\n",
        "We will now explore convolution via the Toepliz matrix.\n",
        "\n",
        "Consider the sinusoid signal defined below in the variable `signal`. We seek to convolve it with a triangle. You can think of this as passing a sinusoidal signal through a detector or imaging system with a triangular \"point spread function\" (PSF). What we measure from the device (the 'image' or 'detection') is the convolution of the signal and the PSF."
      ]
    },
    {
      "cell_type": "code",
      "metadata": {
        "id": "dSoyiFLbR7q9"
      },
      "source": [
        "import numpy as np\n",
        "import matplotlib.pyplot as plt\n",
        "\n",
        "time = np.linspace(0, 10, 21)\n",
        "signal = np.cos(time)\n",
        "\n",
        "plt.plot(signal)"
      ],
      "execution_count": null,
      "outputs": []
    },
    {
      "cell_type": "markdown",
      "metadata": {
        "id": "gXXb1x_pR7q-"
      },
      "source": [
        "We now seek to convolve this signal vector with the triangular shape given as `g_vec` below:"
      ]
    },
    {
      "cell_type": "code",
      "metadata": {
        "id": "Vxu5YaQmR7q-"
      },
      "source": [
        "g_vec = np.array([0.0, 0.1, 0.2, 0.3, 0.4, 0.5, 0.6, 0.7, 0.8, 0.9, 1.0, 0.9, 0.8, 0.7, 0.6, 0.5, 0.4, 0.3, 0.2, 0.1, 0.0])\n",
        "\n",
        "plt.plot(g_vec)"
      ],
      "execution_count": null,
      "outputs": []
    },
    {
      "cell_type": "markdown",
      "metadata": {
        "id": "_h80JgCgR7q-"
      },
      "source": [
        "Construct the Toepliz matrix representation of `g_vec` and store it in the variable `g_mat`. Calculate the convolution of the signal and detector by computing the product of `g_mat` and `signal`. Plot the resulting convolution against the domain `time`.\n",
        "\n",
        "**Hint:** `g_mat` will be a matrix with `len(signal) + len(g_vec) - 1` rows and `len(signal)` columns. The first `len(g_vec)` entries in the first column will just be the entries of `g_vec`, the remainder in the column will be zeros. You can construct the Toepliz matrix by shifting these values down in index with each consecutive column, until the `len(g_vec)` column is reached."
      ]
    },
    {
      "cell_type": "code",
      "metadata": {
        "id": "3wfwX33NR7q-"
      },
      "source": [
        "g_mat = np.zeros((len(signal) + len(g_vec) - 1, len(signal)))\n",
        "\n",
        "for i in range(len(signal) + len(g_vec) - 1):\n",
        "    for j in range(len(signal)):\n",
        "        if i < j:\n",
        "            g_mat[i][j] = ... # complete this part\n",
        "        elif i > len(g_vec)+j-1:\n",
        "            g_mat[i][j] = ... # complete this part\n",
        "        else:\n",
        "            g_mat[i][j] = ... # complete this part\n",
        "        \n",
        "# You can check what g_mat looks like by running the code below:\n",
        "# print(g_mat)\n",
        "\n",
        "# Calculate the product of the matrix g_mat and the vector signal below:\n",
        "conv_s_g = ... # complete this part\n",
        "\n",
        "# You can see what your convoluted signal vector looks like by running the code below:\n",
        "# print(conv_s_g)\n",
        "\n",
        "plt.plot(conv_s_g)\n",
        "\n",
        "# Check that you correctly computed the convolution by running the code below:\n",
        "# conv_check = np.convolve(g_vec, signal)\n",
        "# plt.plot(conv_check)"
      ],
      "execution_count": null,
      "outputs": []
    }
  ]
}