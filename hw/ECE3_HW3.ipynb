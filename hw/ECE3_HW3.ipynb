{
 "nbformat": 4,
 "nbformat_minor": 0,
 "metadata": {
  "colab": {
   "name": "ECE3_HW3.ipynb",
   "provenance": [],
   "collapsed_sections": [
    "TUU2mXLwYe29",
    "OpTymyvmySjt",
    "uFRPUAvE2SMH",
    "8r6wwj--qM_U",
    "LEzl8zxLlDmo"
   ]
  },
  "kernelspec": {
   "name": "python3",
   "display_name": "Python 3"
  },
  "language_info": {
   "name": "python"
  }
 },
 "cells": [
  {
   "cell_type": "markdown",
   "metadata": {
    "id": "XJcXzC1IYiDX"
   },
   "source": [
    "# ECE 3 : Homework 3"
   ]
  },
  {
   "cell_type": "markdown",
   "metadata": {
    "id": "TUU2mXLwYe29"
   },
   "source": [
    "## Instructions\n",
    "\n",
    "To get started, you should go through the following steps.\n",
    "- Rename this jupyter notebook by adding your name: e.g. `ECE3_HW3_<your-name>.ipynb`.\n",
    "- Complete all the exercises by directly editing your notebook.\n",
    "- Make sure that the coding portions run without errors."
   ]
  },
  {
   "cell_type": "markdown",
   "metadata": {
    "id": "k_6HcvSUj9xb"
   },
   "source": [
    "## Problem 1 - Clustering with k-means algorithm (Total points 30: 10 + 5 + 10 + 5)\n",
    "\n",
    "\n"
   ]
  },
  {
   "cell_type": "markdown",
   "metadata": {
    "id": "6NEc2O_joHez"
   },
   "source": [
    "For this exercise we will use the \"Digits\" dataset from the scikit-learn package. \n",
    "\n",
    "The following chunk of code loads the dataset and prints a full description of it. Run it and carefully go through the description.\n"
   ]
  },
  {
   "cell_type": "code",
   "metadata": {
    "colab": {
     "base_uri": "https://localhost:8080/"
    },
    "id": "EAnbXz7_n8GK",
    "outputId": "a23967e0-d9a5-41b5-b172-c387f0b2819f"
   },
   "source": [
    "import numpy as np\n",
    "from sklearn.datasets import load_digits\n",
    "\n",
    "dataset = load_digits()\n",
    "print(dataset.DESCR)"
   ],
   "execution_count": null,
   "outputs": []
  },
  {
   "cell_type": "markdown",
   "metadata": {
    "id": "PR4yx9Mpor_8"
   },
   "source": [
    "#### (a) The dataset contains 1797 images of handwritten digits (the description says that the number of instances is 5620 but that's a mistake). Each image has resolution 8x8 pixels. Here the images have been reshaped to vectors of size 64x1. Confirm this by running the following chunk of code."
   ]
  },
  {
   "cell_type": "code",
   "metadata": {
    "colab": {
     "base_uri": "https://localhost:8080/"
    },
    "id": "MroaPJTnoUlo",
    "outputId": "15abc623-9ba6-4756-9940-37ff87f35016"
   },
   "source": [
    "X = ... # images go here\n",
    "y = ... # labels go here\n",
    "\n",
    "print(\"The images are inlcuded in a matrix of shape:\", ...)\n",
    "print(\"The labels are included in a vector of length:\", ...)"
   ],
   "execution_count": null,
   "outputs": []
  },
  {
   "cell_type": "markdown",
   "metadata": {
    "id": "AT1q6ua5MZx5"
   },
   "source": [
    "#### (b) Let's take a look at our data and labels, display the 11th and the 231th images and their respective labels:"
   ]
  },
  {
   "cell_type": "code",
   "metadata": {
    "id": "KvxF5luAMZMf"
   },
   "source": [
    "import matplotlib.pyplot as plt\n",
    "\n",
    "# Display the first digit\n",
    "plt.figure(1, figsize=(3, 3))\n",
    "\n",
    "# we have saved the images as 64x1 vectors, for the purpose of plotting we will\n",
    "# convert them to size 8x8. For the rest of the questions just use array X\n",
    "images = X.reshape(-1, 8, 8)\n",
    "\n",
    "print('The 11th image is one of digit {}:'.format(...))\n",
    "plt.imshow(..., cmap=plt.cm.gray_r, interpolation='nearest')\n",
    "plt.show()\n",
    "\n",
    "print('The 231th image is one of digit {}:'.format(...))\n",
    "plt.imshow(..., cmap=plt.cm.gray_r, interpolation='nearest')\n",
    "plt.show()"
   ],
   "execution_count": null,
   "outputs": []
  },
  {
   "cell_type": "markdown",
   "metadata": {
    "id": "g8fAJ8jfqOGg"
   },
   "source": [
    "In this exercise we will ignore the existence of the labels and we will assign our images to different clusters based only on the images themselves.\n",
    "\n",
    "This is called **clustering** and it's an **unsupervised** learning task, as it's done with no knowledge of the true labels. In contrast, both **classification** and **regression** are **supervised** learning tasks, as to train our models we need to know the true labels/response variable of the training data."
   ]
  },
  {
   "cell_type": "markdown",
   "metadata": {
    "id": "J2BbFGhJtKUJ"
   },
   "source": [
    "### The K-means algorithm\n",
    "\n",
    "k-means is an algorithm that performs clustering. k is a parameter that indicates the number of clusters. After we choose what k to run the algorithm for, the algorithm proceeds as follows:\n",
    "\n",
    "1.  We pick k points from the dataset at random. We call these points the \"centroids\" or the \"representatives \"of the clusters.\n",
    "2.  For each point in the dataset we calculate its distance to the k centroids and we assign to the cluster with the closest centroid.\n",
    "3. For each cluster, we calculate a new centroid as the mean of its points. These new centroids don't have to belong to the dataset.\n",
    "4. We repeat steps 2 & 3 until the centroid positions don't change.\n",
    "\n",
    "In our example, we know that we're dealing with digits so we will set k=10."
   ]
  },
  {
   "cell_type": "markdown",
   "metadata": {
    "id": "OpTymyvmySjt"
   },
   "source": [
    "#### (c) Use sklearn's KMeans class to perform K-means clustering on the digits dataset. Store the result in a NumPy vector."
   ]
  },
  {
   "cell_type": "code",
   "metadata": {
    "id": "dOQszRx7qNjd"
   },
   "source": [
    "from sklearn.cluster import KMeans\n",
    "\n",
    "# Type your solution below\n",
    "\n",
    "kmeans = KMeans(..., random_state=0)\n",
    "kmeans.fit(...)\n",
    "y_pred = kmeans.predict(...)"
   ],
   "execution_count": null,
   "outputs": []
  },
  {
   "cell_type": "markdown",
   "metadata": {
    "id": "uFRPUAvE2SMH"
   },
   "source": [
    "### Clustering performance metrics\n",
    "\n",
    "After performing clustering, you have assigned a label to each point in the dataset. However, this isn't necessarily the same label as the true label. Here for example, you may have correctly grouped all zeros to the same cluster but assigned this cluster the label 5. Thus, accuracy (as it was defined in Problem 1) it's not an informative metric for the performance of clustering algorithms.\n",
    "\n",
    "An appropriate metric for clustering performance is the **Adjusted Rand index**, which is a function that measures the similarity between the true and the predicted label assignments, ignoring permutations."
   ]
  },
  {
   "cell_type": "markdown",
   "metadata": {
    "id": "8r6wwj--qM_U"
   },
   "source": [
    "#### (d) Calculate the algorithm's adjusted rand index using sklearn's built-in method and print out the result."
   ]
  },
  {
   "cell_type": "code",
   "metadata": {
    "id": "hKON7VVLseKw"
   },
   "source": [
    "from sklearn.metrics import adjusted_rand_score\n",
    "\n",
    "# type your solution below\n",
    "\n",
    "ari = adjusted_rand_score(...) \n",
    "print(ari)"
   ],
   "execution_count": null,
   "outputs": []
  },
  {
   "cell_type": "markdown",
   "metadata": {
    "id": "LEzl8zxLlDmo"
   },
   "source": [
    "## Problem 2 - Matrix Norm and Distance (Total points: $20 = 5+8+2+5$)"
   ]
  },
  {
   "cell_type": "markdown",
   "metadata": {
    "id": "Njx0q7mv6iy0"
   },
   "source": [
    "Let $A=\\begin{bmatrix}\n",
    "2&3&1\\\\\n",
    "3&1&5\n",
    "\\end{bmatrix}$ and \n",
    "$B=\\begin{bmatrix}\n",
    "1&3&2\\\\\n",
    "3&0&4\n",
    "\\end{bmatrix}$."
   ]
  },
  {
   "cell_type": "markdown",
   "metadata": {
    "id": "f1z01i1un9Cm"
   },
   "source": [
    "\n",
    " a) Calculate the norm of matrix $A$. ***Note: If you are using matlab to verify your answer, use norm(A,'fro') instead of norm(A).***\n",
    "\n",
    " b) Let us multiply matrix $A$ by a scalar 2. Calculate $2A$ and the norm of matrix $2A$ and $\\frac{||2A||}{||A||}$.\n",
    "\n",
    " c) For a general scalar $k$, write an expression for $||kA||$ that contains only $k$ and $||A||$.\n",
    "\n",
    " d) Calculate the distance between matrix $A$ and $B$."
   ]
  },
  {
   "cell_type": "markdown",
   "metadata": {
    "id": "l0wEuwqLMaTR"
   },
   "source": [
    "**Write your answer here**"
   ]
  },
  {
   "cell_type": "markdown",
   "metadata": {
    "id": "pFgoT3gtDLtA"
   },
   "source": [
    "## Problem 3 - Matrix Vector Multiplication (Total points: $20 = 5+5+5+5$)"
   ]
  },
  {
   "cell_type": "markdown",
   "metadata": {
    "id": "pYmUaTF2DXiy"
   },
   "source": [
    "a) Let $I_2$ denote the 2 by 2 identity matrix. What should be the shape of $x$ in order for $I_2x$ to be computable?\n",
    "\n",
    "b) $I_2$ contains $2$ column vectors $e_1,e_2$. Let $x$ be a $2$-vector $\\begin{bmatrix}\n",
    "x_1\\\\\n",
    "x_2\n",
    "\\end{bmatrix}$. Rewrite $Ax$ in the form of a linear combination of $e_1,e_2$.\n",
    "\n",
    "c) Part b tells us that $I_2$ is a basis for $R^2$ because any $2$-vector can be written as a linear combination of the column vectors of $I_2$. However, $I_2$ is not the only basis for $R^2$. Prove that $B = \\begin{bmatrix}\n",
    "1&1\\\\\n",
    "0&1\n",
    "\\end{bmatrix}$ is a basis for $R^2$ by showing that the columns of $B$ are linearly independent.\n",
    "\n",
    "d) Normally, the $2$-vector we write down use basis $I_2$. For example, $b = \\begin{bmatrix}3\\\\2\\end{bmatrix} = 3\\begin{bmatrix}1\\\\0\\end{bmatrix} + 2\\begin{bmatrix}0\\\\1\\end{bmatrix}$ uses basis $I_2$. What is vector $b$ using basis $B$? In other words, you are trying to find scalar $z_1,z_2$ such that $z_1\\begin{bmatrix}1\\\\0\\end{bmatrix} + z_2\\begin{bmatrix}1\\\\1\\end{bmatrix} = \\begin{bmatrix}3\\\\2\\end{bmatrix}$, where vector $z = \\begin{bmatrix}z_1\\\\z_2\\end{bmatrix}$ is how you would write $b$ using basis $B$."
   ]
  },
  {
   "cell_type": "markdown",
   "metadata": {
    "id": "lKp7wR6PMEjm"
   },
   "source": [
    "**Write your answer here**"
   ]
  }
 ]
}