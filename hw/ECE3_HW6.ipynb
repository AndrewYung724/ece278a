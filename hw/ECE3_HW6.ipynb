{
  "nbformat": 4,
  "nbformat_minor": 0,
  "metadata": {
    "colab": {
      "name": "ECE3_HW6.ipynb",
      "provenance": [],
      "collapsed_sections": []
    },
    "kernelspec": {
      "display_name": "Python 3",
      "language": "python",
      "name": "python3"
    },
    "language_info": {
      "codemirror_mode": {
        "name": "ipython",
        "version": 3
      },
      "file_extension": ".py",
      "mimetype": "text/x-python",
      "name": "python",
      "nbconvert_exporter": "python",
      "pygments_lexer": "ipython3",
      "version": "3.8.8"
    }
  },
  "cells": [
    {
      "cell_type": "markdown",
      "metadata": {
        "id": "XJcXzC1IYiDX"
      },
      "source": [
        "# ECE 3 : Homework 6"
      ]
    },
    {
      "cell_type": "markdown",
      "metadata": {
        "id": "TUU2mXLwYe29"
      },
      "source": [
        "## Instructions\n",
        "\n",
        "To get started, you should go through the following steps.\n",
        "- Rename this jupyter notebook by adding your name: e.g. `ECE3_HW6_<LastName-FirstName>.ipynb`.\n",
        "- Complete all the exercises by directly editing your notebook.\n",
        "- Make sure that the coding portions run without errors.\n",
        "- <font color='red'>Before starting the HW, read the definition about matrix inverse given below.</font>"
      ]
    },
    {
      "cell_type": "markdown",
      "metadata": {
        "id": "O8v5rrSf7e0J"
      },
      "source": [
        "# <font color='blue'>Matrix Inverse</font>\n",
        "**Definition**: If $A$ has a left inverse and a right inverse, they both are *unique* and *equal*. We then say that $A$ is invertible. $A^{-1}$ denotes the (unique) inverse of matrix $A$."
      ]
    },
    {
      "cell_type": "markdown",
      "metadata": {
        "id": "_2vxftv_V-31"
      },
      "source": [
        "## Problem 1 - 20 points\n",
        "\n",
        "a) Let us assume $A$ is an invertible matrix and $AB=AC$. Show that $B = C$. $[4]$\n",
        "\n",
        "b) Let us check if the same is true when $A$ is not invertible. Assume $A = \\begin{bmatrix}\n",
        "1 & 1 \\\\ \n",
        "1 & 1 \\\\\\end{bmatrix}$ and that $AB=AC$. Find two different matrices $B$ and $C$ such that $AB=AC$. $[4]$\n",
        "\n",
        "<font color='red'>You should **NOT** use Python for the following parts.</font>\n",
        "\n",
        "c) Let $M = \\begin{bmatrix}\n",
        "0 & 0 & 0 & 1\\\\ \n",
        "0 & 0 & 4 & 0\\\\ \n",
        "0 & 5 & 0 & 0\\\\ \n",
        "3 & 0 & 0 & 0\\\\\\end{bmatrix}$. This is called an **anti-diagonal** matrix. Is $M$ invertible ? Why or why not ? Find $M^{-1}$ if it exists. To receive *full credit*, you must justify your answer with an explanation. $[6]$\n",
        "\n",
        "d) Repeat part (c) for a **diagonal matrix** $G = \\begin{bmatrix}\n",
        "1 & 0 & 0 & 0\\\\ \n",
        "0 & 4 & 0 & 0\\\\ \n",
        "0 & 0 & 5 & 0\\\\ \n",
        "0 & 0 & 0 & 3\\\\\\end{bmatrix}$.$[6]$"
      ]
    },
    {
      "cell_type": "markdown",
      "metadata": {
        "id": "ooyVBRqs5cU9"
      },
      "source": [
        "Solution:"
      ]
    },
    {
      "cell_type": "markdown",
      "metadata": {
        "id": "FX6qKPnSixE5"
      },
      "source": [
        "## Problem 2 - 20 points\n",
        "\n",
        "<font color='red'>You should **NOT** use Python for this problem.</font>\n",
        "\n",
        "a) If $A$ and $B$ are invertible and their inverses are $A^{-1}$ and $B^{-1}$ respectively, prove that the inverse of $AB$ is $B^{-1}A^{-1}$. [3]\n",
        "\n",
        "b) Let $A$ and $B$ be square matrices, with $A$ being invertible. If you know that $C=AB$ is also invertible, find an expression for $A^{-1}$ that involves $B$ and $C^{-1}$. [3]\n",
        "\n",
        "c) Let $A$ be a square matrix. Suppose that for some nonzero vector $x$ it is $Ax = 0$. Prove that $A$ is not invertible. [3]\n",
        "\n",
        "d) If $B$ is the inverse of $A^2$, show that $AB$ is the inverse of $A$. [3] \n",
        "\n",
        "e) Let $A = \\begin{bmatrix}\n",
        "3 & 2 \\\\ \n",
        "-9 & -6 \\end{bmatrix}$ Is $A$ invertible? Why or why not? If yes, give $A^{-1}$. Show your work. [2]\n",
        "\n",
        "f) Let $A = \\begin{bmatrix}\n",
        "4 & 1 \\\\ \n",
        "7 & 3 \\end{bmatrix}$ Is $A$ invertible? Why or why not? If yes, give $A^{-1}$. Show your work. [2]\n",
        "\n",
        "g) Let $\\begin{bmatrix}\n",
        "4 & 6 \\\\ \n",
        "3 & 5 \\end{bmatrix}$\n",
        "$\\begin{bmatrix}\n",
        "x \\\\ \n",
        "y \\end{bmatrix}$ =\n",
        "$\\begin{bmatrix}\n",
        "1 \\\\ \n",
        "-1 \\end{bmatrix}$. Solve for $x$ and $y$, **using the inverse**. Show your work. [4]\n"
      ]
    },
    {
      "cell_type": "markdown",
      "metadata": {
        "id": "KQE1LABN5jJC"
      },
      "source": [
        "Solution:"
      ]
    },
    {
      "cell_type": "markdown",
      "metadata": {
        "id": "2F3PdHLOiz_N"
      },
      "source": [
        "## Problem 3 - 10 points"
      ]
    },
    {
      "cell_type": "markdown",
      "metadata": {
        "id": "QtovewUEi35w"
      },
      "source": [
        "**Bagels and Budget**\n",
        "\n",
        "One of the student dorm is planning to give out bagels every Monday to all its residents. As always, the management team needs to crunch some numbers in order to plan their budget. It is known that a cup of coffee together with a bagel costs \\$4. A potential supplier \"A\" mentions that they can cater 40 cups of coffee and 28 bagels at a total cost of \\$133. Another distributor agress to provide 30 bagels and 25 cups of coffee for a total of \\$114. Let the cost of one cup of coffee be $x$ and that of bagel be $y$. Find $x$ and $y$ for both vendors \"A\" and \"B\".\n",
        "\n",
        "Write a function `get_item_cost()` in Python which prints the value of $x$ and $y$. Do not forget to call the function at the end.\n",
        "\n",
        "<font color='red'>You should **NOT** use np.linalg.solve for this problem.</font>"
      ]
    },
    {
      "cell_type": "code",
      "metadata": {
        "id": "GcrneP_aojRm"
      },
      "source": [
        "# complete the code below\n",
        "\n",
        "\n",
        "\n",
        "def get_item_cost():\n",
        "  # your code goes here\n",
        "  \n",
        "\n",
        "\n",
        "\n",
        "\n",
        "\n",
        "# call the function get_item_cost()\n",
        "\n",
        "\n",
        "\n",
        "\n",
        "\n"
      ],
      "execution_count": null,
      "outputs": []
    }
  ]
}