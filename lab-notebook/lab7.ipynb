{
  "nbformat": 4,
  "nbformat_minor": 0,
  "metadata": {
    "colab": {
      "name": "lab7.ipynb",
      "provenance": [],
      "collapsed_sections": [
        "xDotduY070ba"
      ]
    },
    "kernelspec": {
      "name": "python3",
      "display_name": "Python 3"
    },
    "language_info": {
      "name": "python"
    }
  },
  "cells": [
    {
      "cell_type": "markdown",
      "metadata": {
        "id": "FJmCCVjpadTy"
      },
      "source": [
        "# ECE 3 - Lab 7"
      ]
    },
    {
      "cell_type": "markdown",
      "metadata": {
        "id": "elx4T-wCahcc"
      },
      "source": [
        "## Linear Equations\n",
        "\n",
        "$\\color{#EF5645}{\\text{Definition}}$: We say that the function $f:\\mathbb{R}^n \\rightarrow \\mathbb{R}^m$ satistifies the superposition property if, for all scalars $\\alpha, \\beta$ and all $n$-vectors $x, y$:\n",
        "\n",
        "$$f(\\alpha x + \\beta y) = \\alpha f(x) + \\beta f(y).$$\n",
        "\n",
        "$\\color{#EF5645}{\\text{Definition}}$: A function that satisfies superposition is called linear.\n",
        "\n",
        "$\\color{#6D7D33}{\\text{Proposition}}$: A function $f:\\mathbb{R}^n \\rightarrow \\mathbb{R}^m$ is linear if and only if, for all $n$-vector $x$, $f(x) = A x$ for some $m \\times n$ matrix $A$.\n",
        "\n"
      ]
    },
    {
      "cell_type": "markdown",
      "metadata": {
        "id": "r_Azv3DASxBJ"
      },
      "source": [
        "# Exercise 1"
      ]
    },
    {
      "cell_type": "code",
      "metadata": {
        "id": "KZRuibF_UHEm"
      },
      "source": [
        ""
      ],
      "execution_count": null,
      "outputs": []
    },
    {
      "cell_type": "markdown",
      "metadata": {
        "id": "MrMaH8IvxPnV"
      },
      "source": [
        "Consider a function $f:\\mathbb{R}^3 \\rightarrow \\mathbb{R}^3$ defined by:\n",
        "$$f\\left(\\begin{bmatrix}\n",
        "x_1 \\\\\n",
        "x_2 \\\\\n",
        "x_3\\end{bmatrix}\\right) = \\begin{bmatrix}\n",
        "4x_2 +x_3\\\\\n",
        "- x_1 + 5 x_2  \\\\\n",
        "2 x_3\\end{bmatrix}.$$\n",
        "Find matrix $A$ such that: $f(x) = Ax$ and use Python to verify.\n"
      ]
    },
    {
      "cell_type": "markdown",
      "metadata": {
        "id": "IateFFzKyRX1"
      },
      "source": [
        "### Answer:\n",
        "Replace each of the dot with a number\n",
        "$$A = \\begin{bmatrix}\n",
        "0  & 4&1  \\\\\n",
        "-1& 5& 0  \\\\\n",
        "0&0&2 \\end{bmatrix}.$$"
      ]
    },
    {
      "cell_type": "code",
      "metadata": {
        "id": "7Dj7ylANzNKD"
      },
      "source": [
        "# insert your code here"
      ],
      "execution_count": null,
      "outputs": []
    },
    {
      "cell_type": "markdown",
      "metadata": {
        "id": "PoQXcF6L1FNZ"
      },
      "source": [
        "$\\color{#EF5645}{\\text{Definition}}$: A function $f:\\mathbb{R}^n \\rightarrow \\mathbb{R}^m$ that is linear plus a constant is called affine. Its general form is:\n",
        "\n",
        "$$f(x) = Ax+b \\quad \\text{with $A$ an $m\\times n$ matrix and $b$ a $m$-vector}$$\n",
        "\n",
        "$\\color{#6D7D33}{\\text{Proposition}}$:\n",
        " A function $f:\\mathbb{R}^n \\rightarrow \\mathbb{R}^m$ is affine and obeys the superposition principle if and only if, for all scalars $\\alpha, \\beta$ with $\\alpha + \\beta = 1$ and all $n$-vectors $x, y$, we have:\n",
        "$$f(\\alpha x + \\beta y) = \\alpha f(x) + \\beta f(y).$$"
      ]
    },
    {
      "cell_type": "markdown",
      "metadata": {
        "id": "-f3rkxf4nlWi"
      },
      "source": [
        "$f(\\alpha x + \\beta y) = A (\\alpha x + \\beta y) + b  = A\\alpha x + A \\beta y + b$\n",
        "\n",
        "$\\alpha f(x) + \\beta f(y) = \\alpha ( Ax+b) + \\beta (Ay+b) = A \\alpha x + A \\beta y + (\\alpha + \\beta) b$ "
      ]
    },
    {
      "cell_type": "markdown",
      "metadata": {
        "id": "RgNfZKlUStaJ"
      },
      "source": [
        "# Exercise 2"
      ]
    },
    {
      "cell_type": "markdown",
      "metadata": {
        "id": "42fHqGZb1MWP"
      },
      "source": [
        "Why is the property $\\alpha + \\beta = 1$ important?\n",
        "\n"
      ]
    },
    {
      "cell_type": "markdown",
      "metadata": {
        "id": "HqW_HnI-1deq"
      },
      "source": [
        "### Write your answers below"
      ]
    },
    {
      "cell_type": "markdown",
      "metadata": {
        "id": "M9dqRhMFSrc4"
      },
      "source": [
        "# Exercise 3"
      ]
    },
    {
      "cell_type": "markdown",
      "metadata": {
        "id": "lI8WSRbU2qjI"
      },
      "source": [
        "In class you talked about this problem: \"An airplane travels 1200 miles in 4 hours with a tail wind. On the way back, the same trip takes 5 hours, now with a head wind (against the wind). What is the speed of the plane in still air, and what was the wind speed?\" and have the following equations: ($x_1$ denotes plane speed in still air, $x_2$ denotes wind speed). Solve this using Python."
      ]
    },
    {
      "cell_type": "code",
      "metadata": {
        "id": "0rXDBQq15HY5"
      },
      "source": [
        "# insert your code below\n",
        "\n",
        "x_1      x_2\n",
        "\n",
        "with the wind:   1*x_1 + 1*x_2  = 1200/4 = 300\n",
        "against the wind: 1*x_1 - 1*x_2 = 1200/5 = 240\n",
        "\n",
        "Ax = b\n",
        "\n",
        "A = np.array([[1 1],[1 -1]])\n",
        "b = np.array([[300],[240]])\n",
        "\n",
        "\n",
        "\n",
        "\n",
        "\n",
        "\n"
      ],
      "execution_count": null,
      "outputs": []
    },
    {
      "cell_type": "markdown",
      "metadata": {
        "id": "wdwliVdsal-y"
      },
      "source": [
        "## Linear Dynamical Systems\n",
        "\n",
        "$\\color{#EF5645}{\\text{Definition}}$: A linear dynamical system is a linear equation describing the evolution of a state over time, and written as:\n",
        "$$ x_{t+1} = A_t x_t \\quad t = 1, 2, ...$$\n",
        "where:\n",
        "- $A_t$ are $n \\times n$ dynamics matrices,\n",
        "- $(A_t)_{ij} (x_t)_j$ is contribution to $(x_{t+1})_i$ from $(x_t)_j$.\n",
        "\n",
        "The system is called time-invariant if $A_t = A$ does not depend on time."
      ]
    },
    {
      "cell_type": "markdown",
      "metadata": {
        "id": "MhN0LLNNSnL-"
      },
      "source": [
        "# Exercise 4"
      ]
    },
    {
      "cell_type": "markdown",
      "metadata": {
        "id": "TPaoWa8q7W1J"
      },
      "source": [
        "Exploring Nice property of Linear Time Invariant System.\n",
        "\n",
        "How would you find $x_{t+1}$ using only $A$ and $x_0$?"
      ]
    },
    {
      "cell_type": "markdown",
      "metadata": {
        "id": "xDotduY070ba"
      },
      "source": [
        "### Answers: \n",
        "\n",
        "$x_1 = Ax_0$,\n",
        "\n",
        "$x_2 = Ax_1 = AAx_0 = A^2x_0$,\n",
        "\n",
        "...\n",
        "\n",
        "$x_t = Ax_{t-1} = A^tx_0$,\n",
        "\n",
        "$x_{t+1} = Ax_t = AA^tx_0 = A^{t+1}x_0$."
      ]
    },
    {
      "cell_type": "markdown",
      "metadata": {
        "id": "WIIB8yHo82Wk"
      },
      "source": [
        "# SIR Model\n",
        "\n",
        "$\\color{#EF5645}{\\text{Definition}}$: The Susceptible-Infected-Recovered (SIR) model of an epidemic is a linear dynamical system defined on a $4$-vector state $x_t$, that gives the proportion of the population in $4$ infection states:\n",
        "- Susceptible: can acquire the disease the next day \n",
        "- Infected: have the disease \n",
        "- Recovered: had the disease, recovered, now immune \n",
        "- Deceased: had the disease, and unfortunately died "
      ]
    },
    {
      "cell_type": "markdown",
      "metadata": {
        "id": "M3S0qFzGSjfT"
      },
      "source": [
        "# Exercise 5"
      ]
    },
    {
      "cell_type": "markdown",
      "metadata": {
        "id": "wlcvqBev89GY"
      },
      "source": [
        "Use python to similate the linear dynamical system associated to this epidemic for $10$ days.\n",
        "- among susceptible population\n",
        "  - 10% acquires the disease \n",
        "  - 90% remain susceptible\n",
        "- among infected population\n",
        "  - 3% dies\n",
        "  - 40% recovers with immunity\n",
        "  - 7% recover without immunity (i.e., become susceptible) \n",
        "  - 50% remain infected\n",
        "- 100% of immune and dead people remain in their state"
      ]
    },
    {
      "cell_type": "code",
      "metadata": {
        "id": "FhuWornh9CjI"
      },
      "source": [
        "# insert your code below\n",
        "t_0 = [1 0 0 0]\n",
        "\n",
        "x_1 = Susceptible\n",
        "x_2 = Infected\n",
        "x_3 = recovered\n",
        "x_4 = deceased\n",
        "\n",
        "A = np.array([[0.9,0.07, 0, 0],\n",
        "              [0.1, 0.5, 0, 0],\n",
        "              [0, 0.4,1,0 ],\n",
        "              [0, 0.03, 0,1]\n",
        "])\n",
        "\n",
        "\n",
        "\n",
        "\n",
        "\n",
        "\n",
        "\n",
        "\n"
      ],
      "execution_count": null,
      "outputs": []
    },
    {
      "cell_type": "markdown",
      "metadata": {
        "id": "ZaJuFa0ES57L"
      },
      "source": [
        "# Exercise 6- Matrix Multiplication"
      ]
    },
    {
      "cell_type": "markdown",
      "metadata": {
        "id": "Y-y6yJipUkgS"
      },
      "source": [
        "### Part (a)\n",
        "\n",
        "Consider the matrices $\\textbf{A}_{n\\times m}$, $\\textbf{B}_{m\\times k}$, and $\\textbf{C}_{k\\times h}$. Dimensions (row $\\times$ column) have been selected such that matrix products are computable.\n",
        "\n",
        "\\\\\n",
        "\n",
        "$\\textbf{A} = \\begin{bmatrix}\n",
        "1 & 5 & 10 & 2 \\\\\n",
        "2 & 0 & 3 & 23 \\\\\n",
        "8 & 9 & 0 & 11\n",
        "\\end{bmatrix}$\n",
        "\n",
        "$\\textbf{B} = \\begin{bmatrix}\n",
        "10 & 6 \\\\\n",
        "25 & 1 \\\\\n",
        "13 & 0 \\\\\n",
        "14& 11 \n",
        "\\end{bmatrix}$\n",
        "\n",
        "$\\textbf{C} = \\begin{bmatrix}\n",
        "5 & 10 & 7 & 8 \\\\\n",
        "2 & 12 & 1 & 0\n",
        "\\end{bmatrix}$\n",
        "\n",
        "\\\\\n",
        "\n",
        "Compute the matrix product $\\textbf{ABC}$. You may perform $\\textbf{(AB)C}$ or $\\textbf{A(BC)}$ - either works (due to the Associative Property). **You may input the matrices as numpy arrays and perform the linear algebra that way if you prefer.**"
      ]
    },
    {
      "cell_type": "code",
      "metadata": {
        "id": "BNkJWvQLROZ-"
      },
      "source": [
        "# insert your matrix multiplication code below\n",
        "# your result should match the answer given next\n",
        "\n",
        "\n",
        "A @ B  / np.matmul(A,B)"
      ],
      "execution_count": null,
      "outputs": []
    },
    {
      "cell_type": "markdown",
      "metadata": {
        "id": "rUH4kdvTf0NI"
      },
      "source": [
        "\n",
        "\n",
        "**Answer:** $\\textbf{ABC} = \\begin{bmatrix}\n",
        "1531 & 3326 & 2084 & 2344 \\\\\n",
        "2435 & 6990 & 2932 & 3048 \\\\\n",
        "2651 & 6726 & 3391 & 3672\n",
        "\\end{bmatrix}$"
      ]
    },
    {
      "cell_type": "markdown",
      "metadata": {
        "id": "O-UvyEBmf051"
      },
      "source": [
        "### Part (b)\n",
        "\n",
        "Consider the matrices $\\textbf{A}_{nxm}$, $\\textbf{B}_{mxk}$, and $\\textbf{C}_{mxk}$. Dimensions have been selected so that the operation is computable. \n",
        "\n",
        "\\\\\n",
        "\n",
        "$\\textbf{A} = \\begin{bmatrix}\n",
        "1 & 5 & 10 & 2 \\\\\n",
        "2 & 0 & 3 & 23 \\\\\n",
        "8 & 9 & 0 & 11\n",
        "\\end{bmatrix}$\n",
        "\n",
        "$\\textbf{B} = \\begin{bmatrix}\n",
        "1 & 2 & 3 \\\\\n",
        "4 & 5 & 6 \\\\\n",
        "7 & 8 & 9 \\\\\n",
        "10& 11& 12 \n",
        "\\end{bmatrix}$\n",
        "\n",
        "$\\textbf{C} = \\begin{bmatrix}\n",
        "13& 14& 15 \\\\\n",
        "16& 17& 18 \\\\\n",
        "19& 20& 21 \\\\\n",
        "22& 23& 24 \n",
        "\\end{bmatrix}$\n",
        "\n",
        "\\\\\n",
        "\n",
        "Show the Distributive Property holds by computing $\\textbf{A(B + C)}$ and $\\textbf{AB + AC}$ and showing that they are equal, ie: $\\textbf{A(B + C)} = \\textbf{AB + AC}$. **You may input the matrices as numpy arrays and perform the linear algebra that way if you prefer.**"
      ]
    },
    {
      "cell_type": "code",
      "metadata": {
        "id": "ri7WPIBJRby-"
      },
      "source": [
        "# insert your code below for verifying the distributive property"
      ],
      "execution_count": null,
      "outputs": []
    },
    {
      "cell_type": "markdown",
      "metadata": {
        "id": "Pg2bK_HGhgUJ"
      },
      "source": [
        "\n",
        "\n",
        "**Answer:** $\\textbf{A(B+C)} = \\begin{bmatrix}\n",
        "438 & 474 & 510 \\\\\n",
        "842 & 898 & 954 \\\\\n",
        "644 & 700 & 756\n",
        "\\end{bmatrix}$"
      ]
    },
    {
      "cell_type": "markdown",
      "metadata": {
        "id": "_BIx4Keuhni5"
      },
      "source": [
        "### Part (c)\n",
        "\n",
        "Consider the matrices $\\textbf{A}_{n\\times m}$ and $\\textbf{B}_{m\\times k}$. Dimensions have been selected so that the operation is computable. \n",
        "\n",
        "$\\textbf{A} = \\begin{bmatrix}\n",
        "1 & 3 & 5 & 7 & 9 \\\\\n",
        "11& 13& 15& 17& 19\n",
        "\\end{bmatrix}$\n",
        "\n",
        "$\\textbf{B} = \\begin{bmatrix}\n",
        "2 & 4 & 6 & 8 \\\\\n",
        "10& 12& 14& 16\\\\\n",
        "18& 20& 22& 24\\\\\n",
        "26& 28& 30& 32\\\\\n",
        "34& 36& 38& 40\n",
        "\\end{bmatrix}$\n",
        "\n",
        "\\\\\n",
        "\n",
        "Show that the property $\\textbf{(AB)}^T = \\textbf{(B}^T\\textbf{A}^T\\textbf{)}$ holds by computing $\\textbf{(AB)}^T$ and $\\textbf{(B}^T\\textbf{A}^T\\textbf{)}$ and showing they are equal. **You may input the matrices as numpy arrays and perform the linear algebra that way if you prefer.**"
      ]
    },
    {
      "cell_type": "code",
      "metadata": {
        "id": "Z2e8Rk6eRrr6"
      },
      "source": [
        "# insert your code below for verifying the above property"
      ],
      "execution_count": null,
      "outputs": []
    },
    {
      "cell_type": "markdown",
      "metadata": {
        "id": "98Z-NtbVjllX"
      },
      "source": [
        "\n",
        "**Answer:** $(\\textbf{AB})^T = \\begin{bmatrix}\n",
        "610 & 1510\\\\\n",
        "660 & 1660\\\\\n",
        "710 & 1810\\\\\n",
        "760 & 1960\n",
        "\\end{bmatrix}$"
      ]
    }
  ]
}