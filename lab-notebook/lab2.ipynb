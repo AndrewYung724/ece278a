{
 "cells": [
  {
   "cell_type": "markdown",
   "id": "342e4b36",
   "metadata": {},
   "source": [
    "# ECE-3 Lab 2"
   ]
  },
  {
   "cell_type": "markdown",
   "id": "53d2499e",
   "metadata": {},
   "source": [
    "## Contents\n",
    "1. [Vectors](#Vectors)\n",
    "2. [Linear Functions](#Linear-Functions)\n",
    "3. [Norms](#Norms)\n",
    "4. [Distance](#Distance)"
   ]
  },
  {
   "cell_type": "markdown",
   "id": "89db74b1",
   "metadata": {},
   "source": [
    "## Vectors"
   ]
  },
  {
   "cell_type": "markdown",
   "id": "cebbd06b",
   "metadata": {},
   "source": [
    "- $\\color{blue}{\\text{Definition }}$ An ordered list of numbers, similar to arrays in Python.\n",
    "\n",
    "- We say a **n-vector** has a total of *n* *elements/components*.\n",
    "- $\\color{blue}{\\text{NOTE }}$ Indexes run from $0$ to $n-1$.\n",
    "- Example :\n",
    "$$A = \\begin{bmatrix}\n",
    "    -6.9 \\\\\n",
    "    -5 \\\\\n",
    "    1.2 \\\\\n",
    "    -9.6\n",
    "\\end{bmatrix}\\:\\:\\:\n",
    "B = \\begin{bmatrix}\n",
    "    -6.9 ,-5, 1.2, -9.6\n",
    "\\end{bmatrix}$$\n",
    "\n",
    "$\\verb|Code|$\n",
    "\n",
    "```python\n",
    "import numpy as np\n",
    "\n",
    "A = np.array([[-6.9],\n",
    "                [-5],\n",
    "                [1.2],\n",
    "                [-9.6]])\n",
    "print(A)\n",
    "print(A.shape)\n",
    "\n",
    "B = np.array([-6.9,-5,1.2,-9.6])\n",
    "print(B)\n",
    "print(B.shape)\n",
    "          \n",
    "\n",
    "```"
   ]
  },
  {
   "cell_type": "code",
   "execution_count": null,
   "id": "6983279c",
   "metadata": {},
   "outputs": [],
   "source": [
    "import numpy as np\n",
    "\n",
    "A = np.array([[-6.9],\n",
    "                [-5],\n",
    "                [1.2],\n",
    "                [-9.6]])\n",
    "print(A)\n",
    "print(A.shape)\n",
    "\n",
    "B = np.array([-6.9,-5,1.2,-9.6])\n",
    "print(B)\n",
    "print(B.shape)"
   ]
  },
  {
   "cell_type": "markdown",
   "id": "b00c80b1",
   "metadata": {},
   "source": [
    "$\\color{blue}{\\text{NOTE }}$\n",
    "\n",
    "`C=A` where both `C`,`A` are both numpy arrays merely creates a reference to original array `A`. Changes made to A thereafter **DO** show up in `C` as well."
   ]
  },
  {
   "cell_type": "code",
   "execution_count": null,
   "id": "90bf1fc4",
   "metadata": {},
   "outputs": [],
   "source": [
    "C = A  # just creates a reference to A, DOES NOT creates a copy\n",
    "print('Before making any change to A')\n",
    "print(C)\n",
    "A[2] = 0\n",
    "print(\"After making a change to A\")\n",
    "print(C) #notice the changes propagate to A as well\n"
   ]
  },
  {
   "cell_type": "markdown",
   "id": "357290d6",
   "metadata": {},
   "source": [
    "$\\color{#EF5645}{\\text{Block/Stacked Vectors}}$\n",
    "$$P = \\begin{bmatrix}\n",
    "    1, 2, 3, 4\n",
    "\\end{bmatrix}$$\n",
    "$$Q = \\begin{bmatrix}\n",
    "    5, 6, 7, 8\n",
    "\\end{bmatrix}$$\n",
    "\n",
    "$$C = \\begin{bmatrix}\n",
    "    1, 2, 3, 4\\\\\n",
    "    5, 6, 7, 8\n",
    "\\end{bmatrix}$$\n",
    "\n",
    "$$D = \\begin{bmatrix}\n",
    "    1, 2, 3, 4, 5, 6, 7, 8\n",
    "\\end{bmatrix}$$\n",
    "\n",
    "\n",
    "\n",
    "$\\verb|Code|$\n",
    "```python\n",
    "P = np.array([1,2,3,4])\n",
    "Q = np.array([5,6,7,8])\n",
    "C = np.concatenate([[P],[Q]]) #vertical\n",
    "D = np.concatenate([P,Q])     #horizontal\n",
    "```\n",
    "\n",
    "$\\color{#EF5645}{\\text{Ones Vector}}$\n",
    "$$A = \\begin{bmatrix}\n",
    "    1\\: 1\\: 1\\\\\n",
    "    1\\: 1\\: 1\\\\\n",
    "\\end{bmatrix}$$\n",
    "\n",
    "```python\n",
    "A = np.ones((2,3))          \n",
    "```\n",
    "\n",
    "$\\color{#EF5645}{\\text{Zero Vector}}$\n",
    "$$B = \\begin{bmatrix}\n",
    "    0\\: 0\\: 0\\: 0\\\\\n",
    "    0\\: 0\\: 0\\: 0\\\\\n",
    "    0\\: 0\\: 0\\: 0\\\\\n",
    "\\end{bmatrix}$$\n",
    "\n",
    "```python\n",
    "B = np.zeros((3,4))          \n",
    "```\n"
   ]
  },
  {
   "cell_type": "code",
   "execution_count": null,
   "id": "7f5d8d88",
   "metadata": {},
   "outputs": [],
   "source": [
    "# Code demonstrating ones and zeros vectors\n",
    "E = np.ones((3,4))\n",
    "F = np.zeros((3,4))\n",
    "P = np.array([1,2,3,4])\n",
    "Q = np.array([5,6,7,8])\n",
    "C = np.concatenate([[P],[Q]])\n",
    "D = np.concatenate([P,Q])\n",
    "print(E)\n",
    "print(F)\n",
    "print(C)\n",
    "print(D)"
   ]
  },
  {
   "cell_type": "markdown",
   "id": "ada0d6b4",
   "metadata": {},
   "source": [
    "$\\color{#EF5645}{\\text{Inner Product}}$"
   ]
  },
  {
   "cell_type": "markdown",
   "id": "f340ce6d",
   "metadata": {},
   "source": [
    "$\\color{blue}{\\text{Definition }}$ Inner product (or dot product) of two n-vectors $a$ and $b$ is defined as :\n",
    "$$a^T b = a_1 b_1 + a_2 b_2 + a_3 b_3 + ... + a_n b_n$$\n",
    "\n",
    "- Denoted by : $〈a, b〉, 〈a|b〉, (a, b), a · b$.\n",
    "\n",
    "$\\color{blue}{\\text{Properties}}$\n",
    "- $a^T b = b^T a$\n",
    "- $(γa)^T b = γ(a^T b)$\n",
    "- $(a + b)^T c = a^T c + b^T c$\n",
    "\n",
    "$\\verb|Code|$\n",
    "```python\n",
    "a = np.array([1,2,3])\n",
    "b = np.array([8,2,4])\n",
    "c = np.inner(a,b)\n",
    "```"
   ]
  },
  {
   "cell_type": "code",
   "execution_count": null,
   "id": "55b552a4",
   "metadata": {},
   "outputs": [],
   "source": [
    "# Code demonstrating inner product of two arrays\n",
    "import numpy as np\n",
    "a = np.array([1,2,3])\n",
    "b = np.array([8,2,4])\n",
    "c = np.inner(a,b)\n",
    "d = a.T @ b\n",
    "print(c)\n",
    "print(d)"
   ]
  },
  {
   "cell_type": "markdown",
   "id": "456bb60d",
   "metadata": {},
   "source": [
    "$\\color{blue}{\\text{Exercise - 1}}$"
   ]
  },
  {
   "cell_type": "markdown",
   "id": "7393000b",
   "metadata": {},
   "source": [
    "A typical course utilizes several different weights for marks scored by a student across various tests such as quizzes, midterm and final over a quarter. Use the weight matrix W and marks obtained M to find the effective/total score obtained by a student.\n",
    "\n",
    "**Weight Matrix W**\n",
    "\n",
    "| Q   | M   | F   |\n",
    "|-----|-----|-----|\n",
    "| 0.2 | 0.3 | 0.5 |\n",
    "\n",
    "\n",
    "**Marks Obtained M**\n",
    "\n",
    "| Q  | M  | F  |\n",
    "|----|----|----|\n",
    "| 15 | 45 | 70 |\n",
    "\n",
    "*Hint: Use inner product*\n",
    "\n"
   ]
  },
  {
   "cell_type": "code",
   "execution_count": null,
   "id": "d1ee2a25",
   "metadata": {},
   "outputs": [],
   "source": [
    "# Exercise - 1\n",
    "# Add your code below\n",
    "\n"
   ]
  },
  {
   "cell_type": "markdown",
   "id": "53465674",
   "metadata": {},
   "source": [
    "[Go back to contents](#Contents)"
   ]
  },
  {
   "cell_type": "markdown",
   "id": "73f99679",
   "metadata": {},
   "source": [
    "## Linear Functions"
   ]
  },
  {
   "cell_type": "markdown",
   "id": "6ad0d51a",
   "metadata": {},
   "source": [
    "$\\color{#EF5645}{\\text{Definition }}$\n",
    "We say that $f$ satistifies the superposition property if:\n",
    "\n",
    "$$f(\\alpha x + \\beta y) = \\alpha f(x) + \\beta f(y)$$\n",
    "\n",
    "holds for all scalars $\\alpha, \\beta$ and all $n$-vectors $x, y$.\n",
    "\n",
    "Satifies superposition property $\\implies$ Linear\n",
    "\n",
    "**Example:** All innner product functions are linear functions."
   ]
  },
  {
   "cell_type": "markdown",
   "id": "bba5096d",
   "metadata": {},
   "source": [
    "## Affine Functions"
   ]
  },
  {
   "cell_type": "markdown",
   "id": "038ede3a",
   "metadata": {},
   "source": [
    "$\\color{#EF5645}{\\text{Definition }}$\n",
    "A function that is linear plus a constant is called affine. Its general form is:\n",
    "\n",
    "$$f(x) = a^Tx+b \\quad \\text{with $a$ an $n$-vector and $b$ a scalar}$$\n"
   ]
  },
  {
   "cell_type": "markdown",
   "id": "296e812e",
   "metadata": {},
   "source": [
    "## Gradient of a function\n",
    "\n",
    "\n",
    "$$\\nabla f(x) = \\left(\\frac{\\partial f}{\\partial x_1}(x), ..., \\frac{\\partial f}{\\partial x_n}(x)\\right).$$\n",
    "\n",
    "where $\\frac{\\partial}{\\partial x_i}$ is the partial derivative of $f$ with respect to the component $i$ of $x$."
   ]
  },
  {
   "cell_type": "markdown",
   "id": "9eb5d49d",
   "metadata": {},
   "source": [
    "[Go back to contents](#Contents)"
   ]
  },
  {
   "cell_type": "markdown",
   "id": "4fe0012d",
   "metadata": {},
   "source": [
    "## Norms"
   ]
  },
  {
   "cell_type": "markdown",
   "id": "2ddceb49",
   "metadata": {},
   "source": [
    "$\\color{#EF5645}{\\text{Euclidean Norm}}$\n",
    "\n",
    "Let $x$ be a n-dimensional vector i.e $$x = [x_1, x_2, ... x_n]$$\n",
    "\n",
    "Then the Euclidean norm (or just norm here) is given by:\n",
    "\n",
    "$$||x||_2 = ||x|| = \\sqrt{x_1^2 + x_2^2 + ... + x_n^2} = \\sqrt{x^T x}$$\n",
    "\n",
    "*Think about what would be $||x||_n$ in general*"
   ]
  },
  {
   "cell_type": "code",
   "execution_count": null,
   "id": "621041e4",
   "metadata": {},
   "outputs": [],
   "source": [
    "# Practice using numpy.linalg below\n",
    "\n",
    "import numpy as np\n",
    "x = np.array([1,2,7,-4])\n",
    "\n",
    "# All three methods have the same result, verify !\n",
    "print(np.linalg.norm(x))\n",
    "print(np.sqrt(np.inner(x,x)))\n",
    "print(np.sqrt(sum(x **2)))"
   ]
  },
  {
   "cell_type": "markdown",
   "id": "d470264e",
   "metadata": {},
   "source": [
    "$\\color{#EF5645}{\\text{Mean Square Value}}$\n",
    "\n",
    "$$ \\frac{x_1^2+ x_2^2+ ... + x_n^2}{n} = \\frac{||x||^2}{n}$$\n",
    "\n",
    "$\\color{#EF5645}{\\text{Root Mean Square (RMS) Value}}$\n",
    "\n",
    "$$rms(x) = \\sqrt{\\frac{x_1^2+ x_2^2+ ... + x_n^2}{n}}=\\frac{||x||}{\\sqrt{n}}$$\n"
   ]
  },
  {
   "cell_type": "markdown",
   "id": "45bbb4f4",
   "metadata": {},
   "source": [
    "$\\color{blue}{\\text{Exercise - 2}}$"
   ]
  },
  {
   "cell_type": "code",
   "execution_count": null,
   "id": "5ebfce4a",
   "metadata": {},
   "outputs": [],
   "source": [
    "# Exercise - 2 - write a function for L-P norm\n",
    "# DO NOT CHANGE SECTION 1 and SECTION 3\n",
    "# Add your code to SECTION 2\n",
    "\n",
    "\n",
    "# Section-1 (DON'T CHANGE)\n",
    "import numpy as np\n",
    "arr = np.array([4,5,2,7])\n",
    "\n",
    "\n",
    "# Section-2\n",
    "def l_p_norm(arr,p):\n",
    "    '''arr contains the array of numbers i.e vector\n",
    "    Write a function to find l-p norm of vector arr'''\n",
    "    # insert your code below\n",
    "    \n",
    "\n",
    "\n",
    "# Section-3 (DON'T CHANGE)\n",
    "try:\n",
    "    if(int(l_p_norm(arr,4))==7):\n",
    "        print(\"Correct !\")\n",
    "    else:\n",
    "        print(\"Something is wrong, please try again !\")\n",
    "    #break\n",
    "except TypeError:\n",
    "    print(\"Complete implementing the function and try again\")"
   ]
  },
  {
   "cell_type": "markdown",
   "id": "83821516",
   "metadata": {},
   "source": [
    "$\\color{#EF5645}{\\text{Norm of block vectors}}$"
   ]
  },
  {
   "cell_type": "markdown",
   "id": "b3a1bc75",
   "metadata": {},
   "source": [
    "Assume $d =[a, b, c]$ where $a,b,c$ are n-dimensional vectors. Then,\n",
    "$$||d||^2=a^T a + b^T b + c^T c = ||a||^2 + ||b||^2 + ||c||^2$$\n",
    "\n",
    "In other words:\n",
    "\n",
    "*Norm-squared value of stacked vector is equal to the sum of norm-squared values of individual vectors.*"
   ]
  },
  {
   "cell_type": "markdown",
   "id": "a5d452fe",
   "metadata": {},
   "source": [
    "$\\color{blue}{\\text{Exercise - 3}}$\n",
    "> **Hint:** You can reuse `l_p_norm(arr,p)` from the previous cell"
   ]
  },
  {
   "cell_type": "code",
   "execution_count": null,
   "id": "a650555c",
   "metadata": {},
   "outputs": [],
   "source": [
    "# Exercise 3 - Write a function to find l-2 norm of a block vector\n",
    "# DO NOT CHANGE SECTION 1 and SECTION 3\n",
    "# Add your code to SECTION 2\n",
    "\n",
    "\n",
    "# Section-1 (DON'T CHANGE)\n",
    "import numpy as np\n",
    "vecA = np.array([5,4,1])\n",
    "vecB = np.array([6,6,8])\n",
    "vecC = np.array([1,2,9])\n",
    "\n",
    "# stacking vecA, vecB, vecC side-by-side\n",
    "mat = np.stack((vecA,vecB,vecC),axis=1)\n",
    "\n",
    "\n",
    "# Section-2\n",
    "def block_norm(mat):\n",
    "    \"\"\"This function finds the l-2 norm of block vectors\"\"\"\n",
    "    # insert your code below\n",
    "\n",
    "\n",
    "# Section-3 (DON'T CHANGE)\n",
    "try:\n",
    "    if(int(block_norm(mat))==16):\n",
    "        print(\"Correct !\")\n",
    "    else:\n",
    "        print(\"Something is wrong, please try again !\")\n",
    "    #break\n",
    "except TypeError:\n",
    "    print(\"Complete implementing the function and try again\")"
   ]
  },
  {
   "cell_type": "markdown",
   "id": "7227a203",
   "metadata": {},
   "source": [
    "[Go back to contents](#Contents)"
   ]
  },
  {
   "cell_type": "markdown",
   "id": "21859b78",
   "metadata": {},
   "source": [
    "## Distance"
   ]
  },
  {
   "cell_type": "markdown",
   "id": "2eb037ab",
   "metadata": {},
   "source": [
    "The distance between two 2-dimensional points $(x_1,y_1), (x_2,y_2)$ is given by:\n",
    "$$d = \\sqrt{(x_2-x_1)^2 + (y_2-y_1)^2}$$\n",
    "\n",
    "The code to do this is shown below:"
   ]
  },
  {
   "cell_type": "code",
   "execution_count": null,
   "id": "80e127fa",
   "metadata": {},
   "outputs": [],
   "source": [
    "# This code finds the distance between two points (x1,y1) and (x2,y2)\n",
    "# Note that this is only for 2-dimensional points\n",
    "import numpy as np\n",
    "\n",
    "p1 = np.array([1,2])\n",
    "p2 = np.array([3,7])\n",
    "def dist_2d(p1,p2):\n",
    "    distance_squared = (p2[0]-p1[0])**2 + (p2[1]-p1[1])**2\n",
    "    return (np.sqrt(distance_squared))\n",
    "\n",
    "\n",
    "print(\"Distance between\", p1,\"and\", p2,\"is:\", dist_2d(p1,p2))\n",
    "    "
   ]
  },
  {
   "cell_type": "markdown",
   "id": "b93199f0",
   "metadata": {},
   "source": [
    "In general, the distance between two $n$-dimensional points $A \\:(a_1,a_2,...,a_n)$ and $B\\:(b_1,b_2,...,b_n)$ is given by:\n",
    "$$d = ||A-B||_2 = \\sqrt{(b_1-a_1)^2 + (b_2-a_2)^2 + ... + (b_n-a_n)^2}$$"
   ]
  },
  {
   "cell_type": "markdown",
   "id": "6089c779",
   "metadata": {},
   "source": [
    "Now build on the previous code to find the distance between two $n$-dimensional points."
   ]
  },
  {
   "cell_type": "markdown",
   "id": "7b751c81",
   "metadata": {},
   "source": [
    "$\\color{blue}{\\text{Exercise - 4}}$"
   ]
  },
  {
   "cell_type": "code",
   "execution_count": null,
   "id": "b08bb2d0",
   "metadata": {},
   "outputs": [],
   "source": [
    "# Exercise-4 : Implement a function to find the distance between two n-dimensional points\n",
    "# DO NOT CHANGE SECTION 2\n",
    "# Add your code to SECTION 1\n",
    "\n",
    "# Section-1 \n",
    "import numpy as np\n",
    "\n",
    "def dist_nd(p1, p2):\n",
    "    \"\"\"This function finds the distance between two n-dimensional vectors\"\"\"\n",
    "    #insert your code below\n",
    "\n",
    "\n",
    "    \n",
    "    \n",
    "# Section-2 (DON'T CHANGE)\n",
    "try:\n",
    "    \n",
    "    \n",
    "    p1 = np.array([1,2])\n",
    "    p2 = np.array([3,7])\n",
    "    if(int(dist_nd(p1,p2))==5):\n",
    "        print('Test case #1:')\n",
    "        print(\"Result : Correct\")\n",
    "    else:\n",
    "        print('Test case #1:')\n",
    "        print(\"Result: Incorrect\")\n",
    "    print(\"You found distance between\", p1,\"and\", p2,\"is:\", dist_nd(p1,p2))\n",
    "    \n",
    "\n",
    "    print('\\n\\nTest case #2:')\n",
    "    p1 = np.array([1,2,9,-2])\n",
    "    p2 = np.array([3,7,-4,-9])\n",
    "    if(int(dist_nd(p1,p2))==15):\n",
    "        print(\"Result : Correct\")\n",
    "    else:\n",
    "        print(\"Result: Incorrect\")\n",
    "    print(\"You found distance between\", p1,\"and\", p2,\"is:\", dist_nd(p1,p2))\n",
    "    \n",
    "except TypeError:\n",
    "    print(\"Complete implementing the function and try again\")    \n",
    "\n",
    "\n",
    "\n"
   ]
  },
  {
   "cell_type": "markdown",
   "id": "20305011",
   "metadata": {},
   "source": [
    "[Go back to contents](#Contents)"
   ]
  }
 ],
 "metadata": {
  "kernelspec": {
   "display_name": "Python 3",
   "language": "python",
   "name": "python3"
  },
  "language_info": {
   "codemirror_mode": {
    "name": "ipython",
    "version": 3
   },
   "file_extension": ".py",
   "mimetype": "text/x-python",
   "name": "python",
   "nbconvert_exporter": "python",
   "pygments_lexer": "ipython3",
   "version": "3.9.5"
  }
 },
 "nbformat": 4,
 "nbformat_minor": 5
}
